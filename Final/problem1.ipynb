{
 "cells": [
  {
   "cell_type": "markdown",
   "metadata": {
    "deletable": false,
    "editable": false,
    "nbgrader": {
     "grade": false,
     "locked": true,
     "solution": false
    }
   },
   "source": [
    "# Problem 1: Data Jobs\n",
    "\n",
    "_Version 1.3_\n",
    "\n",
    "Changelog:\n",
    "- v1.3: Additional clarifications on Exercise 2. [_Dec 4, 2019_]\n",
    "- v1.2: Revised explanation of how exercises depend upon one another. [_Dec 4, 2019_]\n",
    "- v1.1: Added clarifying instructions, reorganized some exercises, and tweaked the test code output. [_Dec 3, 2019_]\n",
    "- v1.0: Initial release candidate."
   ]
  },
  {
   "cell_type": "markdown",
   "metadata": {
    "deletable": false,
    "editable": false,
    "nbgrader": {
     "grade": false,
     "locked": true,
     "solution": false
    }
   },
   "source": [
    "In this problem, you'll scrape some web data on jobs related to data processing. It should be a straightforward data cleaning task, but ending with some interesting statistics about data-oriented careers that you may find interesting. The problem assesses your general Python and pandas skills.\n",
    "\n",
    "**Exercises.** There are a total of five (5) exercises, numbered 0-4, worth two (2) points each. Here is how they depend on one another.\n",
    "\n",
    "- Everything depends on Exercise 0. You have to get that right to make forward-progress.\n",
    "- Exercises 1 and 2 are independent of one another.\n",
    "- Exercise 3 depends on both Exercise 1 and 2.\n",
    "- Exercise 4 depends on both Exercise 1 and 2, but is independent of Exercise 3."
   ]
  },
  {
   "cell_type": "markdown",
   "metadata": {
    "deletable": false,
    "editable": false,
    "nbgrader": {
     "grade": false,
     "locked": true,
     "solution": false
    }
   },
   "source": [
    "## Setup\n",
    "\n",
    "Run the following code cell, which will import some modules you may need, as well as some required code for testing and data visualization."
   ]
  },
  {
   "cell_type": "code",
   "execution_count": 1,
   "metadata": {
    "collapsed": true,
    "deletable": false,
    "editable": false,
    "nbgrader": {
     "grade": false,
     "locked": true,
     "solution": false
    }
   },
   "outputs": [],
   "source": [
    "import sys ; sys.path.insert(0, './resource/asnlib/public')\n",
    "from cse6040utils import tibbles_left_matches_right, tibbles_are_equivalent, make_hash, pandas_df_to_markdown_table\n",
    "\n",
    "import pandas\n",
    "\n",
    "%matplotlib inline\n",
    "from matplotlib.pyplot import figure\n",
    "from seaborn import lineplot, barplot, color_palette, set_palette"
   ]
  },
  {
   "cell_type": "markdown",
   "metadata": {
    "deletable": false,
    "editable": false,
    "nbgrader": {
     "grade": false,
     "locked": true,
     "solution": false
    }
   },
   "source": [
    "## The dataset\n",
    "\n",
    "The data for this problem comes from the [H1B Visa Salary Database](https://h1bdata.info/index.php). When US-based companies want to hire highly skilled foreign professionals, they can petition the US government for a special type of visa for such workers to come or stay in the country. The data on which companies have submitted petitions, what base salaries they are proposing to pay such workers, and where the workers will work is publicly available. The H1B Visa Salary Database has aggregated this information from 2013-2019. While it applies to foreign workers only, we can still try to use it to get an idea of what kinds of jobs are available across various job categories and identify some possible trends.\n",
    "\n",
    "We have downloaded some of this data for the top five cities with the most H1B visa filings. They are New York, San Francisco, Houston, Chicago, and Atlanta. The data for each city is stored in its own file, which is the raw HTML file containing search results when you query the database for a particular city. Here is a screenshot of the query for Atlanta, including all job titles containing the exact substring `'DATA'`, and covering all years (2013-2019)."
   ]
  },
  {
   "cell_type": "markdown",
   "metadata": {
    "deletable": false,
    "editable": false,
    "nbgrader": {
     "grade": false,
     "locked": true,
     "solution": false
    }
   },
   "source": [
    "<img src=\"resource/asnlib/publicdata/example-h1b-db-results--atl-data-allyears.png\" alt=\"Example: H1B Visa Salary Database Results for 'ATLANTA'\" style=\"width: 800px;\"/>"
   ]
  },
  {
   "cell_type": "markdown",
   "metadata": {
    "deletable": false,
    "editable": false,
    "nbgrader": {
     "grade": false,
     "locked": true,
     "solution": false
    }
   },
   "source": [
    "Of course, the HTML output is not directly useful for analysis purposes, so let's start by extracting it and putting into a more usable form, namely, a pandas-based tibble. Then we can analyze it."
   ]
  },
  {
   "cell_type": "markdown",
   "metadata": {
    "deletable": false,
    "editable": false,
    "nbgrader": {
     "grade": false,
     "locked": true,
     "solution": false
    }
   },
   "source": [
    "## Data extraction"
   ]
  },
  {
   "cell_type": "markdown",
   "metadata": {
    "deletable": false,
    "editable": false,
    "nbgrader": {
     "grade": false,
     "locked": true,
     "solution": false
    }
   },
   "source": [
    "Although the raw data lives in HTML files, for this problem, you don't need to know anything about HTML to work with the data. However, you **do** need to be able to read some Python code, and use that to help you extract the data you'll need.\n",
    "\n",
    "In particular, we have provided you with some code that uses the Beautiful Soup module to grab all the rows from the table you see in the screenshot above. Even though learning that module was optional (Notebook 6, Part 1), at this point you should know enough Python that you can read some simple code that uses it and figure out how to adapt that code for your needs.\n",
    "\n",
    "By way of background, here are a few things to know about the data and the next code cell.\n",
    "\n",
    "- The data for a particular city is stored in a file whose name includes the three-letter code for the city. For example, Atlanta uses the code `atl`; the function, `dataset_path('atl.html')` will return the full file path for the HTML file.\n",
    "- The function `extract_table_rows()` can read one of these files, and then uses the Beautiful Soup module to extract the table data. You give the function the base filename as a string, like `'atl.html'`, and it returns a special object consisting of that data.\n",
    "\n",
    "Try running this code to see these two functions in action."
   ]
  },
  {
   "cell_type": "code",
   "execution_count": 2,
   "metadata": {
    "deletable": false,
    "editable": false,
    "nbgrader": {
     "grade": false,
     "locked": true,
     "solution": false
    }
   },
   "outputs": [
    {
     "name": "stdout",
     "output_type": "stream",
     "text": [
      "The table for Atlanta (`atl.html`) has 1582 rows, including the header.\n",
      "The returned object, `rows`, has type `<class 'bs4.element.ResultSet'>`.\n"
     ]
    }
   ],
   "source": [
    "def dataset_path(base_filename):\n",
    "    return f\"./resource/asnlib/publicdata/{base_filename}\"\n",
    "\n",
    "def extract_table_rows(city_html):\n",
    "    from bs4 import BeautifulSoup\n",
    "    with open(dataset_path(city_html)) as fp:\n",
    "        html = BeautifulSoup(fp.read(), 'lxml')\n",
    "    return html.find_all('tr')\n",
    "\n",
    "# Pick a city: Atlanta\n",
    "city, city_name = 'atl', \"Atlanta\"\n",
    "\n",
    "# Use `extract_table_rows` to get the table data\n",
    "rows = extract_table_rows(f\"{city}.html\")\n",
    "print(f\"The table for {city_name} (`{city}.html`) has {len(rows)} rows, including the header.\")\n",
    "print(f\"The returned object, `rows`, has type `{type(rows)}`.\")"
   ]
  },
  {
   "cell_type": "markdown",
   "metadata": {
    "deletable": false,
    "editable": false,
    "nbgrader": {
     "grade": false,
     "locked": true,
     "solution": false
    }
   },
   "source": [
    "The object that `extract_table_rows()` returns is still a special type of Beautiful Soup object. It is \"list-like.\" In particular, we can reference each row by an integer index and we can loop over the rows.\n",
    "\n",
    "These rows include the header row you see in the example above. That's the topmost row with the values, `'EMPLOYER'`, `'JOB TITLE'`, `'BASE SALARY'`, and so on. It is the object `rows[0]`. The first data row is `rows[1]`, and in the preceding screenshot is the row whose employer is `'PROTIVITI INC'`.\n",
    "\n",
    "Given one of the rows, how do you extract the values in that row? The following function, `inspect_html_table_row()`, shows you how. Since you are proficient in Python now, you should be able to study it, observe what happens when calling it on the header row (`rows[0]`), and have a good idea of how to pull out the column values in a given row."
   ]
  },
  {
   "cell_type": "code",
   "execution_count": 3,
   "metadata": {
    "deletable": false,
    "editable": false,
    "nbgrader": {
     "grade": false,
     "locked": true,
     "solution": false
    }
   },
   "outputs": [
    {
     "name": "stdout",
     "output_type": "stream",
     "text": [
      "=== HEADER ===\n",
      "\n",
      "[0] 'EMPLOYER'\n",
      "  - Type: <class 'bs4.element.Tag'>\n",
      "  - Raw HTML: '<th>EMPLOYER</th>'\n",
      "[1] 'JOB TITLE'\n",
      "  - Type: <class 'bs4.element.Tag'>\n",
      "  - Raw HTML: '<th>JOB TITLE</th>'\n",
      "[2] 'BASE SALARY'\n",
      "  - Type: <class 'bs4.element.Tag'>\n",
      "  - Raw HTML: '<th>BASE SALARY</th>'\n",
      "[3] 'LOCATION'\n",
      "  - Type: <class 'bs4.element.Tag'>\n",
      "  - Raw HTML: '<th>LOCATION</th>'\n",
      "[4] 'SUBMIT DATE'\n",
      "  - Type: <class 'bs4.element.Tag'>\n",
      "  - Raw HTML: '<th data-date-format=\"mm/dd/yy\">SUBMIT DATE</th>'\n",
      "[5] 'START DATE'\n",
      "  - Type: <class 'bs4.element.Tag'>\n",
      "  - Raw HTML: '<th data-date-format=\"mm/dd/yy\">START DATE</th>'\n",
      "[6] 'CASE STATUS'\n",
      "  - Type: <class 'bs4.element.Tag'>\n",
      "  - Raw HTML: '<th>CASE STATUS</th>'\n"
     ]
    }
   ],
   "source": [
    "def inspect_html_table_row(row, frontmatter=None):\n",
    "    if frontmatter is not None:\n",
    "        print(frontmatter)\n",
    "    cols = list(row)\n",
    "    for col_num, col in enumerate(cols):\n",
    "        print(\"[{}] '{}'\".format(col_num, col.text))\n",
    "        print(\"  - Type: {}\".format(type(col)))\n",
    "        print(\"  - Raw HTML: '{}'\".format(str(col)))\n",
    "\n",
    "header = rows[0]\n",
    "inspect_html_table_row(header, frontmatter=\"=== HEADER ===\\n\") # Header row"
   ]
  },
  {
   "cell_type": "markdown",
   "metadata": {
    "deletable": false,
    "editable": false,
    "nbgrader": {
     "grade": false,
     "locked": true,
     "solution": false
    }
   },
   "source": [
    "Similarly, observe what happens when we apply that same `inspect_html_table_row()` function to the very first row (`rows[1]`) as well as the last one (`rows[-1]`)."
   ]
  },
  {
   "cell_type": "code",
   "execution_count": 4,
   "metadata": {
    "deletable": false,
    "editable": false,
    "nbgrader": {
     "grade": false,
     "locked": true,
     "solution": false
    }
   },
   "outputs": [
    {
     "name": "stdout",
     "output_type": "stream",
     "text": [
      "=== FIRST DATA ROW (`rows[1]`) ===\n",
      "\n",
      "[0] 'PROTIVITI INC'\n",
      "  - Type: <class 'bs4.element.Tag'>\n",
      "  - Raw HTML: '<td><a href=\"index.php?em=PROTIVITI+INC&amp;job=DATA&amp;city=ATLANTA&amp;year=ALL+YEARS\">PROTIVITI INC</a></td>'\n",
      "[1] 'DATA & ANALYTICS BUSINESS INTELLIGENCE MANAGER'\n",
      "  - Type: <class 'bs4.element.Tag'>\n",
      "  - Raw HTML: '<td><a href=\"index.php?em=&amp;job=DATA+%26+ANALYTICS+BUSINESS+INTELLIGENCE+MANAGER&amp;city=ATLANTA&amp;year=ALL+YEARS\">DATA &amp; ANALYTICS BUSINESS INTELLIGENCE MANAGER</a></td>'\n",
      "[2] '97,718'\n",
      "  - Type: <class 'bs4.element.Tag'>\n",
      "  - Raw HTML: '<td>97,718</td>'\n",
      "[3] 'ATLANTA, GA'\n",
      "  - Type: <class 'bs4.element.Tag'>\n",
      "  - Raw HTML: '<td><a href=\"index.php?em=&amp;job=DATA&amp;city=ATLANTA&amp;year=ALL+YEARS\">ATLANTA, GA</a></td>'\n",
      "[4] '12/04/2015'\n",
      "  - Type: <class 'bs4.element.Tag'>\n",
      "  - Raw HTML: '<td>12/04/2015</td>'\n",
      "[5] '01/01/2016'\n",
      "  - Type: <class 'bs4.element.Tag'>\n",
      "  - Raw HTML: '<td>01/01/2016</td>'\n",
      "[6] 'CERTIFIED'\n",
      "  - Type: <class 'bs4.element.Tag'>\n",
      "  - Raw HTML: '<td>CERTIFIED</td>'\n"
     ]
    }
   ],
   "source": [
    "first_data_row = rows[1]\n",
    "inspect_html_table_row(first_data_row, frontmatter=\"=== FIRST DATA ROW (`rows[1]`) ===\\n\")"
   ]
  },
  {
   "cell_type": "code",
   "execution_count": 5,
   "metadata": {
    "deletable": false,
    "editable": false,
    "nbgrader": {
     "grade": false,
     "locked": true,
     "solution": false
    }
   },
   "outputs": [
    {
     "name": "stdout",
     "output_type": "stream",
     "text": [
      "=== LAST DATA ROW (`rows[-1]`) ===\n",
      "\n",
      "[0] 'VENSIT CORP'\n",
      "  - Type: <class 'bs4.element.Tag'>\n",
      "  - Raw HTML: '<td><a href=\"index.php?em=VENSIT+CORP&amp;job=DATA&amp;city=ATLANTA&amp;year=ALL+YEARS\">VENSIT CORP</a></td>'\n",
      "[1] 'DATAWAREHOUSING SPECIALIST'\n",
      "  - Type: <class 'bs4.element.Tag'>\n",
      "  - Raw HTML: '<td><a href=\"index.php?em=&amp;job=DATAWAREHOUSING+SPECIALIST&amp;city=ATLANTA&amp;year=ALL+YEARS\">DATAWAREHOUSING SPECIALIST</a></td>'\n",
      "[2] '69,500'\n",
      "  - Type: <class 'bs4.element.Tag'>\n",
      "  - Raw HTML: '<td>69,500</td>'\n",
      "[3] 'ATLANTA, GA'\n",
      "  - Type: <class 'bs4.element.Tag'>\n",
      "  - Raw HTML: '<td><a href=\"index.php?em=&amp;job=DATA&amp;city=ATLANTA&amp;year=ALL+YEARS\">ATLANTA, GA</a></td>'\n",
      "[4] '11/17/2016'\n",
      "  - Type: <class 'bs4.element.Tag'>\n",
      "  - Raw HTML: '<td>11/17/2016</td>'\n",
      "[5] '12/05/2016'\n",
      "  - Type: <class 'bs4.element.Tag'>\n",
      "  - Raw HTML: '<td>12/05/2016</td>'\n",
      "[6] 'CERTIFIED'\n",
      "  - Type: <class 'bs4.element.Tag'>\n",
      "  - Raw HTML: '<td>CERTIFIED</td>'\n"
     ]
    }
   ],
   "source": [
    "last_data_row = rows[-1]\n",
    "inspect_html_table_row(last_data_row, frontmatter=\"=== LAST DATA ROW (`rows[-1]`) ===\\n\")"
   ]
  },
  {
   "cell_type": "markdown",
   "metadata": {
    "deletable": false,
    "editable": false,
    "nbgrader": {
     "grade": false,
     "locked": true,
     "solution": false
    }
   },
   "source": [
    "**Exercise 0** (2 points). Given the HTML results of a H1B jobs query, reconstruct the results as a tibble, stored as a pandas `DataFrame`.\n",
    "\n",
    "In particular, complete the function, `raw_rows_to_pandas(rows)`, in the code cell below. The input `rows` contains the raw HTML table rows as returned by `extract_table_rows()`. You may assume the following about `rows`:\n",
    "\n",
    "- It contains only the data rows, **not** the header row.\n",
    "- The correspondence between columns follows the example from above. That is, the first column (column 0) has `EMPLOYER` values, the second (column 1) has `JOB TITLE` values, the third (column 2) has `BASE SALARY` values, and so on.\n",
    "\n",
    "The function should return a pandas `DataFrame` object with the following columns:\n",
    "\n",
    "- `EMPLOYER`: The value of the `EMPLOYER` field from the HTML table, as a string.\n",
    "- `JOB TITLE`: The value of the `JOB TITLE` field, as a string.\n",
    "- `LOCATION`: The value of the `LOCATION` field, as a string.\n",
    "- `BASE SALARY`: The value of the `BASE SALARY` field, as an integer.\n",
    "- `YEAR`: The 4-digit year extracted from the `SUBMIT DATE` field, converted to an integer.\n",
    "\n",
    "Your result should **omit** any row where the `CASE STATUS` field does **not** equal the string, `'CERTIFIED'`.\n",
    "\n",
    "_Example._ For the first and last data rows shown above, the corresponding rows of the pandas `DataFrame` would look like the following:\n",
    "\n",
    "| EMPLOYER      | JOB TITLE                                      | LOCATION    | BASE SALARY | YEAR |\n",
    "|---------------|------------------------------------------------|-------------|-------------|------|\n",
    "| PROTIVITI INC | DATA & ANALYTICS BUSINESS INTELLIGENCE MANAGER | ATLANTA, GA | 97718       | 2015 |\n",
    "| ...           | ...                                            | ...         | ...         | ...  |\n",
    "| VENSIT CORP   | DATAWAREHOUSING SPECIALIST                     | ATLANTA, GA | 69500       | 2016 |\n",
    "\n",
    "Both of these rows have `CASE STATUS` equal to `'CERTIFIED'`, so they are included in the output tibble. (However, the column `CASE STATUS` should **not** be part of the output.)\n",
    "\n",
    "> _Note 0:_ The ordering of rows and columns does not matter for this problem. The index should be a default index; the simplest way to ensure that is to call `.reset_index()` before returning the final `DataFrame` object.\n",
    ">\n",
    "> _Note 1:_ If you are unclear on how to extract the values, refer back to `inspect_html_table_row()` for a hint.\n",
    ">\n",
    "> _Note 2:_ Observe that the raw base salaries are strings with pesky embedded commas. You'll need to deal with those."
   ]
  },
  {
   "cell_type": "code",
   "execution_count": 6,
   "metadata": {},
   "outputs": [
    {
     "name": "stdout",
     "output_type": "stream",
     "text": [
      "Found 1494 rows\n"
     ]
    },
    {
     "data": {
      "text/html": [
       "<div>\n",
       "<style scoped>\n",
       "    .dataframe tbody tr th:only-of-type {\n",
       "        vertical-align: middle;\n",
       "    }\n",
       "\n",
       "    .dataframe tbody tr th {\n",
       "        vertical-align: top;\n",
       "    }\n",
       "\n",
       "    .dataframe thead th {\n",
       "        text-align: right;\n",
       "    }\n",
       "</style>\n",
       "<table border=\"1\" class=\"dataframe\">\n",
       "  <thead>\n",
       "    <tr style=\"text-align: right;\">\n",
       "      <th></th>\n",
       "      <th>EMPLOYER</th>\n",
       "      <th>JOB TITLE</th>\n",
       "      <th>LOCATION</th>\n",
       "      <th>BASE SALARY</th>\n",
       "      <th>YEAR</th>\n",
       "    </tr>\n",
       "  </thead>\n",
       "  <tbody>\n",
       "    <tr>\n",
       "      <th>100</th>\n",
       "      <td>INTERCONTINENTAL EXCHANGE HOLDINGS INC</td>\n",
       "      <td>DATA ANALYST</td>\n",
       "      <td>ATLANTA, GA</td>\n",
       "      <td>70500</td>\n",
       "      <td>2019</td>\n",
       "    </tr>\n",
       "    <tr>\n",
       "      <th>1073</th>\n",
       "      <td>SREE INFOTECH LLC</td>\n",
       "      <td>DATABASE ADMINISTRATOR</td>\n",
       "      <td>ATLANTA, GA</td>\n",
       "      <td>66000</td>\n",
       "      <td>2015</td>\n",
       "    </tr>\n",
       "    <tr>\n",
       "      <th>183</th>\n",
       "      <td>CAPGEMINI AMERICA INC</td>\n",
       "      <td>DATA ANALYST</td>\n",
       "      <td>ATLANTA, GA</td>\n",
       "      <td>74200</td>\n",
       "      <td>2016</td>\n",
       "    </tr>\n",
       "    <tr>\n",
       "      <th>80</th>\n",
       "      <td>CAPGEMINI AMERICA INC</td>\n",
       "      <td>DATA ANALYST</td>\n",
       "      <td>ATLANTA, GA</td>\n",
       "      <td>65800</td>\n",
       "      <td>2016</td>\n",
       "    </tr>\n",
       "    <tr>\n",
       "      <th>1457</th>\n",
       "      <td>SYSTECHCORP INC</td>\n",
       "      <td>DATABASE DEVELOPER</td>\n",
       "      <td>ATLANTA,, GA</td>\n",
       "      <td>77600</td>\n",
       "      <td>2019</td>\n",
       "    </tr>\n",
       "  </tbody>\n",
       "</table>\n",
       "</div>"
      ],
      "text/plain": [
       "                                    EMPLOYER               JOB TITLE  \\\n",
       "100   INTERCONTINENTAL EXCHANGE HOLDINGS INC            DATA ANALYST   \n",
       "1073                       SREE INFOTECH LLC  DATABASE ADMINISTRATOR   \n",
       "183                    CAPGEMINI AMERICA INC            DATA ANALYST   \n",
       "80                     CAPGEMINI AMERICA INC            DATA ANALYST   \n",
       "1457                         SYSTECHCORP INC      DATABASE DEVELOPER   \n",
       "\n",
       "          LOCATION  BASE SALARY  YEAR  \n",
       "100    ATLANTA, GA        70500  2019  \n",
       "1073   ATLANTA, GA        66000  2015  \n",
       "183    ATLANTA, GA        74200  2016  \n",
       "80     ATLANTA, GA        65800  2016  \n",
       "1457  ATLANTA,, GA        77600  2019  "
      ]
     },
     "execution_count": 6,
     "metadata": {},
     "output_type": "execute_result"
    }
   ],
   "source": [
    "import numpy as np\n",
    "\n",
    "def raw_rows_to_pandas(rows):\n",
    "    df = pandas.DataFrame(columns=['EMPLOYER', 'JOB TITLE', 'LOCATION','BASE SALARY','YEAR'])\n",
    "    row = list(rows)\n",
    "    for r in row:\n",
    "        row_data = list(r)\n",
    "        #print (row_data[1].text)\n",
    "        data = list()\n",
    "        if row_data[6].text == 'CERTIFIED':\n",
    "            data.append(str(row_data[0].text))\n",
    "            data.append(str(row_data[1].text))\n",
    "            data.append(str(row_data[3].text))\n",
    "            data.append(int(str(row_data[2].text).replace(',','')))\n",
    "            data.append(int(str(row_data[4].text)[-4:]))\n",
    "            df.loc[len(df)] = data\n",
    "    df['BASE SALARY'] = df['BASE SALARY'].astype('int')\n",
    "    df['YEAR'] = df['YEAR'].astype('int')\n",
    "    return df\n",
    "    \n",
    "# Demo:\n",
    "#raw_rows_to_pandas(rows)\n",
    "atl = raw_rows_to_pandas(rows[1:])\n",
    "print(\"Found\", len(atl), \"rows\")\n",
    "atl.sample(5)"
   ]
  },
  {
   "cell_type": "code",
   "execution_count": 7,
   "metadata": {},
   "outputs": [
    {
     "data": {
      "text/plain": [
       "EMPLOYER       object\n",
       "JOB TITLE      object\n",
       "LOCATION       object\n",
       "BASE SALARY     int64\n",
       "YEAR            int64\n",
       "dtype: object"
      ]
     },
     "execution_count": 7,
     "metadata": {},
     "output_type": "execute_result"
    }
   ],
   "source": [
    "atl.dtypes"
   ]
  },
  {
   "cell_type": "code",
   "execution_count": 8,
   "metadata": {
    "deletable": false,
    "editable": false,
    "nbgrader": {
     "grade": true,
     "grade_id": "exercise0__raw_rows_to_pandas",
     "locked": true,
     "points": "2",
     "solution": false
    }
   },
   "outputs": [
    {
     "name": "stdout",
     "output_type": "stream",
     "text": [
      "\n",
      "(Passed.)\n"
     ]
    }
   ],
   "source": [
    "# Test cell: `exercise0__raw_rows_to_pandas`\n",
    "\n",
    "# The following may indicate the presence of hidden tests in this cell,\n",
    "# but in fact, there are none.\n",
    "###\n",
    "### AUTOGRADER TEST - DO NOT REMOVE\n",
    "###\n",
    "\n",
    "def check0():\n",
    "    from pandas import read_csv\n",
    "    from numpy import issubdtype, integer\n",
    "    rows = extract_table_rows('atl.html')\n",
    "    df = raw_rows_to_pandas(rows[1:])\n",
    "    df_soln_hashed = read_csv(dataset_path(f\"ex0_atl_soln.csv\"))\n",
    "    assert set(df.columns) == {'EMPLOYER', 'JOB TITLE', 'LOCATION', 'BASE SALARY', 'YEAR'}, \\\n",
    "           f\"Your output has these columns, which don't match our requirements:\\n{set(df.columns)}.\"\n",
    "    for col in ['EMPLOYER', 'JOB TITLE', 'LOCATION']:\n",
    "        assert df[col].apply(lambda x: isinstance(x, str)).all(), \\\n",
    "               f\"Column '{col}' may have one or more values that are not strings.\"\n",
    "    for col in ['BASE SALARY', 'YEAR']:\n",
    "        assert df[col].apply(lambda x: isinstance(x, int)).all(), \\\n",
    "               f\"Column '{col}' may have one or more values that are not of type `int`.\"\n",
    "    assert len(df) == len(df_soln_hashed), \\\n",
    "           f\"Expected {len(df_soln_hashed)} rows in the table, but you have {len(df)}.\"\n",
    "    assert tibbles_left_matches_right(df, df_soln_hashed, hash_A=True, verbose=True), \\\n",
    "           \"Your solution does not match what we expected to see. Please try again!\"\n",
    "    \n",
    "check0()\n",
    "\n",
    "print(\"\\n(Passed.)\")"
   ]
  },
  {
   "cell_type": "markdown",
   "metadata": {
    "deletable": false,
    "editable": false,
    "nbgrader": {
     "grade": false,
     "locked": true,
     "solution": false
    }
   },
   "source": [
    "## Exercises: Data filtering\n",
    "\n",
    "For your first task, let's take a peek at the data and consider some different types of filtering we might want to do."
   ]
  },
  {
   "cell_type": "markdown",
   "metadata": {
    "deletable": false,
    "editable": false,
    "nbgrader": {
     "grade": false,
     "locked": true,
     "solution": false
    }
   },
   "source": [
    "To start, here is a list of all the unique job titles in the Atlanta data:"
   ]
  },
  {
   "cell_type": "code",
   "execution_count": 9,
   "metadata": {
    "deletable": false,
    "editable": false,
    "nbgrader": {
     "grade": false,
     "locked": true,
     "solution": false
    }
   },
   "outputs": [
    {
     "name": "stdout",
     "output_type": "stream",
     "text": [
      "There are 198 unique job titles in the Atlanta dataset.\n",
      "They are:\n",
      "['DATA & ANALYTICS BUSINESS INTELLIGENCE MANAGER'\n",
      " 'DATA & ANALYTICS ENGINEER'\n",
      " 'DATA & ANALYTICS ETL DEVELOPER SENIOR CONSULTANT'\n",
      " 'DATA & DECISION SCIENCE MANAGER' 'DATA & INSIGHT ANALYST'\n",
      " 'DATA ANALYSIS & SIMULATION PROF'\n",
      " 'DATA ANALYSIS & SIMULATION PROFESSIONAL' 'DATA ANALYST'\n",
      " 'DATA ANALYST  DEVELOPER' 'DATA ANALYST  IT SPECIALIST'\n",
      " 'DATA ANALYST  TESTER'\n",
      " 'DATA ANALYST - INFORMATION MANAGEMENT AND GOVERNANCE'\n",
      " 'DATA ANALYST - ITEM MANAGEMENT' 'DATA ANALYST - SUPPLY CHAIN'\n",
      " 'DATA ANALYST 1' 'DATA ANALYST 2' 'DATA ANALYST 3' 'DATA ANALYST 4'\n",
      " 'DATA ANALYST ENGINEER' 'DATA ANALYST ENVIRONMENTAL' 'DATA ANALYST I'\n",
      " 'DATA ANALYST II' 'DATA ANALYST III' 'DATA ANALYST JR. EPIDEMIOLOGIST'\n",
      " 'DATA ANALYST LEAD - INFORMATICA ADMINISTRATOR' 'DATA ANALYST SC'\n",
      " 'DATA ANALYST SR.' 'DATA ANALYST SUPPLY CHAIN'\n",
      " 'DATA ANALYST, DATA AND ANALYTICS' 'DATA ANALYTIC SCIENTIST'\n",
      " 'DATA ANALYTICS' 'DATA ANALYTICS & OPERATIONS RESEARCH ANALYST'\n",
      " 'DATA ANALYTICS ANALYST II' 'DATA ANALYTICS AND WRANGLING'\n",
      " 'DATA ANALYTICS AND WRANGLING - CAREER' 'DATA ANALYTICS ASSOCIATE'\n",
      " 'DATA ANALYTICS AUDITOR' 'DATA ANALYTICS MANAGER'\n",
      " 'DATA ANALYTICS MANAGER - INTEGRATION'\n",
      " 'DATA ANALYTICS PLATFORM ARCHITECT' 'DATA ANALYTICS SCIENTIST'\n",
      " 'DATA ANALYTICS SENIOR ASSOCIATE' 'DATA ANALYTICS, SUPERVISOR'\n",
      " 'DATA AND ANALYTICS ENGINEER' 'DATA AND DECISION SCIENCE SENIOR ANALYST'\n",
      " 'DATA AND QUALITY ASSURANCE ANALYST' 'DATA AND SYSTEMS ENGINEER'\n",
      " 'DATA APPLICATION DEVELOPER' 'DATA ARCHITECT'\n",
      " 'DATA ARCHITECT ADVISOR DATABASE ARCHITECTS' 'DATA ARCHITECT I'\n",
      " 'DATA ARCHITECT SENIOR ADVISOR' 'DATA ARCHITECT SOFTWARE DEVELOPER'\n",
      " 'DATA ARCHITECT, DATA LAKE & ANALYTICS' 'DATA ARCHITECTURE CONSULTANT'\n",
      " 'DATA BASE PROGRAMMER ANALYST' 'DATA CENTER NETWORK ENGINEER'\n",
      " 'DATA CENTER SUPPORT ENGINEER' 'DATA COMMUNICATIONS ENGINEER'\n",
      " 'DATA ENERGY ANALYST' 'DATA ENGINEER' 'DATA ENGINEER  HADOOP DEVELOPER'\n",
      " 'DATA ENGINEER ANALYST SENIOR' 'DATA ENGINEER II' 'DATA ENGINEER III'\n",
      " 'DATA ENGINEERING ASSOCIATE MANAGER' 'DATA ENGINEERING SENIOR ANALYST'\n",
      " 'DATA GOVERNANCE CONSULTANT' 'DATA GUARD ENGINEER'\n",
      " 'DATA INFRASTRUCTURE & VISUALIZATION ENGINEER'\n",
      " 'DATA INTEGRATION CONSULTANT SOFTWARE DEVELOPER'\n",
      " 'DATA INTEGRATION DESIGNER' 'DATA INTEGRATION DEVELOPER'\n",
      " 'DATA INTEGRATION DEVELOPER II' 'DATA INTEGRATION LEAD'\n",
      " 'DATA INTEGRATION SPECIALIST'\n",
      " 'DATA INTEGRATION SPECIALIST - ANALYTICS IT' 'DATA INTEGRITY ANALYST'\n",
      " 'DATA INTEGRITY MANAGER' 'DATA MANAGEMENT ANALYST'\n",
      " 'DATA MANAGEMENT SPECIALIST' 'DATA MANAGEMENT SUPPORT SPECIALIST'\n",
      " 'DATA MANAGER' 'DATA MINING ANALYST' 'DATA MODELER'\n",
      " 'DATA MODELER ANALYST' 'DATA MODELER DATA ARCHITECT'\n",
      " 'DATA MODELER DEVELOPER' 'DATA MODELER SENIOR'\n",
      " 'DATA MODELING ANALYST EXPERT' 'DATA MODELLER'\n",
      " 'DATA ONBOARDING & PROCESSING TECH LEAD' 'DATA OPERATIONS ASSOCIATE'\n",
      " 'DATA PLATFORM ENGINEER' 'DATA PROCESSING GROUP LEADER'\n",
      " 'DATA QUALITY ANALYST' 'DATA QUALITY ANALYST  DEVELOPER'\n",
      " 'DATA QUALITY ANALYST DEVELOPER' 'DATA QUALITY LEAD'\n",
      " 'DATA REPORTING ANALYST' 'DATA REPORTING SPECIALIST'\n",
      " 'DATA RESEARCH ANALYST, FINANCIAL PLANNING & ANALYSIS'\n",
      " 'DATA SCIENCE ANALYST' 'DATA SCIENCE AND ANALYTICS MANAGER'\n",
      " 'DATA SCIENCE CONSULTANT' 'DATA SCIENCE LEAD' 'DATA SCIENTIST'\n",
      " 'DATA SCIENTIST  ENGINEER SENIOR' 'DATA SCIENTIST - CAREER'\n",
      " 'DATA SCIENTIST - FLIGHT SAFETY' 'DATA SCIENTIST - INTERMEDIATE'\n",
      " 'DATA SCIENTIST - ONLINE' 'DATA SCIENTIST - SPACE OPTIMIZATION'\n",
      " 'DATA SCIENTIST 1' 'DATA SCIENTIST I' 'DATA SCIENTIST II'\n",
      " 'DATA SCIENTIST PRICING' 'DATA SCIENTIST, ADVANCED ANALYTICS'\n",
      " 'DATA SCIENTIST-CONSUMER CLIENT & CHANNEL ANALYTICS'\n",
      " 'DATA SCIENTIST-TRANSFORMATION' 'DATA SCIETIST' 'DATA SOFTWARE ENGINEER'\n",
      " 'DATA SOLUTIONS AND REPORTING MANAGER' 'DATA SOLUTIONS ENGINEER'\n",
      " 'DATA SPECIALIST' 'DATA STORAGE ADMINSTRATOR' 'DATA SUPPORT ANALYST'\n",
      " 'DATA TRANSFER ANALYST' 'DATA VISUALIZATION - CAREER'\n",
      " 'DATA VISUALIZATION ANALYST'\n",
      " 'DATA WAREHOUS BUSINESS INTELLIGENCE DEVELOPMENT SPECIALIST'\n",
      " 'DATA WAREHOUSE ARCHITECT' 'DATA WAREHOUSE BUSINESS OBJECTS LEAD'\n",
      " 'DATA WAREHOUSE CONSULTANT' 'DATA WAREHOUSE DEVELOPER'\n",
      " 'DATA WAREHOUSE ENGINEER' 'DATA WAREHOUSE ETL DEVELOPER'\n",
      " 'DATA WAREHOUSE QA ANALYST' 'DATA WAREHOUSE SPECIALIST'\n",
      " 'DATA WAREHOUSE SPECIALSTS' 'DATA WAREHOUSING SPECIALIST'\n",
      " 'DATABASE  REPORTS ANALYST' 'DATABASE ADMIN' 'DATABASE ADMINISRATORS'\n",
      " 'DATABASE ADMINISTRATION ADVISOR' 'DATABASE ADMINISTRATION CONSULTANT'\n",
      " 'DATABASE ADMINISTRATOR' 'DATABASE ADMINISTRATOR - CAREER'\n",
      " 'DATABASE ADMINISTRATOR - IT' 'DATABASE ADMINISTRATOR 2'\n",
      " 'DATABASE ADMINISTRATOR 3' 'DATABASE ADMINISTRATOR ADVISOR'\n",
      " 'DATABASE ADMINISTRATOR ANALYST' 'DATABASE ADMINISTRATOR DBA'\n",
      " 'DATABASE ADMINISTRATOR DBA & ETL DEVELOPER'\n",
      " 'DATABASE ADMINISTRATOR DEVELOPER' 'DATABASE ADMINISTRATOR II'\n",
      " 'DATABASE ADMINISTRATOR III' 'DATABASE ADMINISTRATOR IV'\n",
      " 'DATABASE ADMINISTRATOR LEVEL 1' 'DATABASE ADMINISTRATOR ORACLE'\n",
      " 'DATABASE ADMINISTRATOR ORCLE DBA'\n",
      " 'DATABASE ADMINISTRATOR PRINCIPAL CONSULTANT'\n",
      " 'DATABASE ADMINISTRATOR SENIOR'\n",
      " 'DATABASE ADMINISTRATOR SOFTWARE DEVELOPER' 'DATABASE ADMINISTRATOR SQL'\n",
      " 'DATABASE ADMINISTRATOR TERADATA APPLICATION' 'DATABASE ADMINISTRATORS'\n",
      " 'DATABASE ADMINISTROR' 'DATABASE ADMINSTRATOR' 'DATABASE ANALYST'\n",
      " 'DATABASE ANALYST DEVELOPER' 'DATABASE ANALYST III'\n",
      " 'DATABASE AND BUSINESS INTELLIGENCE BI DEVELOPER'\n",
      " 'DATABASE AND NETWORK ADMINISTRATOR' 'DATABASE ARCHITECT'\n",
      " 'DATABASE ARCHITECT ADMINISTRATOR' 'DATABASE CONSULTANT'\n",
      " 'DATABASE DEVELOPER' 'DATABASE DEVELOPER ADMINISTRATOR'\n",
      " 'DATABASE DEVELOPER SOFTWARE DEVELOPER'\n",
      " 'DATABASE DEVELOPMENT ENGINEER TECH LEAD' 'DATABASE ENGINEER'\n",
      " 'DATABASE ENGINEER 4' 'DATABASE ENGINEER II'\n",
      " 'DATABASE INFRASTRUCTURE SPECIALIST'\n",
      " 'DATABASE MANAGEMENT PROJECT MANAGER' 'DATABASE MARKETING ANALYST'\n",
      " 'DATABASE MARKETING COORDINATOR' 'DATABASE MARKETING MANAGER'\n",
      " 'DATABASE MARKETING SPECIALIST' 'DATABASE MARKETING STRATEGIST'\n",
      " 'DATABASE PROGRAMMER' 'DATASTAGE DEVELOPER' 'DATASTAGETERADA DEVELOPER'\n",
      " 'DATAWAREHOUSE ENGINEER SOFTWARE ENGINEER'\n",
      " 'DATAWAREHOUSE T-SQL DEVELOPER' 'DATAWAREHOUSING SPECIALIST']\n"
     ]
    }
   ],
   "source": [
    "atl_job_titles = atl['JOB TITLE'].unique()\n",
    "print(f\"There are {len(atl_job_titles)} unique job titles in the Atlanta dataset.\")\n",
    "print(f\"They are:\\n{atl_job_titles}\")"
   ]
  },
  {
   "cell_type": "markdown",
   "metadata": {
    "deletable": false,
    "editable": false,
    "nbgrader": {
     "grade": false,
     "locked": true,
     "solution": false
    }
   },
   "source": [
    "The next code cell defines a function, `subset_series_str(s, pattern)`, that we'll find handy. Given a pandas `Series` object, `s`, that contains strings, this function returns the subset of `s` where the regular expression pattern `pattern` matches. Read the code inside this function and run the cell."
   ]
  },
  {
   "cell_type": "code",
   "execution_count": 10,
   "metadata": {
    "collapsed": true,
    "deletable": false,
    "editable": false,
    "nbgrader": {
     "grade": false,
     "locked": true,
     "solution": false
    }
   },
   "outputs": [],
   "source": [
    "def subset_series_str(s, pattern):\n",
    "    \"\"\"Given a Series object, `s`, returns the subset containing the regular expression `pattern`.\"\"\"\n",
    "    from pandas import Series\n",
    "    if not isinstance(s, Series):\n",
    "        s = Series(s) # Attempt to convert...\n",
    "    return s[s.str.contains(pattern)]"
   ]
  },
  {
   "cell_type": "markdown",
   "metadata": {
    "deletable": false,
    "editable": false,
    "nbgrader": {
     "grade": false,
     "locked": true,
     "solution": false
    }
   },
   "source": [
    "As a quick demo, let's use this function to find all job titles containing the word `'DATA'` followed by the word `'SCIENTIST'`, possibly with arbitrary text in between the two words."
   ]
  },
  {
   "cell_type": "code",
   "execution_count": 11,
   "metadata": {
    "deletable": false,
    "editable": false,
    "nbgrader": {
     "grade": false,
     "locked": true,
     "solution": false
    }
   },
   "outputs": [
    {
     "data": {
      "text/plain": [
       "29                               DATA ANALYTIC SCIENTIST\n",
       "40                              DATA ANALYTICS SCIENTIST\n",
       "106                                       DATA SCIENTIST\n",
       "107                      DATA SCIENTIST  ENGINEER SENIOR\n",
       "108                              DATA SCIENTIST - CAREER\n",
       "109                       DATA SCIENTIST - FLIGHT SAFETY\n",
       "110                        DATA SCIENTIST - INTERMEDIATE\n",
       "111                              DATA SCIENTIST - ONLINE\n",
       "112                  DATA SCIENTIST - SPACE OPTIMIZATION\n",
       "113                                     DATA SCIENTIST 1\n",
       "114                                     DATA SCIENTIST I\n",
       "115                                    DATA SCIENTIST II\n",
       "116                               DATA SCIENTIST PRICING\n",
       "117                   DATA SCIENTIST, ADVANCED ANALYTICS\n",
       "118    DATA SCIENTIST-CONSUMER CLIENT & CHANNEL ANALY...\n",
       "119                        DATA SCIENTIST-TRANSFORMATION\n",
       "dtype: object"
      ]
     },
     "execution_count": 11,
     "metadata": {},
     "output_type": "execute_result"
    }
   ],
   "source": [
    "jobs_with_data_followed_by_scientist = subset_series_str(atl_job_titles, r'.*DATA.*SCIENTIST.*')\n",
    "jobs_with_data_followed_by_scientist"
   ]
  },
  {
   "cell_type": "markdown",
   "metadata": {
    "deletable": false,
    "editable": false,
    "nbgrader": {
     "grade": false,
     "locked": true,
     "solution": false
    }
   },
   "source": [
    "So one observation we can make about the raw job titles is that there can be many variations and similar-sounding titles. We'll do some aggregation to simplify our analysis of different job categories later, but for now, just note this fact."
   ]
  },
  {
   "cell_type": "markdown",
   "metadata": {
    "deletable": false,
    "editable": false,
    "nbgrader": {
     "grade": false,
     "locked": true,
     "solution": false
    }
   },
   "source": [
    "**Exercise 1** (2 points). Write a function that will filter a jobs `DataFrame` so that it contains only the subset of rows whose job titles match any of a given list of substrings.\n",
    "\n",
    "In particular, implement `filter_jobs(df, target_jobs)` as follows:\n",
    "\n",
    "* Let `df` be a pandas `DataFrame` containing a column named `'JOB TITLE'`, which holds job titles.\n",
    "* Let `target_jobs` be a **list** of substrings to match in the `'JOB TITLE'` column. For instance, suppose `target_jobs=['DATA ANALYST', 'DATABASE ADMINISTRATOR', 'DATA SCIENTIST', 'DATA ENGINEER']`. Then your function should return rows of `df` where the job title contains any of those substrings.\n",
    "* Your function should look for **exact substrings**. For example, if `'DATA SCIENTIST'` is one of the substrings, then `'DATA SCIENTIST II'` and `'DATA SCIENTIST, ADVANCED ANALYTICS'` should match, but `'DATA ANALYTIC SCIENTIST'` should not."
   ]
  },
  {
   "cell_type": "code",
   "execution_count": 12,
   "metadata": {},
   "outputs": [
    {
     "name": "stdout",
     "output_type": "stream",
     "text": [
      "['DATA ANALYST' 'DATA ANALYST  DEVELOPER' 'DATA ANALYST  IT SPECIALIST'\n",
      " 'DATA ANALYST  TESTER'\n",
      " 'DATA ANALYST - INFORMATION MANAGEMENT AND GOVERNANCE'\n",
      " 'DATA ANALYST - ITEM MANAGEMENT' 'DATA ANALYST - SUPPLY CHAIN'\n",
      " 'DATA ANALYST 1' 'DATA ANALYST 2' 'DATA ANALYST 3' 'DATA ANALYST 4'\n",
      " 'DATA ANALYST ENGINEER' 'DATA ANALYST ENVIRONMENTAL' 'DATA ANALYST I'\n",
      " 'DATA ANALYST II' 'DATA ANALYST III' 'DATA ANALYST JR. EPIDEMIOLOGIST'\n",
      " 'DATA ANALYST LEAD - INFORMATICA ADMINISTRATOR' 'DATA ANALYST SC'\n",
      " 'DATA ANALYST SR.' 'DATA ANALYST SUPPLY CHAIN'\n",
      " 'DATA ANALYST, DATA AND ANALYTICS' 'DATA ENGINEER'\n",
      " 'DATA ENGINEER  HADOOP DEVELOPER' 'DATA ENGINEER ANALYST SENIOR'\n",
      " 'DATA ENGINEER II' 'DATA ENGINEER III'\n",
      " 'DATA ENGINEERING ASSOCIATE MANAGER' 'DATA ENGINEERING SENIOR ANALYST'\n",
      " 'DATA SCIENTIST' 'DATA SCIENTIST  ENGINEER SENIOR'\n",
      " 'DATA SCIENTIST - CAREER' 'DATA SCIENTIST - FLIGHT SAFETY'\n",
      " 'DATA SCIENTIST - INTERMEDIATE' 'DATA SCIENTIST - ONLINE'\n",
      " 'DATA SCIENTIST - SPACE OPTIMIZATION' 'DATA SCIENTIST 1'\n",
      " 'DATA SCIENTIST I' 'DATA SCIENTIST II' 'DATA SCIENTIST PRICING'\n",
      " 'DATA SCIENTIST, ADVANCED ANALYTICS'\n",
      " 'DATA SCIENTIST-CONSUMER CLIENT & CHANNEL ANALYTICS'\n",
      " 'DATA SCIENTIST-TRANSFORMATION' 'DATABASE ADMINISTRATOR'\n",
      " 'DATABASE ADMINISTRATOR - CAREER' 'DATABASE ADMINISTRATOR - IT'\n",
      " 'DATABASE ADMINISTRATOR 2' 'DATABASE ADMINISTRATOR 3'\n",
      " 'DATABASE ADMINISTRATOR ADVISOR' 'DATABASE ADMINISTRATOR ANALYST'\n",
      " 'DATABASE ADMINISTRATOR DBA' 'DATABASE ADMINISTRATOR DBA & ETL DEVELOPER'\n",
      " 'DATABASE ADMINISTRATOR DEVELOPER' 'DATABASE ADMINISTRATOR II'\n",
      " 'DATABASE ADMINISTRATOR III' 'DATABASE ADMINISTRATOR IV'\n",
      " 'DATABASE ADMINISTRATOR LEVEL 1' 'DATABASE ADMINISTRATOR ORACLE'\n",
      " 'DATABASE ADMINISTRATOR ORCLE DBA'\n",
      " 'DATABASE ADMINISTRATOR PRINCIPAL CONSULTANT'\n",
      " 'DATABASE ADMINISTRATOR SENIOR'\n",
      " 'DATABASE ADMINISTRATOR SOFTWARE DEVELOPER' 'DATABASE ADMINISTRATOR SQL'\n",
      " 'DATABASE ADMINISTRATOR TERADATA APPLICATION' 'DATABASE ADMINISTRATORS']\n"
     ]
    }
   ],
   "source": [
    "def filter_jobs(df, target_jobs):\n",
    "    from pandas import DataFrame\n",
    "    assert isinstance(df, DataFrame), f\"`df` has type `{type(df)}` rather than `DataFrame`.\"\n",
    "    assert df.columns.contains('JOB TITLE'), f\"`df` does not have a `'JOB TITLE'` column.\"\n",
    "    assert all([isinstance(j, str) for j in target_jobs]), f\"All entries of `target_jobs` should be strings.\"\n",
    "    \n",
    "    job_titles = df['JOB TITLE'].unique()\n",
    "    jobs_with_title_list = list()\n",
    "    for t in target_jobs:\n",
    "        jobs_with_title = subset_series_str(job_titles, r'.*{}.*'.format(t))\n",
    "        for i in jobs_with_title.tolist():\n",
    "            jobs_with_title_list.append(i)\n",
    "    \n",
    "    df_filtered = df[df['JOB TITLE'].isin(jobs_with_title_list)]\n",
    "    return df_filtered\n",
    "    \n",
    "# Demo: The following should yield only the four target job titles.\n",
    "target_job_list = ['DATA ANALYST', 'DATABASE ADMINISTRATOR', 'DATA SCIENTIST', 'DATA ENGINEER']\n",
    "atl_target_jobs = filter_jobs(atl, target_job_list)\n",
    "print(atl_target_jobs['JOB TITLE'].unique())"
   ]
  },
  {
   "cell_type": "code",
   "execution_count": 13,
   "metadata": {
    "deletable": false,
    "editable": false,
    "nbgrader": {
     "grade": true,
     "grade_id": "exercise1__filter_data_jobs",
     "locked": true,
     "points": "2",
     "solution": false
    }
   },
   "outputs": [
    {
     "name": "stdout",
     "output_type": "stream",
     "text": [
      "\n",
      "(Passed.)\n"
     ]
    }
   ],
   "source": [
    "# Test cell: `exercise1__filter_data_jobs`\n",
    "\n",
    "# The following may indicate the presence of hidden tests in this cell,\n",
    "# but in fact, there are none.\n",
    "###\n",
    "### AUTOGRADER TEST - DO NOT REMOVE\n",
    "###\n",
    "\n",
    "def check1():\n",
    "    from pandas import read_csv\n",
    "    rows = extract_table_rows('atl.html')\n",
    "    df = raw_rows_to_pandas(rows[1:])\n",
    "    target_job_list = ['DATA ANALYST', 'DATABASE ADMINISTRATOR', 'DATA SCIENTIST', 'DATA ENGINEER']\n",
    "    df_reduced = filter_jobs(df, target_job_list)\n",
    "    df_soln_hashed = read_csv(dataset_path(f\"ex1_atl_soln.csv\"))\n",
    "    assert tibbles_left_matches_right(df_reduced, df_soln_hashed, hash_A=True, verbose=True), \\\n",
    "           \"Your solution does not match what we expected to see. Please try again!\"\n",
    "    \n",
    "check1()\n",
    "\n",
    "print(\"\\n(Passed.)\")"
   ]
  },
  {
   "cell_type": "markdown",
   "metadata": {
    "deletable": false,
    "editable": false,
    "nbgrader": {
     "grade": false,
     "locked": true,
     "solution": false
    }
   },
   "source": [
    "**Normalizing job titles.** To simplify our analysis, let's give job titles that \"look the same\" a simpler name. We'll refer to this process as \"normalizing\" distinct but similar job titles into a simple title."
   ]
  },
  {
   "cell_type": "markdown",
   "metadata": {
    "deletable": false,
    "editable": false,
    "nbgrader": {
     "grade": false,
     "locked": true,
     "solution": false
    }
   },
   "source": [
    "**Exercise 2** (2 points). Suppose you are given a pandas `Series` object `s` and a string, `target`. Implement the function `normalize_series(s, target)` so that it returns a copy of `s` where any element containing the exact substring `target` is replaced with just `target`. **The returned `Series` object must have the same index as `s`.**\n",
    "\n",
    "For example, suppose the input `Series`, `s`, is\n",
    "\n",
    "```python\n",
    "3                DATA ANALYTIC SCIENTIST\n",
    "1                    BEST DATA SCIENTIST\n",
    "4                         DATA SCIENTIST\n",
    "0    DATA SCIENTIST - SPACE OPTIMIZATION\n",
    "2                         SCIENTIST DATA\n",
    "dtype: object\n",
    "```\n",
    "\n",
    "Then, the expression\n",
    "\n",
    "```python\n",
    "print(normalize_series(s, 'DATA SCIENTIST'))\n",
    "```\n",
    "\n",
    "would display the `Series`\n",
    "\n",
    "```python\n",
    "3                DATA ANALYTIC SCIENTIST\n",
    "1                         DATA SCIENTIST\n",
    "4                         DATA SCIENTIST\n",
    "0                         DATA SCIENTIST\n",
    "2                         SCIENTIST DATA\n",
    "dtype: object\n",
    "```\n",
    "\n",
    "In other words, only the two entries containing the exact substring, `'DATA SCIENTIST'`, are changed to `'DATA SCIENTIST'`; all other entries remain unchanged. Also, note that the index values of the two `Series` are identical."
   ]
  },
  {
   "cell_type": "code",
   "execution_count": 14,
   "metadata": {
    "nbgrader": {
     "grade": false,
     "locked": false,
     "solution": false
    }
   },
   "outputs": [
    {
     "name": "stdout",
     "output_type": "stream",
     "text": [
      "=== Before ===\n",
      "\n"
     ]
    },
    {
     "data": {
      "text/plain": [
       "3                DATA ANALYTIC SCIENTIST\n",
       "1                    BEST DATA SCIENTIST\n",
       "4                         DATA SCIENTIST\n",
       "0    DATA SCIENTIST - SPACE OPTIMIZATION\n",
       "2                         SCIENTIST DATA\n",
       "dtype: object"
      ]
     },
     "metadata": {},
     "output_type": "display_data"
    },
    {
     "name": "stdout",
     "output_type": "stream",
     "text": [
      "\n",
      "=== After ===\n",
      "\n"
     ]
    },
    {
     "data": {
      "text/plain": [
       "3    DATA ANALYTIC SCIENTIST\n",
       "1             DATA SCIENTIST\n",
       "4             DATA SCIENTIST\n",
       "0             DATA SCIENTIST\n",
       "2             SCIENTIST DATA\n",
       "dtype: object"
      ]
     },
     "execution_count": 14,
     "metadata": {},
     "output_type": "execute_result"
    }
   ],
   "source": [
    "def normalize_series(s, target):\n",
    "    from pandas import Series\n",
    "    assert isinstance(s, Series), f\"Object `s` has type `{type(s)}`, not `Series`.\"\n",
    "    assert isinstance(target, str), f\"`target` is a `{type(target)}`, not a string.\"\n",
    "    \n",
    "    index = s.index\n",
    "    check = s.str.contains(r'.*{}.*'.format(target))\n",
    "    \n",
    "    #for i, _ in check.items():\n",
    "    #    if check[i] == True:\n",
    "    #        s[i] = target\n",
    "    \n",
    "    s = np.where(check,target, s)\n",
    "    s = Series(s)\n",
    "    s.index = index\n",
    "    \n",
    "    return s\n",
    "# Demo: Does your output look as expected?\n",
    "s_in = pandas.Series(['DATA ANALYTIC SCIENTIST',\n",
    "                      'BEST DATA SCIENTIST',\n",
    "                      'DATA SCIENTIST',\n",
    "                      'DATA SCIENTIST - SPACE OPTIMIZATION',\n",
    "                      'SCIENTIST DATA'])\n",
    "s_in.index = [3, 1, 4, 0, 2]\n",
    "print(\"=== Before ===\\n\")\n",
    "display(s_in)\n",
    "print(\"\\n=== After ===\\n\")\n",
    "normalize_series(s_in, 'DATA SCIENTIST')"
   ]
  },
  {
   "cell_type": "code",
   "execution_count": 15,
   "metadata": {
    "deletable": false,
    "editable": false,
    "nbgrader": {
     "grade": true,
     "grade_id": "exercise2__normalize_series",
     "locked": true,
     "points": "2",
     "solution": false
    }
   },
   "outputs": [
    {
     "name": "stdout",
     "output_type": "stream",
     "text": [
      "\n",
      "(Passed.)\n"
     ]
    }
   ],
   "source": [
    "# Test cell: `exercise2__normalize_series`\n",
    "\n",
    "def gen_text2(word1, word2):\n",
    "    from random import random, randrange, choices\n",
    "    def random_word(max_len):\n",
    "        return ''.join([chr(ord('A')+randrange(0, 26)) for _ in range(randrange(0, max_len))])\n",
    "    u, match = random(), False\n",
    "    if u < 0.5:\n",
    "        text = f\"{random_word(5)} {word1} {word2} {random_word(5)}\"\n",
    "        match = True\n",
    "    elif u < 0.66:\n",
    "        middle = random_word(5)\n",
    "        if len(middle) > 0:\n",
    "            text = f\"{random_word(5)} {word1} {middle} {word2} {random_word(5)}\"\n",
    "        else:\n",
    "            text = f\"{random_word(5)} {word1} {word2} {random_word(5)}\"\n",
    "            match = True\n",
    "    elif u < 0.75:\n",
    "        text = f\"{random_word(5)} {word2} {word1} {random_word(5)}\"\n",
    "    else:\n",
    "        text = f\"{random_word(5)} {word2} {random_word(5)} {word1} {random_word(5)}\"\n",
    "    return text, match\n",
    "\n",
    "def gen_series2(word1, word2, m=10):\n",
    "    from pandas import Series\n",
    "    from random import randrange, shuffle\n",
    "    texts_before = []\n",
    "    texts_after = []\n",
    "    for _ in range(randrange(1, m)):\n",
    "        text, match = gen_text2(word1, word2)\n",
    "        texts_before.append(text)\n",
    "        texts_after.append(text if not match else f\"{word1} {word2}\")\n",
    "    index_values = list(range(len(texts_before)))\n",
    "    shuffle(index_values)\n",
    "    s_before = Series(texts_before, index=index_values)\n",
    "    s_after = Series(texts_after, index=index_values)\n",
    "    return s_before, s_after\n",
    "\n",
    "def check2():\n",
    "    from random import choice\n",
    "    from pandas import Series\n",
    "    word1 = 'DATA'\n",
    "    word2 = choice(['SCIENTIST', 'ENGINEER', 'ANALYTICS'])\n",
    "    pattern = f\"{word1} {word2}\"\n",
    "    s, soln = gen_series2(word1, word2)\n",
    "    try:\n",
    "        s_norm = normalize_series(s, pattern)\n",
    "        assert isinstance(s_norm, type(Series([]))), \"You did not return a 'Series' object.\"\n",
    "        assert (s_norm.index == soln.index).all(), \"Index values do not match.\"\n",
    "        assert (s_norm == soln).all(), \"An error was detected.\"\n",
    "    except:\n",
    "        print(\"=== Failing test case ===\")\n",
    "        print(\"* Input Series:\")\n",
    "        display(s)\n",
    "        print(f\"* Pattern: {pattern}\")\n",
    "        print(\"* Expected output:\")\n",
    "        display(soln)\n",
    "        print(\"* Your output:\")\n",
    "        display(s_norm)\n",
    "        raise\n",
    "\n",
    "for _ in range(10):\n",
    "    check2()\n",
    "    \n",
    "print(\"\\n(Passed.)\")"
   ]
  },
  {
   "cell_type": "markdown",
   "metadata": {
    "deletable": false,
    "editable": false,
    "nbgrader": {
     "grade": false,
     "locked": true,
     "solution": false
    }
   },
   "source": [
    "**Reducing job titles.** In our subsequent analysis, we will use normalized job titles for four cases: `'DATA SCIENTIST'`, `'DATA ANALYST'`, `'DATA ENGINEER'`, and `'DATABASE ADMINISTRATOR'`. These titles are stored in the `TARGET_JOBS` variable defined in the next code cell.\n",
    "\n",
    "That cell also defines a new function, `reduce_jobs(df)`. It takes a data frame `df` having a `'JOB TITLE'` column, and replaces that column with normalized versions of the jobs in `TARGET_JOBS`."
   ]
  },
  {
   "cell_type": "code",
   "execution_count": 16,
   "metadata": {
    "deletable": false,
    "editable": false,
    "nbgrader": {
     "grade": false,
     "locked": true,
     "solution": false
    }
   },
   "outputs": [
    {
     "data": {
      "text/html": [
       "<div>\n",
       "<style scoped>\n",
       "    .dataframe tbody tr th:only-of-type {\n",
       "        vertical-align: middle;\n",
       "    }\n",
       "\n",
       "    .dataframe tbody tr th {\n",
       "        vertical-align: top;\n",
       "    }\n",
       "\n",
       "    .dataframe thead th {\n",
       "        text-align: right;\n",
       "    }\n",
       "</style>\n",
       "<table border=\"1\" class=\"dataframe\">\n",
       "  <thead>\n",
       "    <tr style=\"text-align: right;\">\n",
       "      <th></th>\n",
       "      <th>EMPLOYER</th>\n",
       "      <th>JOB TITLE</th>\n",
       "      <th>LOCATION</th>\n",
       "      <th>BASE SALARY</th>\n",
       "      <th>YEAR</th>\n",
       "    </tr>\n",
       "  </thead>\n",
       "  <tbody>\n",
       "    <tr>\n",
       "      <th>929</th>\n",
       "      <td>TATA CONSULTANCY SERVICES LIMITED</td>\n",
       "      <td>DATA WAREHOUSE SPECIALIST</td>\n",
       "      <td>ATLANTA, GA</td>\n",
       "      <td>69056</td>\n",
       "      <td>2017</td>\n",
       "    </tr>\n",
       "    <tr>\n",
       "      <th>452</th>\n",
       "      <td>CAPGEMINI AMERICA INC</td>\n",
       "      <td>DATA ANALYST</td>\n",
       "      <td>ATLANTA, GA</td>\n",
       "      <td>89000</td>\n",
       "      <td>2017</td>\n",
       "    </tr>\n",
       "    <tr>\n",
       "      <th>26</th>\n",
       "      <td>INTERCONTINENTAL EXCHANGE HOLDINGS INC</td>\n",
       "      <td>DATA ANALYST</td>\n",
       "      <td>ATLANTA, GA</td>\n",
       "      <td>59000</td>\n",
       "      <td>2016</td>\n",
       "    </tr>\n",
       "    <tr>\n",
       "      <th>419</th>\n",
       "      <td>CAPGEMINI AMERICA INC</td>\n",
       "      <td>DATA ANALYST</td>\n",
       "      <td>ATLANTA, GA</td>\n",
       "      <td>72400</td>\n",
       "      <td>2018</td>\n",
       "    </tr>\n",
       "    <tr>\n",
       "      <th>484</th>\n",
       "      <td>CAPGEMINI AMERICA INC</td>\n",
       "      <td>DATA ANALYST</td>\n",
       "      <td>ATLANTA, GA</td>\n",
       "      <td>90500</td>\n",
       "      <td>2019</td>\n",
       "    </tr>\n",
       "  </tbody>\n",
       "</table>\n",
       "</div>"
      ],
      "text/plain": [
       "                                   EMPLOYER                  JOB TITLE  \\\n",
       "929       TATA CONSULTANCY SERVICES LIMITED  DATA WAREHOUSE SPECIALIST   \n",
       "452                   CAPGEMINI AMERICA INC               DATA ANALYST   \n",
       "26   INTERCONTINENTAL EXCHANGE HOLDINGS INC               DATA ANALYST   \n",
       "419                   CAPGEMINI AMERICA INC               DATA ANALYST   \n",
       "484                   CAPGEMINI AMERICA INC               DATA ANALYST   \n",
       "\n",
       "        LOCATION  BASE SALARY  YEAR  \n",
       "929  ATLANTA, GA        69056  2017  \n",
       "452  ATLANTA, GA        89000  2017  \n",
       "26   ATLANTA, GA        59000  2016  \n",
       "419  ATLANTA, GA        72400  2018  \n",
       "484  ATLANTA, GA        90500  2019  "
      ]
     },
     "execution_count": 16,
     "metadata": {},
     "output_type": "execute_result"
    }
   ],
   "source": [
    "TARGET_JOBS = ['DATA SCIENTIST', 'DATA ANALYST', 'DATA ENGINEER', 'DATABASE ADMINISTRATOR']\n",
    "\n",
    "def reduce_jobs(df, target_jobs=TARGET_JOBS):\n",
    "    df_reduced = df.copy()\n",
    "    for title in target_jobs:\n",
    "        df_reduced['JOB TITLE'] = normalize_series(df_reduced['JOB TITLE'], title)\n",
    "    return df_reduced\n",
    "\n",
    "atl_reduced = reduce_jobs(atl)\n",
    "atl_reduced.sample(5)"
   ]
  },
  {
   "cell_type": "markdown",
   "metadata": {
    "deletable": false,
    "editable": false,
    "nbgrader": {
     "grade": false,
     "locked": true,
     "solution": false
    }
   },
   "source": [
    "To get a feel for the data, let's tally the number of jobs associated with each (normalized) job title and look at the top ten. If everything above went well, you should see that in the Atlanta market, the most H1B jobs are represented by data analysts, database administrators, data scientists, and data engineers."
   ]
  },
  {
   "cell_type": "code",
   "execution_count": 17,
   "metadata": {
    "deletable": false,
    "editable": false,
    "nbgrader": {
     "grade": false,
     "locked": true,
     "solution": false
    }
   },
   "outputs": [
    {
     "data": {
      "text/plain": [
       "DATA ANALYST                 530\n",
       "DATABASE ADMINISTRATOR       424\n",
       "DATA SCIENTIST               136\n",
       "DATA ENGINEER                 42\n",
       "DATA SPECIALIST               30\n",
       "DATA WAREHOUSE SPECIALIST     29\n",
       "DATABASE ANALYST              24\n",
       "DATA ARCHITECT                22\n",
       "DATABASE DEVELOPER            18\n",
       "DATABASE ARCHITECT            14\n",
       "Name: JOB TITLE, dtype: int64"
      ]
     },
     "execution_count": 17,
     "metadata": {},
     "output_type": "execute_result"
    }
   ],
   "source": [
    "atl_reduced_job_counts = atl_reduced['JOB TITLE'].value_counts()\n",
    "atl_reduced_job_counts.head(10)"
   ]
  },
  {
   "cell_type": "markdown",
   "metadata": {
    "deletable": false,
    "editable": false,
    "nbgrader": {
     "grade": false,
     "locked": true,
     "solution": false
    }
   },
   "source": [
    "## Exercises: Data analysis!\n",
    "\n",
    "For the remainder of this notebook, let's do a couple quick and dirty analyses of this data. You won't do anything too complicated; some simple summary and descriptive statistics will be enough to assess your pandas-fu skills."
   ]
  },
  {
   "cell_type": "markdown",
   "metadata": {
    "deletable": false,
    "editable": false,
    "nbgrader": {
     "grade": false,
     "locked": true,
     "solution": false
    }
   },
   "source": [
    "Assuming the above went well, let's reduce the job titles to just the four main targets (`TARGET_JOBS`) and make a quick plot of how their base salaries have changed over time."
   ]
  },
  {
   "cell_type": "code",
   "execution_count": 18,
   "metadata": {
    "deletable": false,
    "editable": false,
    "nbgrader": {
     "grade": false,
     "locked": true,
     "solution": false
    }
   },
   "outputs": [
    {
     "name": "stderr",
     "output_type": "stream",
     "text": [
      "/usr/local/lib/python3.6/site-packages/scipy/stats/stats.py:1713: FutureWarning: Using a non-tuple sequence for multidimensional indexing is deprecated; use `arr[tuple(seq)]` instead of `arr[seq]`. In the future this will be interpreted as an array index, `arr[np.array(seq)]`, which will result either in an error or a different result.\n",
      "  return np.add.reduce(sorted[indexer] * weights, axis=axis) / sumval\n"
     ]
    },
    {
     "data": {
      "image/png": "[encoded data removed]",
      "text/plain": [
       "<Figure size 864x432 with 1 Axes>"
      ]
     },
     "metadata": {},
     "output_type": "display_data"
    }
   ],
   "source": [
    "atl_reduced2 = atl_reduced.loc[atl_reduced['JOB TITLE'].isin(TARGET_JOBS)]\n",
    "\n",
    "fig = figure(figsize=(12, 6))\n",
    "lineplot(x='YEAR', y='BASE SALARY', hue='JOB TITLE', data=atl_reduced2)\n",
    "set_palette(color_palette('colorblind'))"
   ]
  },
  {
   "cell_type": "markdown",
   "metadata": {
    "deletable": false,
    "editable": false,
    "nbgrader": {
     "grade": false,
     "locked": true,
     "solution": false
    }
   },
   "source": [
    "**Aside:** Observe that in the Atlanta market, by 2019, there is a distinct gap between the salaries of data scientists and engineers from database administrators and data analysts. However, salaries seem mostly flat, with the possible exception of an arguably slight increase in base salaries for database adminstrators. Assuming this holds for other markets, we will aggregate over the year field in the exercises that follow."
   ]
  },
  {
   "cell_type": "markdown",
   "metadata": {
    "deletable": false,
    "editable": false,
    "nbgrader": {
     "grade": false,
     "locked": true,
     "solution": false
    }
   },
   "source": [
    "### Median salaries\n",
    "\n",
    "Let's start by looking at median salaries in the Atlanta market."
   ]
  },
  {
   "cell_type": "markdown",
   "metadata": {
    "deletable": false,
    "editable": false,
    "nbgrader": {
     "grade": false,
     "locked": true,
     "solution": false
    }
   },
   "source": [
    "**Exercise 3** (2 points). Suppose we wish to know the median base salaries for each unique job title. Complete the function `get_median_salaries_by_title(df)`, so that it does so.\n",
    "\n",
    "In particular, your function should do the following:\n",
    "\n",
    "- You should return a tibble as a pandas `DataFrame` containing two columns: `'JOB TITLE'` and `'BASE SALARY'`. To get a proper tibble, reset the index before returning the final result.\n",
    "- For each unique job title, the base salary value should be the median for that job title.\n",
    "- Store the median salaries as **integers**. If calculating the median produces floating-point values, simply convert the column so that it holds integers (thereby truncating the floating-point values).\n",
    "- Do **not** use `reduce_jobs()`. Whoever uses your function will decide whether or not to do that, and in particular, the test cell runs one test case that does do so and one that does not.\n",
    "- The order in which rows or columns appear does **not** matter."
   ]
  },
  {
   "cell_type": "code",
   "execution_count": 19,
   "metadata": {},
   "outputs": [
    {
     "data": {
      "text/html": [
       "<div>\n",
       "<style scoped>\n",
       "    .dataframe tbody tr th:only-of-type {\n",
       "        vertical-align: middle;\n",
       "    }\n",
       "\n",
       "    .dataframe tbody tr th {\n",
       "        vertical-align: top;\n",
       "    }\n",
       "\n",
       "    .dataframe thead th {\n",
       "        text-align: right;\n",
       "    }\n",
       "</style>\n",
       "<table border=\"1\" class=\"dataframe\">\n",
       "  <thead>\n",
       "    <tr style=\"text-align: right;\">\n",
       "      <th></th>\n",
       "      <th>JOB TITLE</th>\n",
       "      <th>BASE SALARY</th>\n",
       "    </tr>\n",
       "  </thead>\n",
       "  <tbody>\n",
       "    <tr>\n",
       "      <th>0</th>\n",
       "      <td>DATA ANALYST</td>\n",
       "      <td>74200</td>\n",
       "    </tr>\n",
       "    <tr>\n",
       "      <th>1</th>\n",
       "      <td>DATA ENGINEER</td>\n",
       "      <td>95278</td>\n",
       "    </tr>\n",
       "    <tr>\n",
       "      <th>2</th>\n",
       "      <td>DATA SCIENTIST</td>\n",
       "      <td>90106</td>\n",
       "    </tr>\n",
       "    <tr>\n",
       "      <th>3</th>\n",
       "      <td>DATABASE ADMINISTRATOR</td>\n",
       "      <td>75000</td>\n",
       "    </tr>\n",
       "  </tbody>\n",
       "</table>\n",
       "</div>"
      ],
      "text/plain": [
       "                JOB TITLE  BASE SALARY\n",
       "0            DATA ANALYST        74200\n",
       "1           DATA ENGINEER        95278\n",
       "2          DATA SCIENTIST        90106\n",
       "3  DATABASE ADMINISTRATOR        75000"
      ]
     },
     "execution_count": 19,
     "metadata": {},
     "output_type": "execute_result"
    }
   ],
   "source": [
    "def get_median_salaries_by_title(df):\n",
    "    from pandas import DataFrame\n",
    "    assert isinstance(df, DataFrame)\n",
    "    \n",
    "    df1 = df.groupby('JOB TITLE', as_index=False)[['BASE SALARY']].median()\n",
    "    df1['BASE SALARY'] = df1['BASE SALARY'].astype('int')\n",
    "    df1.reindex()\n",
    "    return df1\n",
    "    \n",
    "# Demo. Which title has the highest median salary in the Atlanta market?\n",
    "get_median_salaries_by_title(atl_reduced2)"
   ]
  },
  {
   "cell_type": "code",
   "execution_count": 20,
   "metadata": {
    "deletable": false,
    "editable": false,
    "nbgrader": {
     "grade": true,
     "grade_id": "exercise3__get_median_salaries_by_title",
     "locked": true,
     "points": "2",
     "solution": false
    }
   },
   "outputs": [
    {
     "name": "stdout",
     "output_type": "stream",
     "text": [
      "Checking against hashed solution, ./resource/asnlib/publicdata/ex3a_atl_soln.csv.\n",
      "Checking against hashed solution, ./resource/asnlib/publicdata/ex3b_atl_soln.csv.\n",
      "\n",
      "(Passed.)\n"
     ]
    }
   ],
   "source": [
    "# Test cell: `exercise3__get_median_salaries_by_title`\n",
    "\n",
    "# The following may indicate the presence of hidden tests in this cell,\n",
    "# but in fact, there are none.\n",
    "###\n",
    "### AUTOGRADER TEST - DO NOT REMOVE\n",
    "###\n",
    "\n",
    "def check3(reduce):\n",
    "    from pandas import read_csv\n",
    "    rows = extract_table_rows('atl.html')\n",
    "    df = raw_rows_to_pandas(rows[1:])\n",
    "    target_job_list = ['DATA ANALYST', 'DATABASE ADMINISTRATOR', 'DATA SCIENTIST', 'DATA ENGINEER']\n",
    "    df = filter_jobs(df, target_job_list)\n",
    "    if reduce:\n",
    "        df = reduce_jobs(df)\n",
    "    df_soln = get_median_salaries_by_title(df)\n",
    "    soln_csv = dataset_path(f\"ex3{'b' if reduce else 'a'}_atl_soln.csv\")\n",
    "    print(f\"Checking against hashed solution, {soln_csv}.\")\n",
    "    df_soln_hashed = read_csv(soln_csv)\n",
    "    assert tibbles_left_matches_right(df_soln, df_soln_hashed, hash_A=True, verbose=True), \\\n",
    "           \"Your solution does not match what we expected to see. Please try again!\"\n",
    "    \n",
    "check3(False) # do not reduce jobs first\n",
    "check3(True)  # reduce jobs first\n",
    "\n",
    "print(\"\\n(Passed.)\")"
   ]
  },
  {
   "cell_type": "markdown",
   "metadata": {
    "deletable": false,
    "editable": false,
    "nbgrader": {
     "grade": false,
     "locked": true,
     "solution": false
    }
   },
   "source": [
    "### Median salaries across all markets\n",
    "\n",
    "As a final step, let's compare median salaries across the Top 5 markets."
   ]
  },
  {
   "cell_type": "markdown",
   "metadata": {
    "deletable": false,
    "editable": false,
    "nbgrader": {
     "grade": false,
     "locked": true,
     "solution": false
    }
   },
   "source": [
    "But before doing so, observe one fact about the `'LOCATION'` column: like the job title column, there are typically several variations on how the location is written. For instance, run this cell to see what happens in the casee of Atlanta:"
   ]
  },
  {
   "cell_type": "code",
   "execution_count": 21,
   "metadata": {
    "deletable": false,
    "editable": false,
    "nbgrader": {
     "grade": false,
     "locked": true,
     "solution": false
    }
   },
   "outputs": [
    {
     "data": {
      "text/plain": [
       "array(['ATLANTA, GA', 'ATLANTA,, GA', 'ATLANTA, SANDY SPRINGS, GA'],\n",
       "      dtype=object)"
      ]
     },
     "execution_count": 21,
     "metadata": {},
     "output_type": "execute_result"
    }
   ],
   "source": [
    "atl['LOCATION'].unique()"
   ]
  },
  {
   "cell_type": "markdown",
   "metadata": {
    "deletable": false,
    "editable": false,
    "nbgrader": {
     "grade": false,
     "locked": true,
     "solution": false
    }
   },
   "source": [
    "Therefore, when you pull data together from different locations in Exercise 4, you will do some normalization, as described therein."
   ]
  },
  {
   "cell_type": "markdown",
   "metadata": {
    "deletable": false,
    "editable": false,
    "nbgrader": {
     "grade": false,
     "locked": true,
     "solution": false
    }
   },
   "source": [
    "**Exercise 4** (2 points). Write some code that constructs a tibble named `df_summary`, stored as a pandas `DataFrame`, that contains data aggregated across all of the Top 5 markets. Recall that these markets are New York, San Francisco, Houston, Chicago, and Atlanta. These data are stored in the files `'nyc.html'`, `'sfo.html'`, `'hou.html'`, `'chi.html'`, and `'atl.html'`.\n",
    "\n",
    "> Recall that you can use the function, `extract_table_rows()`, to get the raw HTML row data, and `raw_rows_to_pandas()` to convert these into a basic data frame object.\n",
    "\n",
    "The structure of `df_summary` should be as follows.\n",
    "\n",
    "- It should have three columns: `'JOB TITLE'`, `'BASE SALARY'`, and `'LOCATION'`.\n",
    "- The `'LOCATION'` column should be simplified. In particular, overwrite the `'LOCATION'` field using just the following city names in each market: `'NEW YORK'`, `'SAN FRANCISCO'`, `'HOUSTON'`, `'CHICAGO'`, and `'ATLANTA'`.\n",
    "- The `'JOB TITLE'` field should also be simplified, using the `reduce_jobs()` function.\n",
    "- Filter the jobs to include only the four target jobs (i.e., see `TARGET_JOBS`).\n",
    "- In the `'BASE SALARY'` column, store the median value aggregated by (grouped by) location and job title. Store this value as an integer, meaning any floating-point values should simply be truncated.\n",
    "- To get a proper tibble at the end, consider resetting the index."
   ]
  },
  {
   "cell_type": "code",
   "execution_count": 22,
   "metadata": {},
   "outputs": [
    {
     "data": {
      "text/html": [
       "<div>\n",
       "<style scoped>\n",
       "    .dataframe tbody tr th:only-of-type {\n",
       "        vertical-align: middle;\n",
       "    }\n",
       "\n",
       "    .dataframe tbody tr th {\n",
       "        vertical-align: top;\n",
       "    }\n",
       "\n",
       "    .dataframe thead th {\n",
       "        text-align: right;\n",
       "    }\n",
       "</style>\n",
       "<table border=\"1\" class=\"dataframe\">\n",
       "  <thead>\n",
       "    <tr style=\"text-align: right;\">\n",
       "      <th></th>\n",
       "      <th>JOB TITLE</th>\n",
       "      <th>LOCATION</th>\n",
       "      <th>BASE SALARY</th>\n",
       "    </tr>\n",
       "  </thead>\n",
       "  <tbody>\n",
       "    <tr>\n",
       "      <th>0</th>\n",
       "      <td>DATA ANALYST</td>\n",
       "      <td>ATLANTA</td>\n",
       "      <td>74200</td>\n",
       "    </tr>\n",
       "    <tr>\n",
       "      <th>1</th>\n",
       "      <td>DATA ENGINEER</td>\n",
       "      <td>ATLANTA</td>\n",
       "      <td>95278</td>\n",
       "    </tr>\n",
       "    <tr>\n",
       "      <th>2</th>\n",
       "      <td>DATA SCIENTIST</td>\n",
       "      <td>ATLANTA</td>\n",
       "      <td>90106</td>\n",
       "    </tr>\n",
       "    <tr>\n",
       "      <th>3</th>\n",
       "      <td>DATABASE ADMINISTRATOR</td>\n",
       "      <td>ATLANTA</td>\n",
       "      <td>75000</td>\n",
       "    </tr>\n",
       "    <tr>\n",
       "      <th>4</th>\n",
       "      <td>DATA ANALYST</td>\n",
       "      <td>NEW YORK</td>\n",
       "      <td>71800</td>\n",
       "    </tr>\n",
       "    <tr>\n",
       "      <th>5</th>\n",
       "      <td>DATA ENGINEER</td>\n",
       "      <td>NEW YORK</td>\n",
       "      <td>110000</td>\n",
       "    </tr>\n",
       "    <tr>\n",
       "      <th>6</th>\n",
       "      <td>DATA SCIENTIST</td>\n",
       "      <td>NEW YORK</td>\n",
       "      <td>108000</td>\n",
       "    </tr>\n",
       "    <tr>\n",
       "      <th>7</th>\n",
       "      <td>DATABASE ADMINISTRATOR</td>\n",
       "      <td>NEW YORK</td>\n",
       "      <td>78000</td>\n",
       "    </tr>\n",
       "    <tr>\n",
       "      <th>8</th>\n",
       "      <td>DATA ANALYST</td>\n",
       "      <td>SAN FRANCISCO</td>\n",
       "      <td>95000</td>\n",
       "    </tr>\n",
       "    <tr>\n",
       "      <th>9</th>\n",
       "      <td>DATA ENGINEER</td>\n",
       "      <td>SAN FRANCISCO</td>\n",
       "      <td>121077</td>\n",
       "    </tr>\n",
       "    <tr>\n",
       "      <th>10</th>\n",
       "      <td>DATA SCIENTIST</td>\n",
       "      <td>SAN FRANCISCO</td>\n",
       "      <td>125000</td>\n",
       "    </tr>\n",
       "    <tr>\n",
       "      <th>11</th>\n",
       "      <td>DATABASE ADMINISTRATOR</td>\n",
       "      <td>SAN FRANCISCO</td>\n",
       "      <td>88700</td>\n",
       "    </tr>\n",
       "    <tr>\n",
       "      <th>12</th>\n",
       "      <td>DATA ANALYST</td>\n",
       "      <td>HOUSTON</td>\n",
       "      <td>74600</td>\n",
       "    </tr>\n",
       "    <tr>\n",
       "      <th>13</th>\n",
       "      <td>DATA ENGINEER</td>\n",
       "      <td>HOUSTON</td>\n",
       "      <td>91707</td>\n",
       "    </tr>\n",
       "    <tr>\n",
       "      <th>14</th>\n",
       "      <td>DATA SCIENTIST</td>\n",
       "      <td>HOUSTON</td>\n",
       "      <td>94361</td>\n",
       "    </tr>\n",
       "    <tr>\n",
       "      <th>15</th>\n",
       "      <td>DATABASE ADMINISTRATOR</td>\n",
       "      <td>HOUSTON</td>\n",
       "      <td>66000</td>\n",
       "    </tr>\n",
       "    <tr>\n",
       "      <th>16</th>\n",
       "      <td>DATA ANALYST</td>\n",
       "      <td>CHICAGO</td>\n",
       "      <td>74600</td>\n",
       "    </tr>\n",
       "    <tr>\n",
       "      <th>17</th>\n",
       "      <td>DATA ENGINEER</td>\n",
       "      <td>CHICAGO</td>\n",
       "      <td>91707</td>\n",
       "    </tr>\n",
       "    <tr>\n",
       "      <th>18</th>\n",
       "      <td>DATA SCIENTIST</td>\n",
       "      <td>CHICAGO</td>\n",
       "      <td>94361</td>\n",
       "    </tr>\n",
       "    <tr>\n",
       "      <th>19</th>\n",
       "      <td>DATABASE ADMINISTRATOR</td>\n",
       "      <td>CHICAGO</td>\n",
       "      <td>66000</td>\n",
       "    </tr>\n",
       "  </tbody>\n",
       "</table>\n",
       "</div>"
      ],
      "text/plain": [
       "                 JOB TITLE       LOCATION  BASE SALARY\n",
       "0             DATA ANALYST        ATLANTA        74200\n",
       "1            DATA ENGINEER        ATLANTA        95278\n",
       "2           DATA SCIENTIST        ATLANTA        90106\n",
       "3   DATABASE ADMINISTRATOR        ATLANTA        75000\n",
       "4             DATA ANALYST       NEW YORK        71800\n",
       "5            DATA ENGINEER       NEW YORK       110000\n",
       "6           DATA SCIENTIST       NEW YORK       108000\n",
       "7   DATABASE ADMINISTRATOR       NEW YORK        78000\n",
       "8             DATA ANALYST  SAN FRANCISCO        95000\n",
       "9            DATA ENGINEER  SAN FRANCISCO       121077\n",
       "10          DATA SCIENTIST  SAN FRANCISCO       125000\n",
       "11  DATABASE ADMINISTRATOR  SAN FRANCISCO        88700\n",
       "12            DATA ANALYST        HOUSTON        74600\n",
       "13           DATA ENGINEER        HOUSTON        91707\n",
       "14          DATA SCIENTIST        HOUSTON        94361\n",
       "15  DATABASE ADMINISTRATOR        HOUSTON        66000\n",
       "16            DATA ANALYST        CHICAGO        74600\n",
       "17           DATA ENGINEER        CHICAGO        91707\n",
       "18          DATA SCIENTIST        CHICAGO        94361\n",
       "19  DATABASE ADMINISTRATOR        CHICAGO        66000"
      ]
     },
     "metadata": {},
     "output_type": "display_data"
    }
   ],
   "source": [
    "CITY_NAMES = {'nyc': 'NEW YORK',\n",
    "              'sfo': 'SAN FRANCISCO',\n",
    "              'hou': 'HOUSTON',\n",
    "              'chi': 'CHICAGO',\n",
    "              'atl': 'ATLANTA'}\n",
    "# Test cell: `exercise3__get_median_salaries_by_title`\n",
    "\n",
    "# The following may indicate the presence of hidden tests in this cell,\n",
    "# but in fact, there are none.\n",
    "###\n",
    "### AUTOGRADER TEST - DO NOT REMOVE\n",
    "###\n",
    "\n",
    "target_job_list = ['DATA ANALYST', 'DATABASE ADMINISTRATOR', 'DATA SCIENTIST', 'DATA ENGINEER']\n",
    "\n",
    "rows_atl = extract_table_rows('atl.html')\n",
    "df_atl = raw_rows_to_pandas(rows_atl[1:])\n",
    "df_atl = filter_jobs(df_atl, target_job_list)\n",
    "df_atl = reduce_jobs(df_atl)\n",
    "df_atl['LOCATION'] = 'ATLANTA'\n",
    "df_atl = df_atl.groupby(['JOB TITLE','LOCATION'], as_index=False)[['BASE SALARY']].median()\n",
    "df_atl['BASE SALARY'] = df_atl['BASE SALARY'].astype('int')\n",
    "\n",
    "rows_nyc = extract_table_rows('nyc.html')\n",
    "df_nyc = raw_rows_to_pandas(rows_nyc[1:])\n",
    "df_nyc = filter_jobs(df_nyc, target_job_list)\n",
    "df_nyc = reduce_jobs(df_nyc)\n",
    "df_nyc['LOCATION'] = 'NEW YORK'\n",
    "df_nyc = df_nyc.groupby(['JOB TITLE','LOCATION'], as_index=False)[['BASE SALARY']].median()\n",
    "df_nyc['BASE SALARY'] = df_nyc['BASE SALARY'].astype('int')\n",
    "\n",
    "rows_sfo = extract_table_rows('sfo.html')\n",
    "df_sfo = raw_rows_to_pandas(rows_sfo[1:])\n",
    "df_sfo = filter_jobs(df_sfo, target_job_list)\n",
    "df_sfo = reduce_jobs(df_sfo)\n",
    "df_sfo['LOCATION'] = 'SAN FRANCISCO'\n",
    "df_sfo = df_sfo.groupby(['JOB TITLE','LOCATION'], as_index=False)[['BASE SALARY']].median()\n",
    "df_sfo['BASE SALARY'] = df_sfo['BASE SALARY'].astype('int')\n",
    "\n",
    "rows_hou = extract_table_rows('hou.html')\n",
    "df_hou = raw_rows_to_pandas(rows_hou[1:])\n",
    "df_hou = filter_jobs(df_hou, target_job_list)\n",
    "df_hou = reduce_jobs(df_hou)\n",
    "df_hou['LOCATION'] = 'HOUSTON'\n",
    "df_hou = df_hou.groupby(['JOB TITLE','LOCATION'], as_index=False)[['BASE SALARY']].median()\n",
    "df_hou['BASE SALARY'] = df_hou['BASE SALARY'].astype('int')\n",
    "\n",
    "rows_chi = extract_table_rows('chi.html')\n",
    "df_chi = raw_rows_to_pandas(rows_chi[1:])\n",
    "df_chi = filter_jobs(df_chi, target_job_list)\n",
    "df_chi = reduce_jobs(df_chi)\n",
    "df_chi['LOCATION'] = 'CHICAGO'\n",
    "df_chi = df_chi.groupby(['JOB TITLE','LOCATION'], as_index=False)[['BASE SALARY']].median()\n",
    "df_chi['BASE SALARY'] = df_hou['BASE SALARY'].astype('int')\n",
    "\n",
    "\n",
    "df_summary  = pandas.concat([df_atl, df_nyc, df_sfo, df_hou, df_chi],ignore_index=True)\n",
    "    \n",
    "\n",
    "# Peek at your result:\n",
    "display(df_summary)"
   ]
  },
  {
   "cell_type": "code",
   "execution_count": 23,
   "metadata": {
    "deletable": false,
    "editable": false,
    "nbgrader": {
     "grade": false,
     "locked": true,
     "solution": false
    }
   },
   "outputs": [
    {
     "data": {
      "image/png": "[encoded data removed]",
      "text/plain": [
       "<Figure size 864x432 with 1 Axes>"
      ]
     },
     "metadata": {},
     "output_type": "display_data"
    }
   ],
   "source": [
    "# Quick plot\n",
    "figure(figsize=(12, 6))\n",
    "g = barplot(x='JOB TITLE', y='BASE SALARY', hue='LOCATION', data=df_summary)\n",
    "set_palette(color_palette('colorblind'))"
   ]
  },
  {
   "cell_type": "code",
   "execution_count": 24,
   "metadata": {
    "deletable": false,
    "editable": false,
    "nbgrader": {
     "grade": true,
     "grade_id": "exercise4__df_summary",
     "locked": true,
     "points": "2",
     "solution": false
    }
   },
   "outputs": [
    {
     "name": "stdout",
     "output_type": "stream",
     "text": [
      "Checking against hashed solution, ./resource/asnlib/publicdata/ex4_soln.csv.\n",
      "The following rows of your solution may be problematic (e.g., are extraneous, have incorrect values).\n",
      "Only showing up to the first ten such rows.\n"
     ]
    },
    {
     "data": {
      "text/html": [
       "<div>\n",
       "<style scoped>\n",
       "    .dataframe tbody tr th:only-of-type {\n",
       "        vertical-align: middle;\n",
       "    }\n",
       "\n",
       "    .dataframe tbody tr th {\n",
       "        vertical-align: top;\n",
       "    }\n",
       "\n",
       "    .dataframe thead th {\n",
       "        text-align: right;\n",
       "    }\n",
       "</style>\n",
       "<table border=\"1\" class=\"dataframe\">\n",
       "  <thead>\n",
       "    <tr style=\"text-align: right;\">\n",
       "      <th></th>\n",
       "      <th>JOB TITLE</th>\n",
       "      <th>LOCATION</th>\n",
       "      <th>BASE SALARY</th>\n",
       "    </tr>\n",
       "  </thead>\n",
       "  <tbody>\n",
       "    <tr>\n",
       "      <th>17.0</th>\n",
       "      <td>DATA ENGINEER</td>\n",
       "      <td>CHICAGO</td>\n",
       "      <td>91707</td>\n",
       "    </tr>\n",
       "    <tr>\n",
       "      <th>16.0</th>\n",
       "      <td>DATA ANALYST</td>\n",
       "      <td>CHICAGO</td>\n",
       "      <td>74600</td>\n",
       "    </tr>\n",
       "    <tr>\n",
       "      <th>19.0</th>\n",
       "      <td>DATABASE ADMINISTRATOR</td>\n",
       "      <td>CHICAGO</td>\n",
       "      <td>66000</td>\n",
       "    </tr>\n",
       "    <tr>\n",
       "      <th>18.0</th>\n",
       "      <td>DATA SCIENTIST</td>\n",
       "      <td>CHICAGO</td>\n",
       "      <td>94361</td>\n",
       "    </tr>\n",
       "  </tbody>\n",
       "</table>\n",
       "</div>"
      ],
      "text/plain": [
       "                   JOB TITLE LOCATION  BASE SALARY\n",
       "17.0           DATA ENGINEER  CHICAGO        91707\n",
       "16.0            DATA ANALYST  CHICAGO        74600\n",
       "19.0  DATABASE ADMINISTRATOR  CHICAGO        66000\n",
       "18.0          DATA SCIENTIST  CHICAGO        94361"
      ]
     },
     "metadata": {},
     "output_type": "display_data"
    },
    {
     "name": "stdout",
     "output_type": "stream",
     "text": [
      "There may be missing rows, too.\n"
     ]
    },
    {
     "ename": "AssertionError",
     "evalue": "Your solution does not match what we expected to see. Please try again!",
     "output_type": "error",
     "traceback": [
      "\u001b[0;31m---------------------------------------------------------------------------\u001b[0m",
      "\u001b[0;31mAssertionError\u001b[0m                            Traceback (most recent call last)",
      "\u001b[0;32m<ipython-input-24-bed27a239844>\u001b[0m in \u001b[0;36m<module>\u001b[0;34m()\u001b[0m\n\u001b[1;32m     14\u001b[0m     \u001b[0;32massert\u001b[0m \u001b[0mtibbles_left_matches_right\u001b[0m\u001b[0;34m(\u001b[0m\u001b[0mdf_summary\u001b[0m\u001b[0;34m,\u001b[0m \u001b[0mdf_soln_hashed\u001b[0m\u001b[0;34m,\u001b[0m \u001b[0mhash_A\u001b[0m\u001b[0;34m=\u001b[0m\u001b[0;32mTrue\u001b[0m\u001b[0;34m,\u001b[0m \u001b[0mverbose\u001b[0m\u001b[0;34m=\u001b[0m\u001b[0;32mTrue\u001b[0m\u001b[0;34m)\u001b[0m\u001b[0;34m,\u001b[0m            \u001b[0;34m\"Your solution does not match what we expected to see. Please try again!\"\u001b[0m\u001b[0;34m\u001b[0m\u001b[0m\n\u001b[1;32m     15\u001b[0m \u001b[0;34m\u001b[0m\u001b[0m\n\u001b[0;32m---> 16\u001b[0;31m \u001b[0mcheck4\u001b[0m\u001b[0;34m(\u001b[0m\u001b[0mdf_summary\u001b[0m\u001b[0;34m)\u001b[0m\u001b[0;34m\u001b[0m\u001b[0m\n\u001b[0m\u001b[1;32m     17\u001b[0m \u001b[0;34m\u001b[0m\u001b[0m\n\u001b[1;32m     18\u001b[0m \u001b[0mprint\u001b[0m\u001b[0;34m(\u001b[0m\u001b[0;34m\"\\n(Passed.)\"\u001b[0m\u001b[0;34m)\u001b[0m\u001b[0;34m\u001b[0m\u001b[0m\n",
      "\u001b[0;32m<ipython-input-24-bed27a239844>\u001b[0m in \u001b[0;36mcheck4\u001b[0;34m(df_summary)\u001b[0m\n\u001b[1;32m     12\u001b[0m     \u001b[0mprint\u001b[0m\u001b[0;34m(\u001b[0m\u001b[0;34mf\"Checking against hashed solution, {soln_csv}.\"\u001b[0m\u001b[0;34m)\u001b[0m\u001b[0;34m\u001b[0m\u001b[0m\n\u001b[1;32m     13\u001b[0m     \u001b[0mdf_soln_hashed\u001b[0m \u001b[0;34m=\u001b[0m \u001b[0mread_csv\u001b[0m\u001b[0;34m(\u001b[0m\u001b[0msoln_csv\u001b[0m\u001b[0;34m)\u001b[0m\u001b[0;34m\u001b[0m\u001b[0m\n\u001b[0;32m---> 14\u001b[0;31m     \u001b[0;32massert\u001b[0m \u001b[0mtibbles_left_matches_right\u001b[0m\u001b[0;34m(\u001b[0m\u001b[0mdf_summary\u001b[0m\u001b[0;34m,\u001b[0m \u001b[0mdf_soln_hashed\u001b[0m\u001b[0;34m,\u001b[0m \u001b[0mhash_A\u001b[0m\u001b[0;34m=\u001b[0m\u001b[0;32mTrue\u001b[0m\u001b[0;34m,\u001b[0m \u001b[0mverbose\u001b[0m\u001b[0;34m=\u001b[0m\u001b[0;32mTrue\u001b[0m\u001b[0;34m)\u001b[0m\u001b[0;34m,\u001b[0m            \u001b[0;34m\"Your solution does not match what we expected to see. Please try again!\"\u001b[0m\u001b[0;34m\u001b[0m\u001b[0m\n\u001b[0m\u001b[1;32m     15\u001b[0m \u001b[0;34m\u001b[0m\u001b[0m\n\u001b[1;32m     16\u001b[0m \u001b[0mcheck4\u001b[0m\u001b[0;34m(\u001b[0m\u001b[0mdf_summary\u001b[0m\u001b[0;34m)\u001b[0m\u001b[0;34m\u001b[0m\u001b[0m\n",
      "\u001b[0;31mAssertionError\u001b[0m: Your solution does not match what we expected to see. Please try again!"
     ]
    }
   ],
   "source": [
    "# Test cell: `exercise4__df_summary`\n",
    "\n",
    "# The following may indicate the presence of hidden tests in this cell,\n",
    "# but in fact, there are none.\n",
    "###\n",
    "### AUTOGRADER TEST - DO NOT REMOVE\n",
    "###\n",
    "\n",
    "def check4(df_summary):\n",
    "    from pandas import read_csv\n",
    "    soln_csv = dataset_path(f\"ex4_soln.csv\")\n",
    "    print(f\"Checking against hashed solution, {soln_csv}.\")\n",
    "    df_soln_hashed = read_csv(soln_csv)\n",
    "    assert tibbles_left_matches_right(df_summary, df_soln_hashed, hash_A=True, verbose=True), \\\n",
    "           \"Your solution does not match what we expected to see. Please try again!\"\n",
    "    \n",
    "check4(df_summary)\n",
    "\n",
    "print(\"\\n(Passed.)\")"
   ]
  },
  {
   "cell_type": "markdown",
   "metadata": {
    "deletable": false,
    "editable": false,
    "nbgrader": {
     "grade": false,
     "locked": true,
     "solution": false
    }
   },
   "source": [
    "**Fin!** You’ve reached the end of this part. Don’t forget to restart and run all cells again to make sure it’s all working when run in sequence; and make sure your work passes the submission process. If the autograder seems to fail, be sure to inspect the grading report for more information. Good luck!\n",
    "\n",
    "Of course, the analysis conducted above is just the tip of the iceberg in terms of what you could mine from the H1B data. If you have time after the exam is over, take some time to ask and answer your own questions about it! For instance, which companies are offering the highest base salaries for the type of data analysis job you are after? If you need some inspiration, refer to the following two-part blog post, which was the source of the ideas for this problem: [Part 1](https://towardsdatascience.com/how-much-do-data-scientists-make-cbd7ec2b458) and [Part 2](https://towardsdatascience.com/how-much-do-data-scientists-make-part-2-cb959a0d05f)."
   ]
  }
 ],
 "metadata": {
  "kernelspec": {
   "display_name": "Python 3 [3.6]",
   "language": "python",
   "name": "python3"
  },
  "language_info": {
   "codemirror_mode": {
    "name": "ipython",
    "version": 3
   },
   "file_extension": ".py",
   "mimetype": "text/x-python",
   "name": "python",
   "nbconvert_exporter": "python",
   "pygments_lexer": "ipython3",
   "version": "3.6.4"
  }
 },
 "nbformat": 4,
 "nbformat_minor": 2
}
