{
 "cells": [
  {
   "cell_type": "markdown",
   "metadata": {
    "deletable": false,
    "editable": false,
    "nbgrader": {
     "grade": false,
     "locked": true,
     "solution": false
    }
   },
   "source": [
    "# Problem 0: Soccer Guru\n",
    "\n",
    "_Version 1.5_"
   ]
  },
  {
   "cell_type": "markdown",
   "metadata": {
    "deletable": false,
    "editable": false,
    "nbgrader": {
     "grade": false,
     "locked": true,
     "solution": false
    }
   },
   "source": [
    "Soccer season is on and teams need to start preparing for the World Cup 2022. We need your help as a **Soccer Guru** to analyse different statistics and come up with insights to help the teams prepare better.\n",
    "\n",
    "This problem tests your understanding of Pandas and SQL concepts.\n",
    "\n",
    "**Important note.** Due to a limitation in Vocareum's software stack, this notebook is set to use the Python 3.5 kernel (rather than a more up-to-date 3.6 or 3.7 kernel). If you are developing on your local machine and are using a different version of Python, you may need to adapt your solution before submitting to the autograder.\n"
   ]
  },
  {
   "cell_type": "markdown",
   "metadata": {
    "deletable": false,
    "editable": false,
    "nbgrader": {
     "grade": false,
     "locked": true,
     "solution": false
    }
   },
   "source": [
    "**Exercise 0** (0 points). Run the code cell below to load the data, which is a SQLite3 database containing results and fixtures of various soccer matches that have been played around the globe since 1980.\n",
    "\n",
    "Observe that the code loads all rows from the table, `soccer_results`, contained in the database file, `prob0.db`.\n",
    "\n",
    "> You do not need to do anything for this problem other than run the next two code cells and familiarize yourself with the resulting dataframe, which is stored in the variable `df`."
   ]
  },
  {
   "cell_type": "code",
   "execution_count": 1,
   "metadata": {
    "collapsed": true,
    "deletable": false,
    "editable": false,
    "nbgrader": {
     "grade": false,
     "locked": true,
     "solution": false
    }
   },
   "outputs": [],
   "source": [
    "import sqlite3 as db\n",
    "import pandas as pd\n",
    "from datetime import datetime\n",
    "from collections import defaultdict\n",
    "disk_engine = db.connect('file:prob0.db?mode=ro', uri=True)\n",
    "\n",
    "def load_data():\n",
    "    df = pd.read_sql_query(\"SELECT * FROM soccer_results\", disk_engine) \n",
    "    return df"
   ]
  },
  {
   "cell_type": "code",
   "execution_count": 2,
   "metadata": {
    "deletable": false,
    "editable": false,
    "nbgrader": {
     "grade": true,
     "grade_id": "EX0",
     "locked": true,
     "points": "0",
     "solution": false
    }
   },
   "outputs": [
    {
     "name": "stdout",
     "output_type": "stream",
     "text": [
      "\n",
      "(Passed!)\n"
     ]
    },
    {
     "data": {
      "text/html": [
       "<div>\n",
       "<style scoped>\n",
       "    .dataframe tbody tr th:only-of-type {\n",
       "        vertical-align: middle;\n",
       "    }\n",
       "\n",
       "    .dataframe tbody tr th {\n",
       "        vertical-align: top;\n",
       "    }\n",
       "\n",
       "    .dataframe thead th {\n",
       "        text-align: right;\n",
       "    }\n",
       "</style>\n",
       "<table border=\"1\" class=\"dataframe\">\n",
       "  <thead>\n",
       "    <tr style=\"text-align: right;\">\n",
       "      <th></th>\n",
       "      <th>date</th>\n",
       "      <th>home_team</th>\n",
       "      <th>away_team</th>\n",
       "      <th>home_score</th>\n",
       "      <th>away_score</th>\n",
       "      <th>tournament</th>\n",
       "      <th>city</th>\n",
       "      <th>country</th>\n",
       "      <th>neutral</th>\n",
       "    </tr>\n",
       "  </thead>\n",
       "  <tbody>\n",
       "    <tr>\n",
       "      <th>0</th>\n",
       "      <td>1994-01-02</td>\n",
       "      <td>Barbados</td>\n",
       "      <td>Grenada</td>\n",
       "      <td>0</td>\n",
       "      <td>0</td>\n",
       "      <td>Friendly</td>\n",
       "      <td>Bridgetown</td>\n",
       "      <td>Barbados</td>\n",
       "      <td>FALSE</td>\n",
       "    </tr>\n",
       "    <tr>\n",
       "      <th>1</th>\n",
       "      <td>1994-01-02</td>\n",
       "      <td>Ghana</td>\n",
       "      <td>Egypt</td>\n",
       "      <td>2</td>\n",
       "      <td>1</td>\n",
       "      <td>Friendly</td>\n",
       "      <td>Accra</td>\n",
       "      <td>Ghana</td>\n",
       "      <td>FALSE</td>\n",
       "    </tr>\n",
       "    <tr>\n",
       "      <th>2</th>\n",
       "      <td>1994-01-05</td>\n",
       "      <td>Mali</td>\n",
       "      <td>Burkina Faso</td>\n",
       "      <td>1</td>\n",
       "      <td>1</td>\n",
       "      <td>Friendly</td>\n",
       "      <td>Bamako</td>\n",
       "      <td>Mali</td>\n",
       "      <td>FALSE</td>\n",
       "    </tr>\n",
       "    <tr>\n",
       "      <th>3</th>\n",
       "      <td>1994-01-09</td>\n",
       "      <td>Mauritania</td>\n",
       "      <td>Mali</td>\n",
       "      <td>1</td>\n",
       "      <td>3</td>\n",
       "      <td>Friendly</td>\n",
       "      <td>Nouakchott</td>\n",
       "      <td>Mauritania</td>\n",
       "      <td>FALSE</td>\n",
       "    </tr>\n",
       "    <tr>\n",
       "      <th>4</th>\n",
       "      <td>1994-01-11</td>\n",
       "      <td>Thailand</td>\n",
       "      <td>Nigeria</td>\n",
       "      <td>1</td>\n",
       "      <td>1</td>\n",
       "      <td>Friendly</td>\n",
       "      <td>Bangkok</td>\n",
       "      <td>Thailand</td>\n",
       "      <td>FALSE</td>\n",
       "    </tr>\n",
       "  </tbody>\n",
       "</table>\n",
       "</div>"
      ],
      "text/plain": [
       "         date   home_team     away_team  home_score  away_score tournament  \\\n",
       "0  1994-01-02    Barbados       Grenada           0           0   Friendly   \n",
       "1  1994-01-02       Ghana         Egypt           2           1   Friendly   \n",
       "2  1994-01-05        Mali  Burkina Faso           1           1   Friendly   \n",
       "3  1994-01-09  Mauritania          Mali           1           3   Friendly   \n",
       "4  1994-01-11    Thailand       Nigeria           1           1   Friendly   \n",
       "\n",
       "         city     country neutral  \n",
       "0  Bridgetown    Barbados   FALSE  \n",
       "1       Accra       Ghana   FALSE  \n",
       "2      Bamako        Mali   FALSE  \n",
       "3  Nouakchott  Mauritania   FALSE  \n",
       "4     Bangkok    Thailand   FALSE  "
      ]
     },
     "execution_count": 2,
     "metadata": {},
     "output_type": "execute_result"
    }
   ],
   "source": [
    "# Test: Exercise 0 (exposed)\n",
    "df = load_data()\n",
    "assert df.shape[0] == 22851, \"Row counts do not match. Try loading the data again\"\n",
    "assert df.shape[1] == 9, \"You don't have all the columns. Try loading the data again\"\n",
    "print(\"\\n(Passed!)\")\n",
    "df.head()"
   ]
  },
  {
   "cell_type": "markdown",
   "metadata": {
    "deletable": false,
    "editable": false,
    "nbgrader": {
     "grade": false,
     "locked": true,
     "solution": false
    }
   },
   "source": [
    "Each row of this dataframe is a game, which is played between a \"home team\" (column `home_team`) and an \"away team\" (`away_team`). The number of goals scored by each team appears in the `home_score` and `away_score` columns, respectively."
   ]
  },
  {
   "cell_type": "markdown",
   "metadata": {
    "deletable": false,
    "editable": false,
    "nbgrader": {
     "grade": false,
     "locked": true,
     "solution": false
    }
   },
   "source": [
    "**Exercise 1** (1 point): Write an **SQL query** find the ten (10) teams that have the highest average away-scores since the year 2000. Your query should satisfy the following criteria:\n",
    "\n",
    "- It should return two columns:\n",
    "    * `team`: The name of the team\n",
    "    * `ave_goals`: The team's average number of goals **in \"away\" games.** An \"away game\" is one in which the team's name appars in `away_team` **and** the game takes place at a \"non-neutral site\" (`neutral` value equals `FALSE`).\n",
    "- It should only include teams that have played **at least 30 away matches**.\n",
    "- It should round the average goals value (`ave_goals`) to three decimal places.\n",
    "- It should only return the top 10 teams in descending order by average away-goals.\n",
    "- It should only consider games played since 2000 (including the year 2000).\n",
    "\n",
    "Store your query string as the variable, `query_top10_away`, below. The test cell will run this query string against the input dataframe, `df`, defined above and return the result in a dataframe named `offensive_teams`. (See the test cell.)\n",
    "\n",
    "> **Note.** The following exercises have hidden test cases and you'll be awarded full points for passing both the exposed and hidden test cases."
   ]
  },
  {
   "cell_type": "code",
   "execution_count": 3,
   "metadata": {},
   "outputs": [
    {
     "data": {
      "text/plain": [
       "[('Germany', 2.17),\n",
       " ('Brazil', 2.01),\n",
       " ('Spain', 1.927),\n",
       " ('England', 1.763),\n",
       " ('Netherlands', 1.742),\n",
       " ('France', 1.639),\n",
       " ('Portugal', 1.579),\n",
       " ('Argentina', 1.56),\n",
       " ('Saudi Arabia', 1.54),\n",
       " ('Denmark', 1.534)]"
      ]
     },
     "execution_count": 3,
     "metadata": {},
     "output_type": "execute_result"
    }
   ],
   "source": [
    "c = disk_engine.cursor()\n",
    "\n",
    "query_top10_away = '''\n",
    "    \n",
    "    with two as (\n",
    "    with one as (\n",
    "    Select away_team as team, count(*) as matches\n",
    "    from soccer_results\n",
    "    where neutral = 'FALSE' \n",
    "    group by team\n",
    "    order by matches desc)\n",
    "    select team \n",
    "    from one \n",
    "    where matches > 29)\n",
    "    \n",
    "    Select away_team as team, round(avg(away_score),3) as ave_goals\n",
    "    from soccer_results\n",
    "    where neutral = 'FALSE' and cast(strftime('%Y',date) as int) > 1999 and team in two\n",
    "    group by team\n",
    "    order by ave_goals desc\n",
    "    Limit 10\n",
    "\n",
    "'''  # Write your query here!\n",
    "\n",
    "\n",
    "\n",
    "c.execute(query_top10_away)\n",
    "result = c.fetchall()\n",
    "result\n",
    "#print(query_top10_away)"
   ]
  },
  {
   "cell_type": "code",
   "execution_count": 4,
   "metadata": {
    "deletable": false,
    "editable": false,
    "nbgrader": {
     "grade": true,
     "grade_id": "exercise1",
     "locked": true,
     "points": "0",
     "solution": false
    }
   },
   "outputs": [
    {
     "name": "stdout",
     "output_type": "stream",
     "text": [
      "           team  ave_goals\n",
      "0       Germany      2.170\n",
      "1        Brazil      2.010\n",
      "2         Spain      1.927\n",
      "3       England      1.763\n",
      "4   Netherlands      1.742\n",
      "5        France      1.639\n",
      "6      Portugal      1.579\n",
      "7     Argentina      1.560\n",
      "8  Saudi Arabia      1.540\n",
      "9       Denmark      1.534\n",
      "\n",
      "(Passed!)\n"
     ]
    }
   ],
   "source": [
    "# Test: Exercise 1 (exposed)\n",
    "offensive_teams = pd.read_sql_query(query_top10_away, disk_engine)\n",
    "df_cols = offensive_teams.columns.tolist()\n",
    "df_cols.sort()\n",
    "desired_cols = ['team', 'ave_goals']\n",
    "desired_cols.sort()\n",
    "print(offensive_teams.head(10))\n",
    "assert offensive_teams.shape[0] == 10, \"Expected 10 rows but returned dataframe has {}\".format(offensive_teams.shape[0])\n",
    "assert offensive_teams.shape[1] == 2, \"Expected 2 columns but returned dataframe has {}\".format(offensive_teams.shape[1])\n",
    "assert df_cols == desired_cols, \"Column names should be: {}. Returned dataframe has: {}\".format(desired_cols, df_cols)\n",
    "\n",
    "tolerance = .001\n",
    "team_4 = offensive_teams.iloc[3].team\n",
    "team_4_ave = offensive_teams.iloc[3].ave_goals\n",
    "desired_team_4_ave = 1.763\n",
    "assert (team_4 == \"England\" and abs(team_4_ave - 1.763) <= .001), \"Fourth entry is {} with average of {}. Got {} with average of {}\".format(\"England\", 1.76, team_4, team_4_ave)\n",
    "\n",
    "print(\"\\n(Passed!)\")"
   ]
  },
  {
   "cell_type": "code",
   "execution_count": 5,
   "metadata": {
    "deletable": false,
    "editable": false,
    "nbgrader": {
     "grade": true,
     "grade_id": "exercise1_hidden",
     "locked": true,
     "points": "1",
     "solution": false
    }
   },
   "outputs": [
    {
     "name": "stdout",
     "output_type": "stream",
     "text": [
      "\n",
      "In addition to the tests above, this cell will include some hidden tests.\n",
      "You will only know the result when you submit your solution to the\n",
      "autograder.\n",
      "\n"
     ]
    }
   ],
   "source": [
    "# Hidden test cell: exercise1_hidden\n",
    "\n",
    "print(\"\"\"\n",
    "In addition to the tests above, this cell will include some hidden tests.\n",
    "You will only know the result when you submit your solution to the\n",
    "autograder.\n",
    "\"\"\")\n",
    "\n",
    "###\n",
    "### AUTOGRADER TEST - DO NOT REMOVE\n",
    "###\n"
   ]
  },
  {
   "cell_type": "markdown",
   "metadata": {
    "deletable": false,
    "editable": false,
    "nbgrader": {
     "grade": false,
     "locked": true,
     "solution": false
    }
   },
   "source": [
    "**Exercise 2** (2 points): Suppose we are now interested in the top 10 teams having the best goal **differential**, between the years 2012 and 2018 (both inclusive). A team's goal differential is the difference between the total number of goals it scored and the total number it conceded across all games (in the requested years).\n",
    "\n",
    "Complete the function, `best_goal_differential()`, below, so that it returns a pandas dataframe containing the top 10 teams by goal differential, sorted in descending order of differential. The dataframe should have two columns: `team`, which holds the team's name, and `differential`, which holds its overall goal differential.\n",
    "\n",
    "> As a sanity check, you should find the Brazil is the number one team, with a differential of 152 during the selected time period of 2012-2018 (inclusive). It should be the first row of the returned dataframe."
   ]
  },
  {
   "cell_type": "code",
   "execution_count": 6,
   "metadata": {},
   "outputs": [
    {
     "data": {
      "text/html": [
       "<div>\n",
       "<style scoped>\n",
       "    .dataframe tbody tr th:only-of-type {\n",
       "        vertical-align: middle;\n",
       "    }\n",
       "\n",
       "    .dataframe tbody tr th {\n",
       "        vertical-align: top;\n",
       "    }\n",
       "\n",
       "    .dataframe thead th {\n",
       "        text-align: right;\n",
       "    }\n",
       "</style>\n",
       "<table border=\"1\" class=\"dataframe\">\n",
       "  <thead>\n",
       "    <tr style=\"text-align: right;\">\n",
       "      <th></th>\n",
       "      <th>team</th>\n",
       "      <th>differential</th>\n",
       "    </tr>\n",
       "  </thead>\n",
       "  <tbody>\n",
       "    <tr>\n",
       "      <th>0</th>\n",
       "      <td>Brazil</td>\n",
       "      <td>152</td>\n",
       "    </tr>\n",
       "    <tr>\n",
       "      <th>1</th>\n",
       "      <td>Spain</td>\n",
       "      <td>147</td>\n",
       "    </tr>\n",
       "    <tr>\n",
       "      <th>2</th>\n",
       "      <td>Belgium</td>\n",
       "      <td>119</td>\n",
       "    </tr>\n",
       "    <tr>\n",
       "      <th>3</th>\n",
       "      <td>Germany</td>\n",
       "      <td>113</td>\n",
       "    </tr>\n",
       "    <tr>\n",
       "      <th>4</th>\n",
       "      <td>France</td>\n",
       "      <td>98</td>\n",
       "    </tr>\n",
       "    <tr>\n",
       "      <th>5</th>\n",
       "      <td>Iran</td>\n",
       "      <td>91</td>\n",
       "    </tr>\n",
       "    <tr>\n",
       "      <th>6</th>\n",
       "      <td>England</td>\n",
       "      <td>90</td>\n",
       "    </tr>\n",
       "    <tr>\n",
       "      <th>7</th>\n",
       "      <td>Portugal</td>\n",
       "      <td>87</td>\n",
       "    </tr>\n",
       "    <tr>\n",
       "      <th>8</th>\n",
       "      <td>Argentina</td>\n",
       "      <td>86</td>\n",
       "    </tr>\n",
       "    <tr>\n",
       "      <th>9</th>\n",
       "      <td>Japan</td>\n",
       "      <td>81</td>\n",
       "    </tr>\n",
       "  </tbody>\n",
       "</table>\n",
       "</div>"
      ],
      "text/plain": [
       "        team  differential\n",
       "0     Brazil           152\n",
       "1      Spain           147\n",
       "2    Belgium           119\n",
       "3    Germany           113\n",
       "4     France            98\n",
       "5       Iran            91\n",
       "6    England            90\n",
       "7   Portugal            87\n",
       "8  Argentina            86\n",
       "9      Japan            81"
      ]
     },
     "execution_count": 6,
     "metadata": {},
     "output_type": "execute_result"
    }
   ],
   "source": [
    "def best_goal_differential():\n",
    "    query_top_diff = '''\n",
    "    \n",
    "        with home as (\n",
    "        select home_team as team, sum(home_score) as score, sum(away_score) as concede\n",
    "        from soccer_results\n",
    "        where cast(strftime('%Y',date) as int) > 2011 and cast(strftime('%Y',date) as int) < 2019\n",
    "        group by team\n",
    "        )\n",
    "        \n",
    "        , away as (\n",
    "        select away_team as team, sum(away_score) as score, sum(home_score) as concede\n",
    "        from soccer_results\n",
    "        where cast(strftime('%Y',date) as int) > 2011 and cast(strftime('%Y',date) as int) < 2019\n",
    "        group by team\n",
    "        )\n",
    "\n",
    "        Select home.team as team, away.score+home.score-home.concede-away.concede as differential\n",
    "        from home, away\n",
    "        where home.team = away.team\n",
    "        order by differential desc\n",
    "        limit 10\n",
    "\n",
    "    '''\n",
    "\n",
    "    goal_diff = pd.read_sql_query(query_top_diff, disk_engine)\n",
    "    return goal_diff\n",
    "\n",
    "best_goal_differential()\n"
   ]
  },
  {
   "cell_type": "code",
   "execution_count": 7,
   "metadata": {
    "deletable": false,
    "editable": false,
    "nbgrader": {
     "grade": true,
     "grade_id": "exercise2",
     "locked": true,
     "points": "1",
     "solution": false
    }
   },
   "outputs": [
    {
     "name": "stdout",
     "output_type": "stream",
     "text": [
      "\n",
      "(Passed!)\n"
     ]
    }
   ],
   "source": [
    "# Test: Exercise 2 (exposed)\n",
    "\n",
    "diff_df = best_goal_differential()\n",
    "df_cols = diff_df.columns.tolist()\n",
    "df_cols.sort()\n",
    "desired_cols = ['team', 'differential']\n",
    "desired_cols.sort()\n",
    "\n",
    "assert isinstance(diff_df, pd.DataFrame), \"Dataframe object not returned\"\n",
    "assert diff_df.shape[0] == 10, \"Expected 10 rows but returned dataframe has {}\".format(diff_df.shape[0])\n",
    "assert diff_df.shape[1] == 2, \"Expected 2 columns but returned dataframe has {}\".format(diff_df.shape[1])\n",
    "assert df_cols == desired_cols, \"Column names should be: {}. Returned dataframe has: {}\".format(desired_cols, df_cols)\n",
    "\n",
    "best_team = diff_df.iloc[0].team\n",
    "best_diff = diff_df.iloc[0].differential\n",
    "assert (best_team == \"Brazil\" and best_diff == 152), \"{} has best differential of {}. Got team {} having best differential of {}\".format(\"Brazil\", 152, best_team, best_diff)\n",
    "\n",
    "print(\"\\n(Passed!)\")"
   ]
  },
  {
   "cell_type": "code",
   "execution_count": 8,
   "metadata": {
    "deletable": false,
    "editable": false,
    "nbgrader": {
     "grade": true,
     "grade_id": "exercise2_hidden",
     "locked": true,
     "points": "1",
     "solution": false
    }
   },
   "outputs": [
    {
     "name": "stdout",
     "output_type": "stream",
     "text": [
      "\n",
      "In addition to the tests above, this cell will include some hidden tests.\n",
      "You will only know the result when you submit your solution to the\n",
      "autograder.\n",
      "\n"
     ]
    }
   ],
   "source": [
    "# Hidden test cell: exercise2_hidden\n",
    "\n",
    "print(\"\"\"\n",
    "In addition to the tests above, this cell will include some hidden tests.\n",
    "You will only know the result when you submit your solution to the\n",
    "autograder.\n",
    "\"\"\")\n",
    "\n",
    "###\n",
    "### AUTOGRADER TEST - DO NOT REMOVE\n",
    "###\n"
   ]
  },
  {
   "cell_type": "markdown",
   "metadata": {
    "deletable": false,
    "editable": false,
    "nbgrader": {
     "grade": false,
     "locked": true,
     "solution": false
    }
   },
   "source": [
    "**Exercise 3** (1 point). Complete the function, `determine_winners(game_df)`, below. It should determine the winner of each soccer game.\n",
    "\n",
    "In particular, the function should take in a dataframe like `df` from above. It should return a new dataframe consisting of all the columns from that dataframe plus a new columnn called **`winner`**, holding the name of the winning team. If there is no winner for a particular game (i.e., the score is tied), then the `winner` column should containing the string, `'Draw'`. Lastly, the rows of the output should be in the same order as the input dataframe.\n",
    "\n",
    "You can use any dataframe manipulation techniques you want for this question _(i.e., pandas methods or SQL queries, as you prefer)._\n",
    "\n",
    "> You'll need the output dataframe from this exercise for the subsequent exercies, so don't skip this one!"
   ]
  },
  {
   "cell_type": "code",
   "execution_count": 9,
   "metadata": {
    "collapsed": true,
    "nbgrader": {
     "grade": false,
     "locked": false,
     "solution": false
    }
   },
   "outputs": [],
   "source": [
    "import numpy as np\n",
    "def determine_winners(game_df):\n",
    "    \n",
    "    conditions = [ (game_df['home_score'] > df['away_score']), game_df['away_score'] > game_df['home_score']]\n",
    "\n",
    "    choices = [game_df['home_team'], game_df['away_team']]\n",
    "\n",
    "    game_df['winner'] = np.select(conditions, choices, default='Draw')\n",
    "    \n",
    "    return game_df"
   ]
  },
  {
   "cell_type": "code",
   "execution_count": 10,
   "metadata": {
    "deletable": false,
    "editable": false,
    "nbgrader": {
     "grade": true,
     "grade_id": "exercise3",
     "locked": true,
     "points": "0",
     "solution": false
    }
   },
   "outputs": [
    {
     "name": "stdout",
     "output_type": "stream",
     "text": [
      "\n",
      "(Passed!)\n"
     ]
    }
   ],
   "source": [
    "# Test: Exercise 3 (exposed)\n",
    "\n",
    "game_df = pd.read_sql_query(\"SELECT * FROM soccer_results\", disk_engine)\n",
    "winners_df = determine_winners(game_df)\n",
    "\n",
    "game_winner = winners_df.iloc[1].winner\n",
    "assert game_winner == \"Ghana\", \"Expected Ghana to be winner. Got {}\".format(game_winner)\n",
    "\n",
    "game_winner = winners_df.iloc[2].winner\n",
    "assert game_winner == \"Draw\", \"Match was Draw. Got {}\".format(game_winner)\n",
    "\n",
    "game_winner = winners_df.iloc[3].winner\n",
    "assert game_winner == \"Mali\", \"Expected Mali to be winner. Got {}\".format(game_winner)\n",
    "\n",
    "print(\"\\n(Passed!)\")"
   ]
  },
  {
   "cell_type": "code",
   "execution_count": 11,
   "metadata": {
    "deletable": false,
    "editable": false,
    "nbgrader": {
     "grade": true,
     "grade_id": "exercise3_hidden",
     "locked": true,
     "points": "1",
     "solution": false
    }
   },
   "outputs": [
    {
     "name": "stdout",
     "output_type": "stream",
     "text": [
      "\n",
      "In addition to the tests above, this cell will include some hidden tests.\n",
      "You will only know the result when you submit your solution to the\n",
      "autograder.\n",
      "\n"
     ]
    }
   ],
   "source": [
    "# Hidden test cell: exercise3_hidden\n",
    "\n",
    "print(\"\"\"\n",
    "In addition to the tests above, this cell will include some hidden tests.\n",
    "You will only know the result when you submit your solution to the\n",
    "autograder.\n",
    "\"\"\")\n",
    "\n",
    "###\n",
    "### AUTOGRADER TEST - DO NOT REMOVE\n",
    "###\n"
   ]
  },
  {
   "cell_type": "markdown",
   "metadata": {
    "deletable": false,
    "editable": false,
    "nbgrader": {
     "grade": false,
     "locked": true,
     "solution": false
    }
   },
   "source": [
    "**Exercise 4** (3 points): Given a team, its _home advantage ratio_ is the number of home games it has won divided by the number of home games it has played. For this exercise, we'll try to answer the question, how important is the home advantage in soccer? It's importance is factored into draws for competitions, for example, teams wanting to play at home the second leg of the matches of great importance such as tournament knockouts. (_This exercise has a pre-requisite of finishing Exercise 3 as we'll be using the results of the dataframe from that exercise in this one._)\n",
    "\n",
    "Complete the function, `calc_home_advantage(winners_df)`, below, so that it returns the top 5 countries, among those that have played at least 50 **home** games, having the highest home advantage ratio. It should return a dataframe with two columns, **`team`** and **`ratio`**, holding the name of the team and its home advantage ratio, respectively. The ratio should be rounded to three decimal places. The rows should be sorted in descending order of ratio. If there are two teams with the same winning ratio, the teams should appear in alphabetical order by name.\n",
    "\n",
    "> **Note 0.** As with our definition of away-games, a team plays a home game if it is the home team (`home_team`) **and** the field is non-neutral (i.e., `neutral` is `FALSE`).\n",
    ">\n",
    "> **Note 1.** You should find, for example, that Brazil is the number two team, with a home advantage ratio of 0.773."
   ]
  },
  {
   "cell_type": "code",
   "execution_count": 12,
   "metadata": {
    "collapsed": true
   },
   "outputs": [],
   "source": [
    "def calc_home_advantage(winners_df):\n",
    "    \n",
    "    #removing neutral venues for dataframe\n",
    "    new_winners_df = winners_df[winners_df['neutral']=='FALSE']\n",
    "    \n",
    "    #counting total home games\n",
    "    homecount_df = new_winners_df.groupby(['home_team'])['neutral'].count().reset_index()\n",
    "    homecount_df.columns= ['team','home_played']\n",
    "    \n",
    "    #separating the countries who played at least 50 games\n",
    "    homecount_df1 = homecount_df[homecount_df['home_played']>49]\n",
    "    \n",
    "    #counting total home wins\n",
    "    test = new_winners_df\n",
    "    conditions = [test['home_score'] > test['away_score']]\n",
    "    choices = [test['home_team']]\n",
    "    test['home_winner'] = np.select(conditions, choices, default='Draw')\n",
    "    homewins_df = test.groupby('home_winner')['neutral'].count().reset_index()\n",
    "    homewins_df.columns= ['team','home_won']\n",
    "    \n",
    "    #creating final dataframe with win ratio\n",
    "    final_df = pd.merge(homecount_df1, homewins_df, on='team')\n",
    "    final_df['ratio'] = final_df['home_won'] / final_df['home_played']\n",
    "    final_df1 = final_df[['team', 'ratio']].sort_values(by='ratio',ascending=False)\n",
    "    final_df1['ratio'] = final_df1['ratio'].round(3)\n",
    "    final_df1 = final_df1.nlargest(5,'ratio')\n",
    "    \n",
    "    return final_df1\n",
    "\n",
    "\n"
   ]
  },
  {
   "cell_type": "code",
   "execution_count": 13,
   "metadata": {
    "deletable": false,
    "editable": false,
    "nbgrader": {
     "grade": true,
     "grade_id": "exercise4",
     "locked": true,
     "points": "1",
     "solution": false
    }
   },
   "outputs": [
    {
     "name": "stdout",
     "output_type": "stream",
     "text": [
      "The solution, according to you:\n"
     ]
    },
    {
     "name": "stderr",
     "output_type": "stream",
     "text": [
      "/usr/local/lib/python3.5/dist-packages/ipykernel_launcher.py:17: SettingWithCopyWarning: \n",
      "A value is trying to be set on a copy of a slice from a DataFrame.\n",
      "Try using .loc[row_indexer,col_indexer] = value instead\n",
      "\n",
      "See the caveats in the documentation: http://pandas.pydata.org/pandas-docs/stable/indexing.html#indexing-view-versus-copy\n"
     ]
    },
    {
     "data": {
      "text/html": [
       "<div>\n",
       "<style scoped>\n",
       "    .dataframe tbody tr th:only-of-type {\n",
       "        vertical-align: middle;\n",
       "    }\n",
       "\n",
       "    .dataframe tbody tr th {\n",
       "        vertical-align: top;\n",
       "    }\n",
       "\n",
       "    .dataframe thead th {\n",
       "        text-align: right;\n",
       "    }\n",
       "</style>\n",
       "<table border=\"1\" class=\"dataframe\">\n",
       "  <thead>\n",
       "    <tr style=\"text-align: right;\">\n",
       "      <th></th>\n",
       "      <th>team</th>\n",
       "      <th>ratio</th>\n",
       "    </tr>\n",
       "  </thead>\n",
       "  <tbody>\n",
       "    <tr>\n",
       "      <th>114</th>\n",
       "      <td>Spain</td>\n",
       "      <td>0.800</td>\n",
       "    </tr>\n",
       "    <tr>\n",
       "      <th>18</th>\n",
       "      <td>Brazil</td>\n",
       "      <td>0.773</td>\n",
       "    </tr>\n",
       "    <tr>\n",
       "      <th>58</th>\n",
       "      <td>Iran</td>\n",
       "      <td>0.742</td>\n",
       "    </tr>\n",
       "    <tr>\n",
       "      <th>21</th>\n",
       "      <td>Cameroon</td>\n",
       "      <td>0.739</td>\n",
       "    </tr>\n",
       "    <tr>\n",
       "      <th>34</th>\n",
       "      <td>Egypt</td>\n",
       "      <td>0.724</td>\n",
       "    </tr>\n",
       "  </tbody>\n",
       "</table>\n",
       "</div>"
      ],
      "text/plain": [
       "         team  ratio\n",
       "114     Spain  0.800\n",
       "18     Brazil  0.773\n",
       "58       Iran  0.742\n",
       "21   Cameroon  0.739\n",
       "34      Egypt  0.724"
      ]
     },
     "metadata": {},
     "output_type": "display_data"
    },
    {
     "name": "stdout",
     "output_type": "stream",
     "text": [
      "\n",
      "(Passed!)\n"
     ]
    }
   ],
   "source": [
    "# Test: Exercise 4 (exposed)\n",
    "from IPython.display import display\n",
    "\n",
    "win_perc = calc_home_advantage(winners_df)\n",
    "\n",
    "print(\"The solution, according to you:\")\n",
    "display(win_perc)\n",
    "\n",
    "df_cols = win_perc.columns.tolist()\n",
    "df_cols.sort()\n",
    "desired_cols = ['team', 'ratio']\n",
    "desired_cols.sort()\n",
    "\n",
    "assert win_perc.shape[0] == 5, \"Expected 5 rows, got {}\".format(win_perc.shape[0])\n",
    "assert win_perc.shape[1] == 2, \"Expected 2 columns, got {}\".format(win_perc.shape[1])\n",
    "assert df_cols == desired_cols, \"Expected {} columns but got {} columns\".format(desired_cols, df_cols)\n",
    "\n",
    "tolerance = .001\n",
    "sec_team = win_perc.iloc[1].team\n",
    "sec_perc = win_perc.iloc[1].ratio\n",
    "\n",
    "assert (sec_team == \"Brazil\" and abs(sec_perc - .773) <= tolerance), \"Second team should be {} with ratio of {}. \\\n",
    "Got {} with ratio of {}\".format(\"Brazil\", .773, sec_team, sec_perc)\n",
    "\n",
    "print(\"\\n(Passed!)\")"
   ]
  },
  {
   "cell_type": "code",
   "execution_count": 14,
   "metadata": {
    "deletable": false,
    "editable": false,
    "nbgrader": {
     "grade": true,
     "grade_id": "exercise4_hidden",
     "locked": true,
     "points": "2",
     "solution": false
    }
   },
   "outputs": [
    {
     "name": "stdout",
     "output_type": "stream",
     "text": [
      "\n",
      "In addition to the tests above, this cell will include some hidden tests.\n",
      "You will only know the result when you submit your solution to the\n",
      "autograder.\n",
      "\n"
     ]
    }
   ],
   "source": [
    "# Hidden test cell: exercise4_hidden\n",
    "\n",
    "print(\"\"\"\n",
    "In addition to the tests above, this cell will include some hidden tests.\n",
    "You will only know the result when you submit your solution to the\n",
    "autograder.\n",
    "\"\"\")\n",
    "\n",
    "###\n",
    "### AUTOGRADER TEST - DO NOT REMOVE\n",
    "###\n"
   ]
  },
  {
   "cell_type": "markdown",
   "metadata": {
    "deletable": false,
    "editable": false,
    "nbgrader": {
     "grade": false,
     "locked": true,
     "solution": false
    }
   },
   "source": [
    "**Exercise 5** (3 points) Now, we've seen how much the home advantage plays in, let us see how the results have looked \n",
    "like in the previous tournaments, for the specific case of the FIFA World Cup matches.\n",
    "\n",
    "In particular, complete the function, `points_table(winners_df, wc_year)`, below, so that it does the following:\n",
    "- It should take as input a dataframe, `winners_df`, having a \"winner\" column like that produced in Exercise 3, as well as a target year, `wc_year`.\n",
    "- It should consider only games in the given target year. Furthermore, it should only consider games where the `tournament` column has the value `\"FIFA World Cup\"`.\n",
    "- It should construct and return a \"points table\". This table should have two columns, **`team`**, containing the team name, and **`points`**, containing a points tally has defined below.\n",
    "- To compute the points, give the team 3 points for every win, 1 point for every draw, and 0 points (no points) for a loss.\n",
    "- In case of a tie in the points, sort the teams alphabetically\n",
    "\n",
    "As an example output, for the 1998 FIFA World Cup, the points table is:\n",
    "\n",
    "| team        | points |\n",
    "|-------------|--------|\n",
    "| France      | 19     |\n",
    "| Croatia     | 15     |\n",
    "| Brazil      | 13     |\n",
    "| Netherlands | 12     |\n",
    "| Italy       | 11     |"
   ]
  },
  {
   "cell_type": "code",
   "execution_count": 18,
   "metadata": {},
   "outputs": [
    {
     "name": "stderr",
     "output_type": "stream",
     "text": [
      "/usr/local/lib/python3.5/dist-packages/ipykernel_launcher.py:5: SettingWithCopyWarning: \n",
      "A value is trying to be set on a copy of a slice from a DataFrame.\n",
      "Try using .loc[row_indexer,col_indexer] = value instead\n",
      "\n",
      "See the caveats in the documentation: http://pandas.pydata.org/pandas-docs/stable/indexing.html#indexing-view-versus-copy\n",
      "  \"\"\"\n"
     ]
    },
    {
     "data": {
      "text/html": [
       "<div>\n",
       "<style scoped>\n",
       "    .dataframe tbody tr th:only-of-type {\n",
       "        vertical-align: middle;\n",
       "    }\n",
       "\n",
       "    .dataframe tbody tr th {\n",
       "        vertical-align: top;\n",
       "    }\n",
       "\n",
       "    .dataframe thead th {\n",
       "        text-align: right;\n",
       "    }\n",
       "</style>\n",
       "<table border=\"1\" class=\"dataframe\">\n",
       "  <thead>\n",
       "    <tr style=\"text-align: right;\">\n",
       "      <th></th>\n",
       "      <th>team</th>\n",
       "      <th>points</th>\n",
       "    </tr>\n",
       "  </thead>\n",
       "  <tbody>\n",
       "    <tr>\n",
       "      <th>12</th>\n",
       "      <td>Germany</td>\n",
       "      <td>19</td>\n",
       "    </tr>\n",
       "    <tr>\n",
       "      <th>17</th>\n",
       "      <td>Netherlands</td>\n",
       "      <td>17</td>\n",
       "    </tr>\n",
       "    <tr>\n",
       "      <th>1</th>\n",
       "      <td>Argentina</td>\n",
       "      <td>16</td>\n",
       "    </tr>\n",
       "    <tr>\n",
       "      <th>2</th>\n",
       "      <td>Belgium</td>\n",
       "      <td>12</td>\n",
       "    </tr>\n",
       "    <tr>\n",
       "      <th>6</th>\n",
       "      <td>Colombia</td>\n",
       "      <td>12</td>\n",
       "    </tr>\n",
       "    <tr>\n",
       "      <th>4</th>\n",
       "      <td>Brazil</td>\n",
       "      <td>11</td>\n",
       "    </tr>\n",
       "    <tr>\n",
       "      <th>11</th>\n",
       "      <td>France</td>\n",
       "      <td>10</td>\n",
       "    </tr>\n",
       "    <tr>\n",
       "      <th>7</th>\n",
       "      <td>Costa Rica</td>\n",
       "      <td>9</td>\n",
       "    </tr>\n",
       "    <tr>\n",
       "      <th>5</th>\n",
       "      <td>Chile</td>\n",
       "      <td>7</td>\n",
       "    </tr>\n",
       "    <tr>\n",
       "      <th>16</th>\n",
       "      <td>Mexico</td>\n",
       "      <td>7</td>\n",
       "    </tr>\n",
       "    <tr>\n",
       "      <th>21</th>\n",
       "      <td>Switzerland</td>\n",
       "      <td>6</td>\n",
       "    </tr>\n",
       "    <tr>\n",
       "      <th>23</th>\n",
       "      <td>Uruguay</td>\n",
       "      <td>6</td>\n",
       "    </tr>\n",
       "    <tr>\n",
       "      <th>13</th>\n",
       "      <td>Greece</td>\n",
       "      <td>5</td>\n",
       "    </tr>\n",
       "    <tr>\n",
       "      <th>0</th>\n",
       "      <td>Algeria</td>\n",
       "      <td>4</td>\n",
       "    </tr>\n",
       "    <tr>\n",
       "      <th>10</th>\n",
       "      <td>Ecuador</td>\n",
       "      <td>4</td>\n",
       "    </tr>\n",
       "    <tr>\n",
       "      <th>18</th>\n",
       "      <td>Nigeria</td>\n",
       "      <td>4</td>\n",
       "    </tr>\n",
       "    <tr>\n",
       "      <th>19</th>\n",
       "      <td>Portugal</td>\n",
       "      <td>4</td>\n",
       "    </tr>\n",
       "    <tr>\n",
       "      <th>22</th>\n",
       "      <td>United States</td>\n",
       "      <td>4</td>\n",
       "    </tr>\n",
       "    <tr>\n",
       "      <th>3</th>\n",
       "      <td>Bosnia and Herzegovina</td>\n",
       "      <td>3</td>\n",
       "    </tr>\n",
       "    <tr>\n",
       "      <th>8</th>\n",
       "      <td>Croatia</td>\n",
       "      <td>3</td>\n",
       "    </tr>\n",
       "    <tr>\n",
       "      <th>14</th>\n",
       "      <td>Italy</td>\n",
       "      <td>3</td>\n",
       "    </tr>\n",
       "    <tr>\n",
       "      <th>15</th>\n",
       "      <td>Ivory Coast</td>\n",
       "      <td>3</td>\n",
       "    </tr>\n",
       "    <tr>\n",
       "      <th>20</th>\n",
       "      <td>Spain</td>\n",
       "      <td>3</td>\n",
       "    </tr>\n",
       "    <tr>\n",
       "      <th>26</th>\n",
       "      <td>Russia</td>\n",
       "      <td>2</td>\n",
       "    </tr>\n",
       "    <tr>\n",
       "      <th>27</th>\n",
       "      <td>England</td>\n",
       "      <td>1</td>\n",
       "    </tr>\n",
       "    <tr>\n",
       "      <th>28</th>\n",
       "      <td>Ghana</td>\n",
       "      <td>1</td>\n",
       "    </tr>\n",
       "    <tr>\n",
       "      <th>24</th>\n",
       "      <td>Iran</td>\n",
       "      <td>1</td>\n",
       "    </tr>\n",
       "    <tr>\n",
       "      <th>25</th>\n",
       "      <td>Japan</td>\n",
       "      <td>1</td>\n",
       "    </tr>\n",
       "    <tr>\n",
       "      <th>29</th>\n",
       "      <td>South Korea</td>\n",
       "      <td>1</td>\n",
       "    </tr>\n",
       "  </tbody>\n",
       "</table>\n",
       "</div>"
      ],
      "text/plain": [
       "                      team  points\n",
       "12                 Germany      19\n",
       "17             Netherlands      17\n",
       "1                Argentina      16\n",
       "2                  Belgium      12\n",
       "6                 Colombia      12\n",
       "4                   Brazil      11\n",
       "11                  France      10\n",
       "7               Costa Rica       9\n",
       "5                    Chile       7\n",
       "16                  Mexico       7\n",
       "21             Switzerland       6\n",
       "23                 Uruguay       6\n",
       "13                  Greece       5\n",
       "0                  Algeria       4\n",
       "10                 Ecuador       4\n",
       "18                 Nigeria       4\n",
       "19                Portugal       4\n",
       "22           United States       4\n",
       "3   Bosnia and Herzegovina       3\n",
       "8                  Croatia       3\n",
       "14                   Italy       3\n",
       "15             Ivory Coast       3\n",
       "20                   Spain       3\n",
       "26                  Russia       2\n",
       "27                 England       1\n",
       "28                   Ghana       1\n",
       "24                    Iran       1\n",
       "25                   Japan       1\n",
       "29             South Korea       1"
      ]
     },
     "execution_count": 18,
     "metadata": {},
     "output_type": "execute_result"
    }
   ],
   "source": [
    "def points_table(winners_df, wc_year):\n",
    "    \n",
    "    new_winners_df = winners_df[winners_df['tournament']=='FIFA World Cup']\n",
    "    \n",
    "    new_winners_df['date'] = pd.to_datetime(new_winners_df['date'])\n",
    "    new_winners_df = new_winners_df[new_winners_df['date'].dt.year == wc_year]\n",
    "    \n",
    "    conditions = [new_winners_df['winner'] != 'Draw', new_winners_df['winner'] == 'Draw']\n",
    "    choices = [3,1]\n",
    "    new_winners_df['points'] = np.select(conditions, choices, default=0)\n",
    "    \n",
    "    points_table_wins = new_winners_df.groupby(['winner'])['points'].sum().reset_index()\n",
    "    points_table_wins.columns= ['team','points_wins']\n",
    "    \n",
    "    new_winners_df_draw = new_winners_df[new_winners_df['winner'] == 'Draw']\n",
    "    points_table_draw1 = new_winners_df_draw.groupby(['home_team'])['points'].sum().reset_index()\n",
    "    points_table_draw2 = new_winners_df_draw.groupby(['away_team'])['points'].sum().reset_index()\n",
    "    points_table_draw1.columns= ['team','points1']\n",
    "    points_table_draw2.columns= ['team','points2']\n",
    "    \n",
    "    points_table_draw = pd.merge(points_table_draw1, points_table_draw2, on='team', how='outer')\n",
    "    points_table_draw['points_draw'] = points_table_draw.fillna(0)['points1']+points_table_draw.fillna(0)['points2']\n",
    "    points_table_draw = points_table_draw[['team','points_draw']]\n",
    "    \n",
    "    points_table = pd.merge(points_table_wins, points_table_draw, on='team',how='outer')\n",
    "    points_table['points'] = points_table.fillna(0)['points_wins']+points_table.fillna(0)['points_draw']\n",
    "    points_table = points_table[['team','points']].sort_values(by=['points','team'],ascending=[False, True])\n",
    "    points_table_final = points_table[points_table['team'] != 'Draw']\n",
    "    points_table_final = points_table_final.astype({'points': int})\n",
    "    #points_table_final = points_table_final.nlargest(5,'points')\n",
    "    \n",
    "    return points_table_final\n",
    "\n",
    "points_table(winners_df, 2014)"
   ]
  },
  {
   "cell_type": "code",
   "execution_count": 16,
   "metadata": {
    "deletable": false,
    "editable": false,
    "nbgrader": {
     "grade": true,
     "grade_id": "exercise5",
     "locked": true,
     "points": "1",
     "solution": false
    }
   },
   "outputs": [
    {
     "name": "stdout",
     "output_type": "stream",
     "text": [
      "\n",
      "(Passed!)\n"
     ]
    },
    {
     "name": "stderr",
     "output_type": "stream",
     "text": [
      "/usr/local/lib/python3.5/dist-packages/ipykernel_launcher.py:5: SettingWithCopyWarning: \n",
      "A value is trying to be set on a copy of a slice from a DataFrame.\n",
      "Try using .loc[row_indexer,col_indexer] = value instead\n",
      "\n",
      "See the caveats in the documentation: http://pandas.pydata.org/pandas-docs/stable/indexing.html#indexing-view-versus-copy\n",
      "  \"\"\"\n"
     ]
    }
   ],
   "source": [
    "# Test: Exercise 5 (exposed)\n",
    "\n",
    "\n",
    "tbl_1998 = points_table(winners_df, 1998)\n",
    "\n",
    "assert tbl_1998.iloc[0].team == \"France\"\n",
    "assert tbl_1998.iloc[0].points == 19\n",
    "assert tbl_1998.iloc[1].team == \"Croatia\"\n",
    "assert tbl_1998.iloc[1].points == 15\n",
    "assert tbl_1998.iloc[2].team == \"Brazil\"\n",
    "assert tbl_1998.iloc[2].points == 13\n",
    "assert tbl_1998.iloc[3].team == \"Netherlands\"\n",
    "assert tbl_1998.iloc[3].points == 12\n",
    "assert tbl_1998.iloc[4].team == \"Italy\"\n",
    "assert tbl_1998.iloc[4].points == 11\n",
    "\n",
    "print(\"\\n(Passed!)\")\n"
   ]
  },
  {
   "cell_type": "code",
   "execution_count": 17,
   "metadata": {
    "deletable": false,
    "editable": false,
    "nbgrader": {
     "grade": true,
     "grade_id": "exercise5_hidden",
     "locked": true,
     "points": "2",
     "solution": false
    }
   },
   "outputs": [
    {
     "name": "stdout",
     "output_type": "stream",
     "text": [
      "\n",
      "In addition to the tests above, this cell will include some hidden tests.\n",
      "You will only know the result when you submit your solution to the\n",
      "autograder.\n",
      "\n"
     ]
    }
   ],
   "source": [
    "# Hidden test cell: exercise5_hidden\n",
    "\n",
    "print(\"\"\"\n",
    "In addition to the tests above, this cell will include some hidden tests.\n",
    "You will only know the result when you submit your solution to the\n",
    "autograder.\n",
    "\"\"\")\n",
    "\n",
    "###\n",
    "### AUTOGRADER TEST - DO NOT REMOVE\n",
    "###\n"
   ]
  },
  {
   "cell_type": "markdown",
   "metadata": {
    "deletable": false,
    "editable": false,
    "nbgrader": {
     "grade": false,
     "locked": true,
     "solution": false
    }
   },
   "source": [
    "**Fin!** You’ve reached the end of this part. Don’t forget to restart and run all cells again to make sure it’s all working when run in sequence; and make sure your work passes the submission process. Good luck!"
   ]
  }
 ],
 "metadata": {
  "kernelspec": {
   "display_name": "Python 3.5",
   "language": "python",
   "name": "python35"
  },
  "language_info": {
   "codemirror_mode": {
    "name": "ipython",
    "version": 3
   },
   "file_extension": ".py",
   "mimetype": "text/x-python",
   "name": "python",
   "nbconvert_exporter": "python",
   "pygments_lexer": "ipython3",
   "version": "3.5.2"
  }
 },
 "nbformat": 4,
 "nbformat_minor": 2
}
