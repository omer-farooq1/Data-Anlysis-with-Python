{
 "cells": [
  {
   "cell_type": "markdown",
   "metadata": {},
   "source": [
    "# Problem 2: The Forward Pass of a Neural Network\n",
    "\n",
    "_Version 1.1_"
   ]
  },
  {
   "cell_type": "markdown",
   "metadata": {
    "deletable": false,
    "editable": false,
    "nbgrader": {
     "grade": false,
     "locked": true,
     "solution": false
    }
   },
   "source": [
    "Neural networks are a set of algorithms for pattern recognition. They are loosely inspired by the human brain, and have proven especially useful in data clustering and classification tasks.\n",
    "\n",
    "In this problem, you will use your knowledge of Python and Numpy to speed-up a common computational kernel that arises in neural networks."
   ]
  },
  {
   "cell_type": "markdown",
   "metadata": {
    "deletable": false,
    "editable": false,
    "nbgrader": {
     "grade": false,
     "locked": true,
     "solution": false
    }
   },
   "source": [
    "**Example: a \"fully connected layer\" for images.** Suppose the data we are analyzing consists of $N$ two-dimensional images of size $H \\times W$ pixels each. In a neural network, a typical substep is the evaluation of a \"fully connected (FC) layer,\" which takes the images as input and produces a vector of outputs, with one vector per image.\n",
    "\n",
    "Mathematically, here is a simplified example of what a typical FC layer calculation might look like. Let $x[k, i, j]$ denote the value (e.g., intensity) of the pixel at location $(i, j)$ of the $k$-th input image. Since there are $N$ images, take the values of $k$ to be in the range of 0 to $N-1$, respectively. And since each image is $H \\times W$, take $0 \\leq i \\leq H-1$ and $0 \\leq j \\leq W-1$. Next, let $\\mathrm{out}[k, l]$ denote an output value in the $l$-th element of a vector associated with image $k$, where $0 \\leq l \\leq M-1$, for some given value of $M$. Lastly, suppose the specific  formula for transforming the input images into this collection of output vectors is given by the formula,\n",
    "\n",
    "$$\n",
    "\\mathrm{out}[k, l] = b[l] + \\sum_{i=0}^{H-1} \\sum_{j=0}^{W-1} \\left(x[k, i, j] \\times w[l, i, j]\\right)\n",
    "$$\n",
    "\n",
    "where $w[l, i, j]$ are \"weights\" and $b[l]$ are \"biases.\" The process of \"training\" the neural network from sample data determines these weight and bias parameters, but for this problem, just assume that they are given.\n",
    "\n",
    "If it's helpful, here is a picture of what this formula is doing for each $(k, l)$ pair:\n",
    "<img src = \"fully_connected.png\" width = \"600\">"
   ]
  },
  {
   "cell_type": "markdown",
   "metadata": {
    "deletable": false,
    "editable": false,
    "nbgrader": {
     "grade": false,
     "locked": true,
     "solution": false
    }
   },
   "source": [
    "**The baseline implementation.** In the code cells below, we define a Python function, `FC_naive(x, w, b)`, that implements the FC layer calculation from above using a straightforward, albeit somewhat naive, method. Your goal is to make this baseline run faster.\n",
    "\n",
    "To start, first run the next three code cells to estimate the time of the baseline implementation."
   ]
  },
  {
   "cell_type": "code",
   "execution_count": 1,
   "metadata": {
    "collapsed": true,
    "deletable": false,
    "editable": false,
    "nbgrader": {
     "grade": false,
     "locked": true,
     "solution": false
    }
   },
   "outputs": [],
   "source": [
    "import numpy as np\n",
    "import time\n",
    "\n",
    "def rel_error(x, y):\n",
    "    return np.max(np.abs(x - y) / (np.maximum(1e-8, np.abs(x) + np.abs(y))))"
   ]
  },
  {
   "cell_type": "code",
   "execution_count": 2,
   "metadata": {
    "collapsed": true,
    "deletable": false,
    "editable": false,
    "nbgrader": {
     "grade": false,
     "locked": true,
     "solution": false
    }
   },
   "outputs": [],
   "source": [
    "def FC_naive(x, w, b):\n",
    "    \"\"\"\n",
    "    Inputs:\n",
    "    - x: A numpy array of images of shape (N, H, W)\n",
    "    - w: A numpy array of weights of shape (M, H, W)\n",
    "    - b: A numpy vector of biases of size M\n",
    "\n",
    "    Returns: \n",
    "    - out: a numpy array of shape (N, M)\n",
    "    \"\"\"\n",
    "    N, H, W = x.shape\n",
    "    M, _, _ = w.shape\n",
    "    out = np.zeros((N,M))\n",
    "    for ni in range(N):\n",
    "        for mi in range(M):\n",
    "                out[ni,mi] = b[mi]\n",
    "                for d1 in range(H):\n",
    "                    for d2 in range(W):\n",
    "                        out[ni,mi] += x[ni, d1, d2] * w[mi, d1, d2] \n",
    "    return out"
   ]
  },
  {
   "cell_type": "code",
   "execution_count": 3,
   "metadata": {
    "deletable": false,
    "editable": false,
    "nbgrader": {
     "grade": false,
     "locked": true,
     "solution": false
    }
   },
   "outputs": [
    {
     "name": "stdout",
     "output_type": "stream",
     "text": [
      "==> Took 9.56739 seconds.\n"
     ]
    }
   ],
   "source": [
    "num_inputs = 50\n",
    "input_shape = (128, 256)\n",
    "output_dim = 10\n",
    "\n",
    "x = np.random.rand(num_inputs, *input_shape)\n",
    "w = np.random.rand(output_dim, *input_shape)\n",
    "b = np.random.rand(output_dim)\n",
    "start_time = time.time ()\n",
    "out = FC_naive(x, w, b)\n",
    "elapsed_time = time.time () - start_time\n",
    "print (\"==> Took %g seconds.\" % elapsed_time)"
   ]
  },
  {
   "cell_type": "markdown",
   "metadata": {
    "deletable": false,
    "editable": false,
    "nbgrader": {
     "grade": false,
     "locked": true,
     "solution": false
    }
   },
   "source": [
    "**Exercise 1** (5 points). Let's start by seeing if we can make `FC_naive()` function faster by rewriting the two innermost loops, i.e., the `d1` and `d2` loops:\n",
    "\n",
    "```python\n",
    "for d1 in range(H):\n",
    "    for d2 in range(W):\n",
    "        out[ni, mi] += x[ni, d1, d2] * w[mi, d1, d2]\n",
    "```\n",
    "\n",
    "For this exercise, complete the function `two_inner_loops(x_i, w_l, b_j)`, below, so that it implements the same computation as these two `d1` and `d2` loops, but is much faster. It should return `out[ni, mi]`. The input `x_i` is the `i`-th image, `w_l` is the `l`-th weight matrix, and `b_l` is the `l`-th component of the bias vector.\n",
    "\n",
    "The test code will check your results and benchmark a complete FC layer using the function `FC_two_loops()`, defined below. You'll see that it calls your `two_inner_loops()` routine to implement the two innermost loops.\n",
    "\n",
    "To get credit on this exercise, the resulting execution time of `FC_two_loops()` must be at least **100 times faster** than `FC_naive()` on the problem sizes being tested below when running on the Vocareum platform. There is no partial credit for smaller speedups. Having said that, a little bit of basic Numpy should go a long way."
   ]
  },
  {
   "cell_type": "code",
   "execution_count": 4,
   "metadata": {
    "collapsed": true
   },
   "outputs": [],
   "source": [
    "def two_inner_loops(x_i, w_l, b_l):\n",
    "    \"\"\"\n",
    "    Inputs:\n",
    "    - x_i: A numpy array of images of shape (H, W)\n",
    "    - w_l: A numpy array of weights of shape (H, W)\n",
    "    - b_l: A float (single number)\n",
    "\n",
    "    Returns: \n",
    "    - out: A float (single number)\n",
    "    \"\"\"\n",
    "    \n",
    "    #ravel function flatens the array. We need a single float output by \n",
    "    #summing multiplicaiton of respective elements of arrays and \n",
    "    out = x_i.ravel().dot(w_l.ravel()) + b_l\n",
    "    \n",
    "    return out\n"
   ]
  },
  {
   "cell_type": "code",
   "execution_count": 5,
   "metadata": {
    "deletable": false,
    "editable": false,
    "nbgrader": {
     "grade": true,
     "grade_id": "FC_two_loops",
     "locked": true,
     "points": "5",
     "solution": false
    }
   },
   "outputs": [
    {
     "name": "stdout",
     "output_type": "stream",
     "text": [
      "==> Took 9.08344 seconds.\n",
      "==> Took 0.00593128 seconds.\n",
      "Output error: 6.421729158587902e-15\n",
      "Speed-up: 1531.4454850950256\n",
      "\n",
      "(Passed!)\n"
     ]
    }
   ],
   "source": [
    "# Test cell: 'FC_two_loops_1' (5 points)\n",
    "\n",
    "def FC_two_loops(x, w, b):\n",
    "    \"\"\"\n",
    "    Inputs:\n",
    "    - x: A numpy array of images of shape (N, H, W)\n",
    "    - w: A numpy array of weights of shape (M, H, W)\n",
    "    - b: A numpy vector of biases of size M\n",
    "\n",
    "    Returns: \n",
    "    - out: a numpy array of shape (N, M)\n",
    "    \"\"\"\n",
    "    N, H, W = x.shape\n",
    "    M, _, _ = w.shape\n",
    "    out = np.zeros((N,M))\n",
    "    for ni in range(N):\n",
    "           for mi in range(M):\n",
    "                out[ni, mi] = two_inner_loops(x[ni,  :, :], w[mi,  :, :], b[mi])\n",
    "    return out\n",
    "\n",
    "num_inputs = 50\n",
    "input_shape = (128, 256)\n",
    "output_dim = 10\n",
    "\n",
    "x = np.random.rand(num_inputs, *input_shape)\n",
    "w = np.random.rand(output_dim, *input_shape)\n",
    "b = np.random.rand(output_dim)\n",
    "\n",
    "start_time = time.time ()\n",
    "for i in range(5):\n",
    "    out_naive = FC_naive(x, w, b)\n",
    "elapsed_time_naive = (time.time () - start_time)/5\n",
    "print (\"==> Took %g seconds.\" % elapsed_time_naive)\n",
    "\n",
    "start_time = time.time ()\n",
    "for i in range(5):\n",
    "    out_fast = FC_two_loops(x, w, b)\n",
    "elapsed_time_fast = (time.time () - start_time)/5\n",
    "print (\"==> Took %g seconds.\" % elapsed_time_fast)\n",
    "\n",
    "error = rel_error(out_naive, out_fast)\n",
    "print(\"Output error:\", error)\n",
    "assert error < 1e-12, \"The value of your output is incorrect or not accurate enough\"\n",
    "\n",
    "speed_up = elapsed_time_naive/elapsed_time_fast\n",
    "print(\"Speed-up:\", speed_up)\n",
    "assert speed_up > 100, \"The speed-up of your method is less than 100\"\n",
    "\n",
    "print(\"\\n(Passed!)\")"
   ]
  },
  {
   "cell_type": "markdown",
   "metadata": {
    "deletable": false,
    "editable": false,
    "nbgrader": {
     "grade": false,
     "locked": true,
     "solution": false
    }
   },
   "source": [
    "**Question 2** (5 points). Now, completely rewrite the `FC_naive()` function by at least **1,000 times**.\n",
    "\n",
    "> This improvement can be attained with basic Numpy and no explicit loops."
   ]
  },
  {
   "cell_type": "code",
   "execution_count": 59,
   "metadata": {},
   "outputs": [],
   "source": [
    "def FC_no_loop(x, w, b):\n",
    "    \"\"\"\n",
    "    Inputs:\n",
    "    - x: A numpy array of images of shape (N, H, W)\n",
    "    - w: A numpy array of weights of shape (M, H, W)\n",
    "    - b: A numpy vector of biases of size M\n",
    "\n",
    "    Returns: \n",
    "    - out: a numpy array of shape (N, M)\n",
    "    \"\"\"\n",
    "    N, H, W = x.shape\n",
    "    M, _, _ = w.shape\n",
    "    out = np.zeros((N,M))\n",
    "    \n",
    "    #Einsum explained -> https://stackoverflow.com/questions/26089893/understanding-numpys-einsum\n",
    "    #out = np.einsum('nhw,mhw->nm', x, w)\n",
    "    #out = out + b\n",
    "    #einsum gives correct answer but for some reason einsum did not speed things up, was only producing 830x run-time improvement.\n",
    "\n",
    "    for ni in range(N):\n",
    "           for mi in range(M):\n",
    "                out[ni, mi] = (x[ni,  :, :].ravel().dot(w[mi,  :, :].ravel())) + b[mi]\n",
    "    return out    "
   ]
  },
  {
   "cell_type": "code",
   "execution_count": 60,
   "metadata": {},
   "outputs": [
    {
     "name": "stdout",
     "output_type": "stream",
     "text": [
      "(2,) \n",
      " [0.56722924 0.86718359] \n",
      "\n",
      "(2, 1, 1) \n",
      " [[[0.18291467]]\n",
      "\n",
      " [[0.07557256]]] \n",
      "\n",
      "(2, 1, 1) \n",
      " [[[0.3681297 ]]\n",
      "\n",
      " [[0.76284718]]] \n",
      "\n",
      "(2, 2) \n",
      " [[0.63456557 1.00671953]\n",
      " [0.59504975 0.9248339 ]]\n",
      "(2, 2) \n",
      " [[0.63456557 1.00671953]\n",
      " [0.59504975 0.9248339 ]]\n",
      "(2, 2) \n",
      " [[0.63456557 1.00671953]\n",
      " [0.59504975 0.9248339 ]]\n"
     ]
    }
   ],
   "source": [
    "num_inputs = 2\n",
    "input_shape = (1, 1)\n",
    "output_dim = 2\n",
    "\n",
    "x = np.random.rand(num_inputs, *input_shape)\n",
    "w = np.random.rand(output_dim, *input_shape)\n",
    "b = np.random.rand(output_dim)\n",
    "start_time = time.time ()\n",
    "\n",
    "out1 = FC_two_loops(x, w, b)\n",
    "out2 = FC_no_loop(x, w, b)\n",
    "\n",
    "print (b.shape,'\\n',b,'\\n')\n",
    "\n",
    "print (x.shape,'\\n',x,'\\n')\n",
    "\n",
    "\n",
    "print (w.shape,'\\n',w,'\\n')\n",
    "\n",
    "print (FC_naive(x, w, b).shape,'\\n',FC_naive(x, w, b))\n",
    "\n",
    "print (FC_two_loops(x, w, b).shape,'\\n',FC_two_loops(x, w, b))\n",
    "\n",
    "print (FC_no_loop(x, w, b).shape,'\\n',FC_no_loop(x, w, b))\n"
   ]
  },
  {
   "cell_type": "code",
   "execution_count": 61,
   "metadata": {
    "deletable": false,
    "editable": false,
    "nbgrader": {
     "grade": true,
     "grade_id": "FC_no_loop",
     "locked": true,
     "points": "5",
     "solution": false
    }
   },
   "outputs": [
    {
     "name": "stdout",
     "output_type": "stream",
     "text": [
      "==> Took 10.7717 seconds.\n",
      "==> Took 0.0101097 seconds.\n",
      "Output error: 6.766913946038391e-15\n",
      "Speed-up: 1065.4757518300505\n",
      "\n",
      "(Passed!)\n"
     ]
    }
   ],
   "source": [
    "# Test cell: 'FC_no_loop' (5 points)\n",
    "num_inputs = 50\n",
    "input_shape = (128, 256)\n",
    "output_dim = 10\n",
    "\n",
    "x = np.random.rand(num_inputs, *input_shape)\n",
    "w = np.random.rand(output_dim, *input_shape)\n",
    "b = np.random.rand(output_dim)\n",
    "\n",
    "start_time = time.time ()\n",
    "for i in range(5):\n",
    "    out_naive = FC_naive(x, w, b)\n",
    "elapsed_time_naive = (time.time () - start_time)/5\n",
    "print (\"==> Took %g seconds.\" % elapsed_time_naive)\n",
    "\n",
    "start_time = time.time ()\n",
    "for i in range(5):\n",
    "    out_fast = FC_no_loop(x, w, b)\n",
    "elapsed_time_fast = (time.time () - start_time)/5\n",
    "print (\"==> Took %g seconds.\" % elapsed_time_fast)\n",
    "\n",
    "error = rel_error(out_naive, out_fast)\n",
    "print(\"Output error:\", error)\n",
    "assert error < 1e-12, \"The value of your output is incorrect or not accurate enough\"\n",
    "\n",
    "speed_up = elapsed_time_naive/elapsed_time_fast\n",
    "print(\"Speed-up:\", speed_up)\n",
    "assert speed_up > 1000, \"The speed-up of your method is less than 1000\"\n",
    "\n",
    "print(\"\\n(Passed!)\")"
   ]
  },
  {
   "cell_type": "markdown",
   "metadata": {
    "deletable": false,
    "editable": false,
    "nbgrader": {
     "grade": false,
     "locked": true,
     "solution": false
    }
   },
   "source": [
    "**Fin!** You've reached the end of this problem. Don't forget to restart the\n",
    "kernel and run the entire notebook from top-to-bottom to make sure you did\n",
    "everything correctly. If that is working, try submitting this problem. (Recall\n",
    "that you *must* submit and pass the autograder to get credit for your work!)"
   ]
  }
 ],
 "metadata": {
  "kernelspec": {
   "display_name": "Python 3 [3.6]",
   "language": "python",
   "name": "python3"
  },
  "language_info": {
   "codemirror_mode": {
    "name": "ipython",
    "version": 3
   },
   "file_extension": ".py",
   "mimetype": "text/x-python",
   "name": "python",
   "nbconvert_exporter": "python",
   "pygments_lexer": "ipython3",
   "version": "3.6.4"
  }
 },
 "nbformat": 4,
 "nbformat_minor": 2
}
