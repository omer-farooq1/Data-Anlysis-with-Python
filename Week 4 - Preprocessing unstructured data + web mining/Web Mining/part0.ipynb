{
    "cells": [
        {
            "cell_type": "markdown",
            "metadata": {
                "nbgrader": {
                    "grade": false,
                    "grade_id": "cell-5ae4e7b62e3457a9",
                    "locked": true,
                    "schema_version": 1,
                    "solution": false
                },
                "editable": false,
                "deletable": false
            },
            "source": [
                "# Part 0: Mining the web\n",
                "\n",
                "Perhaps the richest source of openly available data today is [the Web](http:\/\/www.computerhistory.org\/revolution\/networking\/19\/314)! In this lab, you'll explore some of the basic programming tools you need to scrape web data.\n",
                "\n",
                "> **Note.** The Vocareum platform runs in a cloud-based environment that limits what websites a program can connect to directly. Therefore, some (or possibly all) of the code below will **not** work. Therefore, we are making this notebook **optional** and are providing solutions inline.\n",
                ">\n",
                "> Even if you are using a home or local installation of Jupyter, you may encounter problems if you attempt to access a site too many times or too rapidly. That can happen if your internet service provider (ISP) or the target website detect your accesses as \"unusual\" and reject them. It's easy to imagine accidentally writing an infinite loop that tries to access a page and being seen from the other side as a malicious program. :)"
            ]
        },
        {
            "cell_type": "markdown",
            "metadata": {
                "nbgrader": {
                    "grade": false,
                    "grade_id": "cell-8dc1f4f41590bfcc",
                    "locked": true,
                    "schema_version": 1,
                    "solution": false
                },
                "editable": false,
                "deletable": false
            },
            "source": [
                "## The Requests module\n",
                "\n",
                "Python's [Requests module](http:\/\/requests.readthedocs.io\/en\/latest\/user\/quickstart\/) to download a web page.\n",
                "\n",
                "For instance, here is a code fragment to download the [Georgia Tech](http:\/\/www.gatech.edu) home page and print the first 250 characters. You might also want to [view the source](http:\/\/www.computerhope.com\/issues\/ch000746.htm) of Georgia Tech's home page to get a nicely formatted view, and compare its output to what you see above."
            ]
        },
        {
            "cell_type": "code",
            "execution_count": 1,
            "metadata": {
                "nbgrader": {
                    "grade": false,
                    "grade_id": "cell-9670461e96fd478a",
                    "locked": true,
                    "schema_version": 1,
                    "solution": false
                },
                "editable": false,
                "deletable": false
            },
            "outputs": [
                {
                    "name": "stdout",
                    "output_type": "stream",
                    "text": [
                        "<!DOCTYPE html>\n",
                        "<html lang=\"en\" dir=\"ltr\" \n",
                        "  xmlns:content=\"http:\/\/purl.org\/rss\/1.0\/modules\/content\/\"\n",
                        "  xmlns:dc=\"http:\/\/purl.org\/dc\/terms\/\"\n",
                        "  xmlns:foaf=\"http:\/\/xmlns.com\/foaf\/0.1\/\"\n",
                        "  xmlns:og=\"http:\/\/ogp.me\/ns#\"\n",
                        "  xmlns:rdfs=\"http:\/\/www.w3.org\/2000\n"
                    ]
                }
            ],
            "source": [
                "import requests\n",
                "\n",
                "response = requests.get('https:\/\/www.gatech.edu\/')\n",
                "webpage = response.text  # or response.content for raw bytes\n",
                "\n",
                "print(webpage[0:250]) # Prints the first hundred characters only"
            ]
        },
        {
            "cell_type": "markdown",
            "metadata": {},
            "source": [
                "**Exercise 1.** Given the contents of the GT home page as above, write a function that returns a list of links (URLs) of the \"top stories\" on the page.\n",
                "\n",
                "For instance, on Friday, September 9, 2016, here was the front page:\n",
                "\n",
                "![www.gatech.edu as of Fri Sep 9, 2016](.\/www.gatech.edu--2016-09-09--annotated-medium.png)\n",
                "\n",
                "The top stories cycle through in the large image placeholder shown above. We want your function to return the list of URLs behind each of the \"Full Story\" links, highlighted in red. If no URLs can be found, the function should return an empty list."
            ]
        },
        {
            "cell_type": "code",
            "execution_count": 2,
            "metadata": {
                "collapsed": true,
                "nbgrader": {
                    "grade": false,
                    "grade_id": "get_top_stories",
                    "locked": false,
                    "schema_version": 1,
                    "solution": true
                }
            },
            "outputs": [],
            "source": [
                "import re # Maybe you want to use a regular expression?\n",
                "\n",
                "def get_gt_top_stories(webpage_text):\n",
                "    \"\"\"Given the HTML text for the GT front page, returns a list\n",
                "    of the URLs of the top stories or an empty list if none are\n",
                "    found.\n",
                "    \"\"\"\n",
                "    # ANSWER:\n",
                "    pattern = '''<a class=\"slide-link\" href=\"(?P<url>[^\"]+)\"'''\n",
                "    return re.findall(pattern, webpage_text)"
            ]
        },
        {
            "cell_type": "code",
            "execution_count": 3,
            "metadata": {
                "nbgrader": {
                    "grade": false,
                    "grade_id": "cell-6016c0d059ce46b6",
                    "locked": true,
                    "schema_version": 1,
                    "solution": false
                },
                "editable": false,
                "deletable": false
            },
            "outputs": [
                {
                    "name": "stdout",
                    "output_type": "stream",
                    "text": [
                        "Links to GT's top stories: ['https:\/\/www.news.gatech.edu\/2018\/09\/10\/lessons-courage-andrew-young', 'http:\/\/www.president.gatech.edu\/publications-presentations\/publications\/annual-reports\/2018\/', 'http:\/\/news.gatech.edu\/features\/imagine-future-which-learning-life']\n"
                    ]
                }
            ],
            "source": [
                "top_stories = get_gt_top_stories(webpage)\n",
                "print(\"Links to GT's top stories:\", top_stories)"
            ]
        },
        {
            "cell_type": "markdown",
            "metadata": {
                "nbgrader": {
                    "grade": false,
                    "grade_id": "cell-335e708786088da3",
                    "locked": true,
                    "schema_version": 1,
                    "solution": false
                },
                "editable": false,
                "deletable": false
            },
            "source": [
                "## A more complex example\n",
                "\n",
                "Go to [Yelp!](http:\/\/www.yelp.com) and look up `ramen` in `Atlanta, GA`. Take note of the URL:\n",
                "\n",
                "![Yelp! search for ramen in ATL](.\/yelp-search-example.png)"
            ]
        },
        {
            "cell_type": "markdown",
            "metadata": {
                "nbgrader": {
                    "grade": false,
                    "grade_id": "cell-9beef10625b4a87b",
                    "locked": true,
                    "schema_version": 1,
                    "solution": false
                },
                "editable": false,
                "deletable": false
            },
            "source": [
                "This URL encodes what is known as an _HTTP \"get\"_ method (or request). It basically means a URL with two parts: a _command_ followed by one or more _arguments_. In this case, the command is everything up to and including the word `search`; the arguments are the rest, where individual arguments are separated by the `&` or `#`.\n",
                "\n",
                "> \"HTTP\" stands for \"HyperText Transport Protocol,\" which is a standardized set of communication protocols that allow _web clients_, like your web browser or your Python program, to communicate with _web servers_.\n",
                "\n",
                "In this next example, let's see how to build a \"get request\" with the `requests` module. It's pretty easy!"
            ]
        },
        {
            "cell_type": "code",
            "execution_count": 4,
            "metadata": {
                "nbgrader": {
                    "grade": false,
                    "grade_id": "cell-4b1c55e113ba9c09",
                    "locked": true,
                    "schema_version": 1,
                    "solution": false
                },
                "editable": false,
                "deletable": false
            },
            "outputs": [
                {
                    "name": "stdout",
                    "output_type": "stream",
                    "text": [
                        "==> Downloading from: 'https:\/\/www.yelp.com\/search?find_desc=ramen&find_loc=atlanta%2C+ga'\n",
                        "\n",
                        "==> Excerpt from this URL:\n",
                        "\n",
                        "<!DOCTYPE HTML>\n",
                        "\n",
                        "<!--[if lt IE 7 ]> <html xmlns:fb=\"http:\/\/www.facebook.com\/2008\/fbml\" class=\"ie6 ie ltie9 ltie8 no-js\" lang=\"en\"> <![endif]-->\n",
                        "<!--[if IE 7 ]>    <html xmlns:fb=\"http:\/\/www.facebook.com\/2008\/fbml\" class=\"ie7 ie ltie9 ltie8 no-js\" lang=\"en\"> <![endif]-->\n",
                        "<!--[if IE 8 ]>    <html xmlns:fb=\"http:\/\/www.facebook.com\/2008\/fbml\" class=\"ie8 ie ltie9 no-js\" lang=\"en\"> <![endif]-->\n",
                        "<!--[if IE 9 ]>    <html xmlns:fb=\"http:\/\/www.facebook.com\/2008\/fbml\" class=\"ie9 ie no-js\" lang=\"en\"> <![endif]-->\n",
                        "<!--[if (gt IE 9)|!(IE)]><!--> <html xmlns:fb=\"http:\/\/www.facebook.com\/2008\/fbml\" class=\"no-js\" lang=\"en\"> <!--<![endif]-->\n",
                        "    <head>\n",
                        "        <script>\n",
                        "            (function() {\n",
                        "                var main = null;\n",
                        "\n",
                        "                var main=function(){window.onerror=function(k,a,c,i,f){var j=(document.getElementsByTagName(\"html\")[0].getAttribute(\"webdriver\")===\"true\"||navigator.userAgent===\"selenium\");var h=f&&(f.name===\"ServerSideRenderingError\"||f.name===\"CSRFallbackError\");if(j&&!h){document.body.innerHTML=\"<h1>Javascript Error Detected<\/h1>\";var g=document.createElement(\"div\");g.setAttribute(\"id\",\"pastebinTraceback\");var d=document.createElement(\"code\");var e={message:k,source:a,lineno:c,colno:i,error:f};var b=document.createTextNode(\"JS ERROR DETECTED\\n\"+window.JSON.stringify(e,null,2));\n",
                        "d.appendChild(b);g.appendChild(d);document.getElementsByTagName(\"body\")[0].appendChild(g)}}};\n",
                        "\n",
                        "                if (main === null) {\n",
                        "                    throw 'invalid inline script, missing main declaration.';\n",
                        "                }\n",
                        "                main();\n",
                        "            })();\n",
                        "    <\/script>\n",
                        "\n",
                        "\n",
                        "    <script>            window.yPageStart = new Date().getTime();\n",
                        "<\/script>\n",
                        "\n",
                        "    <script>            var initialVisibilityState = document.webkitVisibilityState;\n",
                        "\n",
                        "                yPerfTimings = [];\n",
                        "\n",
                        "                ySitRepParams = {\"clientIP\": \"52.10.131.183\", \"datacenter\": \"us-west-1\", \"is_internal_ip\": false, \"edgeStartTime\": 1549904635182501, \"cfRayID\": null, \"site\": \"main\", \"serverStartTime\": 1549904635203, \"action\": null, \"edgestageSubdomain\": \"_disabled\", \"disableBeacon\": false, \"b3Sampled\": \"0\", \"uniqueRequestID\": \"e0a2bdbe02225b98\", \"isLoggedIn\": false, \"zipkinTraceID\": \"22cfed1bd096227c\", \"servlet\": \"search\", \"yuv_record\": \"XsVEj8Ld9bN_Y0XZaJ6UPV9bNgGViHG-_tmvgogTsCbI1MycVcmHBHlu9m-HztmSMzlLy-32JqVYqpMN_NyBG2jojooWEz8Y\"};\n",
                        "                window.ySitRepParams['initialVisibilityState'] = initialVisibilityState;\n",
                        "                window.ySitRepParams['seoCohorts'] = null;\n",
                        "\n",
                        "\n",
                        "            (function(H){H.className=H.className.replace(\/\\bno-js\\b\/,'js');})(document.documentElement);\n",
                        "<\/script>\n",
                        "\n",
                        "            <script>            (function(i,s,o,g,r,a,m){i['GoogleAnalyticsObject']=r;i[r]=i[r]||function(){(i[r].q=i[r].q||[]).push(arguments)},i[r].l=1*new Date();a=s.createElement(o),m=s.getElementsByTagName(o)[0];a.async=1;a.src=g;m.parentNode.insertBefore(a,m)})(window,document,'script','\/\/www.google-analytics.com\/analytics.js','ga');\n",
                        "<\/script>\n",
                        "\n",
                        "\n",
                        "        <script>\n",
                        "            (function() {\n",
                        "                var main = null;\n",
                        "\n",
                        "                !function(t){function e(n){if(i[n])return i[n].exports;var r=i[n]={i:n,l:!1,exports:{}};return t[n].call(r.exports,r,r.exports,e),r.l=!0,r.exports}var i={};e.m=t,e.c=i,e.d=function(t,i,n){e.o(t,i)||Object.defineProperty(t,i,{configurable:!1,enumerable:!0,get:n})},e.n=function(t){var i=t&&t.__esModule?function(){return t.default}:function(){return t};return e.d(i,\"a\",i),i},e.o=function(t,e){return Object.prototype.hasOwnProperty.call(t,e)},e.p=\"\",e(e.s=4)}([function(t,e,i){\"use strict\";function n(t,e){return t>=0&&t<=e}function r(t,e){return n(t.top,e.height())&&!(t.left>=e.width()||t.right<=0)}function s(t,e){return n(t.left,e.width())&&!(t.top>=e.height()||t.bottom<=0)}function o(t,e){return n(t.right,e.width())&&!(t.top>=e.height()||t.bottom<=0)}function a(t,e){return n(t.bottom,e.height())&&!(t.left>=e.width()||t.right<=0)}function c(t,e){return t.left<=0&&t.right>=e.width()||t.top<=0&&t.bottom>=e.height()}function u(t,e,i){return e in t?Object.defineProperty(t,e,{value:i,enumerable:!0,configurable:!0,writable:!0}):t[e]=i,t}function h(t,e,i){return e in t?Object.defineProperty(t,e,{value:i,enumerable:!0,configurable:!0,writable:!0}):t[e]=i,t}var l=i(1),d=i(2),f=i.n(d),m=function(t,e){var i=t.getBoundingClientRect();return r(i,e)||s(i,e)||o(i,e)||a(i,e)||c(i,e)},g=function(){function t(){u(this,\"value\",void 0),u(this,\"callbacks\",void 0),this.reset()}var e=t.prototype;return e.getInstance=function(t){var e=this;Object.prototype.hasOwnProperty.call(this,\"value\")?setTimeout(function(){t.call(this,e.value)},0):this.callbacks.push(t)},e.setInstance=function(t){this.value=t,this.invokecallbacks()},e.invokecallbacks=function(){for(var t=0;t<this.callbacks.length;t+=1)this.callbacks[t].call(this,this.value)},e.reset=function(){this.callbacks=[],Object.prototype.hasOwnProperty.call(this,\"value\")&&delete this.value},t}(),v=g,p=function(t,e){for(var i=0;i<t.length;i+=1)if(t[i]===e)return i;return-1},y=function t(e,i,n,r){e(i,function(){r>0?t(e,i,n,r-1):n()})},w=y;Object.keys||f.a.shim(),Object.entries||(Object.entries=function(t){for(var e=Object.keys(t),i=new Array(e.length),n=0;n<e.length;n+=1)i[n]=[e[n],t[e[n]]];return i});var b=function(t){var e=\"240+\";return t<=0?e=\"5\":t<=30?e=(5*Math.ceil(t\/5)).toString():t<=120?e=(15*Math.ceil(t\/15)).toString():t<=240&&(e=(30*Math.ceil(t\/30)).toString()),e},E=function(){function t(t){h(this,\"clientID\",void 0),h(this,\"dimensions\",void 0),h(this,\"domain\",void 0),h(this,\"friendlyMap\",void 0),h(this,\"jsDimensions\",void 0),h(this,\"metrics\",void 0),h(this,\"temporaryDimensions\",void 0),h(this,\"temporaryMetrics\",void 0),h(this,\"trackers\",void 0),h(this,\"viewedWidgets\",void 0),h(this,\"pageStartTime\",void 0),h(this,\"userID\",void 0),h(this,\"enableHighVolumeEvents\",void 0),h(this,\"siteSpeedSampleRate\",void 0),window.ga||(window.ga=function(){}),this.initPageStartTime(),this.reload(t)}var e=t.prototype;return e.setupTrackers=function(){var t=this;this.friendlyMap={},this.temporaryDimensions={},this.temporaryMetrics={},Object.entries(this.trackers).forEach(function(e){var i=e[0],n=e[1];t.setupTracker(String(i),String(n))})},e.setupTracker=function(t,e){var i=this,n={};n.cookieDomain=this.domain,n.name=t,n.clientId=this.clientID,n.siteSpeedSampleRate=this.siteSpeedSampleRate||1,this.userID&&(n.userId=this.userID),window.ga(\"create\",e,n),this.friendlyMap[t]={},this.temporaryDimensions[t]={},this.temporaryMetrics[t]={},this.addDimensionsToFriendlyMap(t,this.dimensions),this.addDimensionsToFriendlyMap(t,this.jsDimensions),this.dimensions[t]&&Object.keys(this.dimensions[t]).forEach(function(e){i.setDimension(String(e),i.dimensions[t][e][1])}),this.metrics[t]&&Object.keys(this.metrics[t]).forEach(function(e){i.setMetric(i.metrics[t][e][0],i.metrics[t][e][1],t)}),window.ga(this.getCommandName(\"set\",t),\"anonymizeIp\",!0)},e.addDimensionsToFriendlyMap=function(t,e){var i=this;e&&e[t]&&Object.keys(e[t]).forEach(function(n){i.friendlyMap[t][n]=e[t][n][0]})},e.setPage=function(t,e){window.ga(this.getCommandName(\"set\",e),\"page\",t)},e.firePageviews=function(t){var e=this;Object.keys(this.trackers).forEach(function(i){e.firePageview(String(i),t)})},e.firePageviewsWithGlobalTrackerSampled=function(e){var i=this;Object.keys(this.trackers).forEach(function(n){(n!==t.ALIASES.GLOBAL||i.enableHighVolumeEvents)&&i.firePageview(String(n),e)})},e.initPageStartTime=function(){this.pageStartTime=(new Date).getTime()},e.firePageview=function(t,e){e&&this.setPage(e,t),window.ga(this.getCommandName(\"send\",t),\"pageview\")},e.setDimensionOneEvent=function(t,e){var i=this;Object.keys(this.friendlyMap).forEach(function(n){var r=i.friendlyMap[n][t];void 0!==r&&null!==e&&(i.temporaryDimensions[n][\"dimension\"+r]=e.toString())})},e.setDimension=function(t,e){var i=this;Object.keys(this.friendlyMap).forEach(function(n){var r=i.friendlyMap[n][t];void 0!==r&&null!==e&&window.ga(i.getCommandName(\"set\",n),\"dimension\"+r,e.toString())})},e.setDimensions=function(t){var e=this;Object.keys(t).forEach(function(i){e.setDimension(i,t[i])})},e.setMetric=function(t,e,i){window.ga(this.getCommandName(\"set\",i),\"metric\"+t,e)},e.setMetricOneEvent=function(t,e,i){this.temporaryMetrics[i][t]=e},e.trackEvent=function(e,i,n,r,s){var o=this;Object.keys(this.trackers).forEach(function(a){var c={hitType:\"event\",eventCategory:e,eventAction:i,eventLabel:n,eventValue:r,hitCallback:s,nonInteraction:!0};Object.keys(o.temporaryDimensions[a]).forEach(function(t){c[t]=o.temporaryDimensions[a][t]}),Object.keys(o.temporaryMetrics[a]).forEach(function(t){c[\"metric\"+t]=o.temporaryMetrics[a][t]}),o.temporaryDimensions[a]={},o.temporaryMetrics[a]={},a!==t.ALIASES.GLOBAL&&o.trackWindowGAEvent(String(a),c)})},e.trackTiming=function(t,e,i,n){var r=this,s={hitType:\"timing\",timingCategory:t,timingVar:e,timingValue:i,timingLabel:n};Object.keys(this.trackers).forEach(function(t){r.trackWindowGAEvent(String(t),s)})},e.trackWindowGAEvent=function(t,e){window.ga(this.getCommandName(\"send\",t),e)},e.trackEventHighVolume=function(t,e,i,n,r){if(this.enableHighVolumeEvents){var s=t+\" \/ 10\";this.trackEvent(s,e,i,n,r)}},e.trackEventWithTime=function(t,e,i){this.trackEvent(t,e,i,this.timeSincePageStart())},e.timeSincePageStart=function(){return parseInt(((new Date).getTime()-this.pageStartTime)\/1e3,10)},e.isExperimentSet=function(t,e){return e in this.friendlyMap[t]},e.setViewportTrackingDimension=function(){this.setDimension(\"viewport_tracking\",this.viewedWidgets.join(\",\"))},e.initTimeOnPageEvent=function(){var t=this;Object(l.a)(window).on(\"beforeunload\",function(){t.setViewportTrackingDimension();var e=t.timeSincePageStart(),i=b(e);t.trackEventHighVolume(\"time on page\",\"unload\",i,e)})},e.initDwellTimeEvent=function(){var t=this;setTimeout(function(){t.trackEvent(\"dwell time\",\"dwell\",\"30 seconds\")},3e4)},e.addOrIgnoreWidget=function(t,e){p(this.viewedWidgets,e)<0&&m(t,Object(l.a)(window))&&this.viewedWidgets.push(e)},e.addNewlyVisibleWidgets=function(){for(var t=document.getElementsByClassName(\"j\n",
                        "\n"
                    ]
                }
            ],
            "source": [
                "url_command = 'https:\/\/yelp.com\/search'\n",
                "url_args = {'find_desc': \"ramen\",\n",
                "            'find_loc': \"atlanta, ga\"}\n",
                "response = requests.get (url_command, params=url_args, timeout=60)\n",
                "\n",
                "print (\"==> Downloading from: '%s'\" % response.url) # confirm URL\n",
                "print (\"\\n==> Excerpt from this URL:\\n\\n%s\\n\" % response.text[0:10000])\n"
            ]
        },
        {
            "cell_type": "markdown",
            "metadata": {},
            "source": [
                "**Exercise 2.** Given a search topic, location, and a rank $k$, return the name of the $k$-th item of a Yelp! search. If there is no $k$-th item, return `None`.\n",
                "\n",
                "> The demo query above only gives you a website with the top 10 items, meaning you could only use it for $k \\leq 10$. Figure out how to modify it to solve the problem when $k > 10$."
            ]
        },
        {
            "cell_type": "code",
            "execution_count": 7,
            "metadata": {
                "collapsed": true,
                "nbgrader": {
                    "grade": false,
                    "grade_id": "yelp_find_item",
                    "locked": false,
                    "schema_version": 1,
                    "solution": true
                }
            },
            "outputs": [],
            "source": [
                "def find_yelp_item (topic, location, k):\n",
                "    \"\"\"Returns the k-th suggested item from Yelp! in Atlanta for the given topic.\"\"\"\n",
                "    # ANSWER:\n",
                "    import re\n",
                "    if k < 1: return None\n",
                "        \n",
                "    # Download page\n",
                "    url_command = 'https:\/\/yelp.com\/search'\n",
                "    url_args = {'find_desc': topic,\n",
                "                'find_loc': location,\n",
                "                'start': k-1\n",
                "               }\n",
                "\n",
                "    response = requests.get (url_command, params=url_args)\n",
                "\n",
                "    if not response: return None\n",
                "    print('Downloaded from: {}'.format(response.url))\n",
                "    \n",
                "    # Look for the line containing the name of the k-th item\n",
                "    item_pattern = re.compile ('<span class=\"indexed-biz-name\">{}\\.[ \\n\\t]*.*<span >(?P<item_name>.*)<\/span><\/a>'.format(k))\n",
                "    \n",
                "    item_matches = item_pattern.findall(response.text)\n",
                "\n",
                "    # Return the first match\n",
                "    if(len(item_matches) > 0):\n",
                "        return str(item_matches[0])\n",
                "    \n",
                "    # No matches, evidently\n",
                "    return None"
            ]
        },
        {
            "cell_type": "code",
            "execution_count": 8,
            "metadata": {
                "collapsed": true,
                "nbgrader": {
                    "grade": true,
                    "grade_id": "yelp_atl__test1",
                    "locked": true,
                    "points": 0,
                    "schema_version": 1,
                    "solution": false
                },
                "editable": false,
                "deletable": false
            },
            "outputs": [],
            "source": [
                "assert find_yelp_item('fried chicken', 'Atlanta, GA', -1) is None # Tests an invalid value for 'k'"
            ]
        },
        {
            "cell_type": "markdown",
            "metadata": {
                "nbgrader": {
                    "grade": false,
                    "grade_id": "cell-a0a49b831193d0de",
                    "locked": true,
                    "schema_version": 1,
                    "solution": false
                },
                "editable": false,
                "deletable": false
            },
            "source": [
                "> Search queries on Yelp! don't always return the same answers, since the site is always changing! Also, your results might not match a query you do via your web browser (_why not?_). As such, you should manually check your answers."
            ]
        },
        {
            "cell_type": "code",
            "execution_count": 7,
            "metadata": {
                "nbgrader": {
                    "grade": true,
                    "grade_id": "yelp_atl__test2",
                    "locked": true,
                    "points": 0,
                    "schema_version": 1,
                    "solution": false
                },
                "editable": false,
                "deletable": false
            },
            "outputs": [
                {
                    "name": "stdout",
                    "output_type": "stream",
                    "text": [
                        "Downloaded from: https:\/\/www.yelp.com\/search?find_desc=fried+chicken&find_loc=Atlanta%2C+GA&start=0\n",
                        "Gus\u2019s World Famous Fried Chicken\n"
                    ]
                }
            ],
            "source": [
                "item = find_yelp_item ('fried chicken', 'Atlanta, GA', 1)\n",
                "print (item)\n",
                "\n",
                "# The most likely answer on September 11, 2018:\n",
                "assert item in ['Gus\u2019s World Famous <span class=\"highlighted\">Fried<\/span> <span class=\"highlighted\">Chicken<\/span>',\n",
                "                'Gus\u2019s World Famous Fried Chicken']                "
            ]
        },
        {
            "cell_type": "code",
            "execution_count": 8,
            "metadata": {
                "nbgrader": {
                    "grade": true,
                    "grade_id": "yelp_atl__test3",
                    "locked": true,
                    "points": 0,
                    "schema_version": 1,
                    "solution": false
                },
                "editable": false,
                "deletable": false
            },
            "outputs": [
                {
                    "name": "stdout",
                    "output_type": "stream",
                    "text": [
                        "Downloaded from: https:\/\/www.yelp.com\/search?find_desc=fried+chicken&find_loc=Atlanta%2C+GA&start=4\n",
                        "Buttermilk Kitchen\n"
                    ]
                }
            ],
            "source": [
                "item = find_yelp_item ('fried chicken', 'Atlanta, GA', 5)\n",
                "print (item)\n",
                "\n",
                "# The most likely answer on September 11, 2018:\n",
                "assert item == 'Buttermilk Kitchen'"
            ]
        },
        {
            "cell_type": "code",
            "execution_count": 9,
            "metadata": {
                "nbgrader": {
                    "grade": true,
                    "grade_id": "yelp_atl__test4",
                    "locked": true,
                    "points": 0,
                    "schema_version": 1,
                    "solution": false
                },
                "editable": false,
                "deletable": false
            },
            "outputs": [
                {
                    "name": "stdout",
                    "output_type": "stream",
                    "text": [
                        "Downloaded from: https:\/\/www.yelp.com\/search?find_desc=fried+chicken&find_loc=Atlanta%2C+GA&start=9\n",
                        "Colonnade Restaurant\n"
                    ]
                }
            ],
            "source": [
                "item = find_yelp_item('fried chicken', 'Atlanta, GA', 10)\n",
                "print(item)\n",
                "\n",
                "# Most likely correct answer as of September 11, 2018:\n",
                "assert item == 'Colonnade Restaurant'"
            ]
        },
        {
            "cell_type": "markdown",
            "metadata": {
                "nbgrader": {
                    "grade": false,
                    "grade_id": "cell-79798e6a4a127482",
                    "locked": true,
                    "schema_version": 1,
                    "solution": false
                },
                "editable": false,
                "deletable": false
            },
            "source": [
                "One issue with the above exercises is that they treat HTML as a flat string, whereas the document is at least semi-structured. Moreover, web pages are such a common source of data today that you would expect better tools for processing them. Indeed, such tools exist! The next part of this assignment, Part 1, walks you through one such tool. So, head there when you are ready!"
            ]
        },
        {
            "cell_type": "code",
            "execution_count": null,
            "metadata": {
                "collapsed": true
            },
            "outputs": [],
            "source": []
        }
    ],
    "metadata": {
        "anaconda-cloud": [],
        "celltoolbar": "Create Assignment",
        "kernelspec": {
            "display_name": "Python 3 [3.6]",
            "language": "python",
            "name": "python3"
        },
        "language_info": {
            "codemirror_mode": {
                "name": "ipython",
                "version": 3
            },
            "file_extension": ".py",
            "mimetype": "text\/x-python",
            "name": "python",
            "nbconvert_exporter": "python",
            "pygments_lexer": "ipython3",
            "version": "3.6.4"
        }
    },
    "nbformat": 4,
    "nbformat_minor": 1
}