{
    "cells": [
        {
            "cell_type": "markdown",
            "metadata": {},
            "source": [
                "# Pandas walk-through: Federal Election Commission dataset\n",
                "\n",
                "This walk-through is adapted from Chapter 14.5 of Wes McKinney's book, [Python for Data Analysis](http:\/\/shop.oreilly.com\/product\/0636920023784.do) (3rd edition)."
            ]
        },
        {
            "cell_type": "code",
            "execution_count": null,
            "metadata": {},
            "outputs": [],
            "source": [
                "%matplotlib inline\n",
                "import pandas as pd\n",
                "print(pd.__version__)"
            ]
        },
        {
            "cell_type": "markdown",
            "metadata": {},
            "source": [
                "# Setup\n",
                "\n",
                "The following code cell imports a local Python module (stored in `cse6040utils.py`) and uses one of its utility functions to open the sample dataset.\n",
                "\n",
                "> Note: Due to the size of the data file, we are not making it available for download. You will need to run this notebook on Vocareum."
            ]
        },
        {
            "cell_type": "code",
            "execution_count": null,
            "metadata": {},
            "outputs": [],
            "source": [
                "from cse6040utils import download_dataset\n",
                "local_data = download_dataset({'P00000001-ALL.csv': '31df639d0b5dbd3b6d755f91d6bf6fb4'}, vocareum_only=True)"
            ]
        },
        {
            "cell_type": "markdown",
            "metadata": {},
            "source": [
                "# Initial exploration and clean-up"
            ]
        },
        {
            "cell_type": "code",
            "execution_count": null,
            "metadata": {
                "scrolled": true
            },
            "outputs": [],
            "source": [
                "# Load CSV file\n",
                "fecdata = pd.read_csv(local_data['P00000001-ALL.csv'])\n",
                "fecdata.head()"
            ]
        },
        {
            "cell_type": "code",
            "execution_count": null,
            "metadata": {},
            "outputs": [],
            "source": [
                "fecdata.info()"
            ]
        },
        {
            "cell_type": "markdown",
            "metadata": {},
            "source": [
                "Get a random sample:"
            ]
        },
        {
            "cell_type": "code",
            "execution_count": null,
            "metadata": {},
            "outputs": [],
            "source": [
                "fecdata.sample(5)"
            ]
        },
        {
            "cell_type": "markdown",
            "metadata": {},
            "source": [
                "Summarize numerical data (`.describe()`):"
            ]
        },
        {
            "cell_type": "code",
            "execution_count": null,
            "metadata": {},
            "outputs": [],
            "source": [
                "fecdata.describe()"
            ]
        },
        {
            "cell_type": "markdown",
            "metadata": {},
            "source": [
                "Get a list of the unique candidates (`unique_candidates`):"
            ]
        },
        {
            "cell_type": "code",
            "execution_count": null,
            "metadata": {},
            "outputs": [],
            "source": [
                "unique_candidates = fecdata['cand_nm'].unique()\n",
                "unique_candidates"
            ]
        },
        {
            "cell_type": "markdown",
            "metadata": {},
            "source": [
                "Assign party affiliations (they are all Republicans except for Barack Obama):"
            ]
        },
        {
            "cell_type": "code",
            "execution_count": null,
            "metadata": {},
            "outputs": [],
            "source": [
                "party_affiliations = {name: 'D' if name == 'Obama, Barack' else 'R' for name in unique_candidates}\n",
                "party_affiliations"
            ]
        },
        {
            "cell_type": "code",
            "execution_count": null,
            "metadata": {},
            "outputs": [],
            "source": [
                "candidate_sample = fecdata['cand_nm'].sample(5)\n",
                "candidate_sample"
            ]
        },
        {
            "cell_type": "code",
            "execution_count": null,
            "metadata": {},
            "outputs": [],
            "source": [
                "candidate_sample.map(party_affiliations)"
            ]
        },
        {
            "cell_type": "code",
            "execution_count": null,
            "metadata": {
                "collapsed": true
            },
            "outputs": [],
            "source": [
                "fecdata['party'] = fecdata['cand_nm'].map(party_affiliations)"
            ]
        },
        {
            "cell_type": "code",
            "execution_count": null,
            "metadata": {},
            "outputs": [],
            "source": [
                "fecdata.sample(5)"
            ]
        },
        {
            "cell_type": "markdown",
            "metadata": {},
            "source": [
                "# Total contributions by party and candidate"
            ]
        },
        {
            "cell_type": "markdown",
            "metadata": {},
            "source": [
                "What was the total amount of contributions (in millions of dollars)?"
            ]
        },
        {
            "cell_type": "code",
            "execution_count": null,
            "metadata": {},
            "outputs": [],
            "source": [
                "fecdata['contb_receipt_amt'].sum()*1e-6 # millions of dollars"
            ]
        },
        {
            "cell_type": "markdown",
            "metadata": {},
            "source": [
                "Which **party** got more individual donations (transactions, not total dollars)?"
            ]
        },
        {
            "cell_type": "code",
            "execution_count": null,
            "metadata": {},
            "outputs": [],
            "source": [
                "fecdata['party'].value_counts()"
            ]
        },
        {
            "cell_type": "markdown",
            "metadata": {},
            "source": [
                "Which party got more total dollars?"
            ]
        },
        {
            "cell_type": "code",
            "execution_count": null,
            "metadata": {},
            "outputs": [],
            "source": [
                "fecdata.groupby('party')['contb_receipt_amt'].sum()*1e-6"
            ]
        },
        {
            "cell_type": "markdown",
            "metadata": {},
            "source": [
                "Filter all the data to include only the two main candidates, Romney and Obama."
            ]
        },
        {
            "cell_type": "code",
            "execution_count": null,
            "metadata": {
                "collapsed": true
            },
            "outputs": [],
            "source": [
                "keep_candidates = {'Obama, Barack', 'Romney, Mitt'}"
            ]
        },
        {
            "cell_type": "code",
            "execution_count": null,
            "metadata": {},
            "outputs": [],
            "source": [
                "fecmain = fecdata[fecdata['cand_nm'].isin(keep_candidates)].copy()\n",
                "print(fecmain['cand_nm'].unique())\n",
                "display(fecmain.sample(5))\n",
                "display(fecmain.groupby('cand_nm')['contb_receipt_amt'].sum()*1e-6)"
            ]
        },
        {
            "cell_type": "markdown",
            "metadata": {},
            "source": [
                "# Who contributes?"
            ]
        },
        {
            "cell_type": "markdown",
            "metadata": {},
            "source": [
                "Get a list of top occupations:"
            ]
        },
        {
            "cell_type": "code",
            "execution_count": null,
            "metadata": {},
            "outputs": [],
            "source": [
                "len(fecmain['contbr_occupation'].unique())"
            ]
        },
        {
            "cell_type": "code",
            "execution_count": null,
            "metadata": {},
            "outputs": [],
            "source": [
                "fecmain['contbr_occupation'].value_counts()"
            ]
        },
        {
            "cell_type": "markdown",
            "metadata": {},
            "source": [
                "Replace synonyms: (also: `dict.get()`)"
            ]
        },
        {
            "cell_type": "code",
            "execution_count": null,
            "metadata": {
                "collapsed": true
            },
            "outputs": [],
            "source": [
                "occ_mapping = {'INFORMATION REQUESTED': 'NOT PROVIDED',\n",
                "               'INFORMATION REQUESTED PER BEST EFFORTS': 'NOT PROVIDED',\n",
                "               'INFORMATION REQUESTED (BEST EFFORTS)': 'NOT PROVIDED',\n",
                "               'C.E.O.': 'CEO'}"
            ]
        },
        {
            "cell_type": "code",
            "execution_count": null,
            "metadata": {},
            "outputs": [],
            "source": [
                "fecmain['contbr_occupation'].map(occ_mapping)"
            ]
        },
        {
            "cell_type": "code",
            "execution_count": null,
            "metadata": {},
            "outputs": [],
            "source": [
                "# .get()!\n",
                "print(occ_mapping.get('PROFESSOR'))\n",
                "print(occ_mapping.get('PROFESSOR', 'PROFESSOR'))"
            ]
        },
        {
            "cell_type": "code",
            "execution_count": null,
            "metadata": {
                "collapsed": true
            },
            "outputs": [],
            "source": [
                "fecmain['contbr_occupation'] = fecmain['contbr_occupation'].map(lambda x: occ_mapping.get(x, x))"
            ]
        },
        {
            "cell_type": "code",
            "execution_count": null,
            "metadata": {},
            "outputs": [],
            "source": [
                "fecmain['contbr_occupation']"
            ]
        },
        {
            "cell_type": "markdown",
            "metadata": {},
            "source": [
                "Synonymous employer mappings:"
            ]
        },
        {
            "cell_type": "code",
            "execution_count": null,
            "metadata": {},
            "outputs": [],
            "source": [
                "emp_mapping = occ_mapping.copy()\n",
                "emp_mapping['SELF'] = 'SELF-EMPLOYED'\n",
                "emp_mapping['SELF EMPLOYED'] = 'SELF-EMPLOYED'\n",
                "emp_mapping"
            ]
        },
        {
            "cell_type": "code",
            "execution_count": null,
            "metadata": {
                "collapsed": true
            },
            "outputs": [],
            "source": [
                "fecmain['contbr_employer'] = fecmain['contbr_employer'].map(lambda x: emp_mapping.get(x, x))"
            ]
        },
        {
            "cell_type": "markdown",
            "metadata": {},
            "source": [
                "Create a \"pivot table\" that shows occupations as rows and party affiliation as columns, summing the individual contributions."
            ]
        },
        {
            "cell_type": "code",
            "execution_count": null,
            "metadata": {},
            "outputs": [],
            "source": [
                "by_occ = fecmain.pivot_table('contb_receipt_amt', index='contbr_occupation', columns='party', aggfunc='sum')\n",
                "by_occ"
            ]
        },
        {
            "cell_type": "markdown",
            "metadata": {},
            "source": [
                "Determine which occupations account for $1 million or more in contributions. Compare the amounts between the two party affiliations. (Bonus: Make a plot to compare these visually.)"
            ]
        },
        {
            "cell_type": "code",
            "execution_count": null,
            "metadata": {},
            "outputs": [],
            "source": [
                "over_1mil = by_occ[by_occ.sum(axis=1) > 1e6]*1e-6\n",
                "len(over_1mil)"
            ]
        },
        {
            "cell_type": "code",
            "execution_count": null,
            "metadata": {},
            "outputs": [],
            "source": [
                "over_1mil"
            ]
        },
        {
            "cell_type": "code",
            "execution_count": null,
            "metadata": {
                "collapsed": true
            },
            "outputs": [],
            "source": [
                "sorted_occ = over_1mil.sum(axis=1).sort_values()"
            ]
        },
        {
            "cell_type": "code",
            "execution_count": null,
            "metadata": {},
            "outputs": [],
            "source": [
                "over_1mil_sorted = over_1mil.loc[sorted_occ.index]\n",
                "over_1mil_sorted.plot(kind='barh', stacked=True, figsize=(10, 6));"
            ]
        },
        {
            "cell_type": "markdown",
            "metadata": {},
            "source": [
                "# Simple ranking"
            ]
        },
        {
            "cell_type": "markdown",
            "metadata": {},
            "source": [
                "Determine largest donors:"
            ]
        },
        {
            "cell_type": "code",
            "execution_count": null,
            "metadata": {},
            "outputs": [],
            "source": [
                "largest_donors = fecmain['contb_receipt_amt'].nlargest(7)\n",
                "largest_donors"
            ]
        },
        {
            "cell_type": "code",
            "execution_count": null,
            "metadata": {},
            "outputs": [],
            "source": [
                "fecmain.loc[largest_donors.index]"
            ]
        },
        {
            "cell_type": "markdown",
            "metadata": {},
            "source": [
                "Display largest donors, grouped by candidate:"
            ]
        },
        {
            "cell_type": "code",
            "execution_count": null,
            "metadata": {},
            "outputs": [],
            "source": [
                "grouped = fecmain.groupby('cand_nm')\n",
                "grouped['contb_receipt_amt'].nlargest(3)"
            ]
        },
        {
            "cell_type": "markdown",
            "metadata": {},
            "source": [
                "`.apply()` for groups:"
            ]
        },
        {
            "cell_type": "code",
            "execution_count": null,
            "metadata": {},
            "outputs": [],
            "source": [
                "grouped.apply(lambda x: type(x))"
            ]
        },
        {
            "cell_type": "markdown",
            "metadata": {},
            "source": [
                "Use `.apply()` to get `DataFrame` objects showing the largest donors, grouped by candidate _and_ occupation:"
            ]
        },
        {
            "cell_type": "code",
            "execution_count": null,
            "metadata": {},
            "outputs": [],
            "source": [
                "def top_amounts_by_occupation(df, n=5):\n",
                "    # Fill me in!\n",
                "    totals = df.groupby('contbr_occupation')['contb_receipt_amt'].sum()\n",
                "    return totals.nlargest(n)\n",
                "\n",
                "top_amounts_by_occupation(fecmain)"
            ]
        },
        {
            "cell_type": "code",
            "execution_count": null,
            "metadata": {},
            "outputs": [],
            "source": [
                "grouped.apply(top_amounts_by_occupation, n=10)"
            ]
        },
        {
            "cell_type": "markdown",
            "metadata": {},
            "source": [
                "# Big vs. small donations"
            ]
        },
        {
            "cell_type": "markdown",
            "metadata": {},
            "source": [
                "For each of the leading two candidates, did most of their money come from large or small donations?"
            ]
        },
        {
            "cell_type": "code",
            "execution_count": null,
            "metadata": {},
            "outputs": [],
            "source": [
                "bins = [0] + [10**k for k in range(0, 8)]\n",
                "bins"
            ]
        },
        {
            "cell_type": "code",
            "execution_count": null,
            "metadata": {},
            "outputs": [],
            "source": [
                "labels = pd.cut(fecmain['contb_receipt_amt'], bins, right=False)\n",
                "labels[:5]"
            ]
        },
        {
            "cell_type": "code",
            "execution_count": null,
            "metadata": {},
            "outputs": [],
            "source": [
                "grouped = fecmain.groupby(['cand_nm', labels])\n",
                "grouped.size()"
            ]
        },
        {
            "cell_type": "markdown",
            "metadata": {},
            "source": [
                "**Fin!**"
            ]
        }
    ],
    "metadata": {
        "kernel_info": {
            "name": "python3"
        },
        "kernelspec": {
            "display_name": "Python 3 [3.6]",
            "language": "python",
            "name": "python3"
        },
        "language_info": {
            "codemirror_mode": {
                "name": "ipython",
                "version": 3
            },
            "file_extension": ".py",
            "mimetype": "text\/x-python",
            "name": "python",
            "nbconvert_exporter": "python",
            "pygments_lexer": "ipython3",
            "version": "3.6.4"
        },
        "nteract": {
            "version": "0.11.9"
        }
    },
    "nbformat": 4,
    "nbformat_minor": 2
}